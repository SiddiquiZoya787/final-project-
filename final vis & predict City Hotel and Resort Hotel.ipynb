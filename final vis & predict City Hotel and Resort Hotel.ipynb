{
 "cells": [
  {
   "cell_type": "markdown",
   "metadata": {},
   "source": [
    "Import the Libraries:"
   ]
  },
  {
   "cell_type": "code",
   "execution_count": 1,
   "metadata": {},
   "outputs": [],
   "source": [
    "import pandas as pd\n",
    "import matplotlib.pyplot as plt\n",
    "import numpy as np\n",
    "import seaborn as sns\n",
    "from sklearn import tree\n",
    "from sklearn.model_selection import train_test_split\n",
    "from sklearn.tree import DecisionTreeClassifier\n",
    "import graphviz\n",
    "from sklearn.tree import export_graphviz\n",
    "from sklearn.metrics import classification_report, confusion_matrix\n",
    "%matplotlib inline"
   ]
  },
  {
   "cell_type": "code",
   "execution_count": 2,
   "metadata": {},
   "outputs": [],
   "source": [
    "pd.set_option('display.max_columns', None)"
   ]
  },
  {
   "cell_type": "code",
   "execution_count": 3,
   "metadata": {},
   "outputs": [],
   "source": [
    "#Load the data\n",
    "df=pd.read_csv(\"city hotel & resort hotel.csv.csv\")"
   ]
  },
  {
   "cell_type": "code",
   "execution_count": 4,
   "metadata": {},
   "outputs": [
    {
     "data": {
      "text/plain": [
       "Timestamp                                                    object\n",
       "What do you like to prefer more?                             object\n",
       "Why do you like to hangout in this hotel?                    object\n",
       "Which kind of facilities are given in COVID-19 situation?    object\n",
       "Are you satisfied with the above facilities?                 object\n",
       "What was the reason for your visit?                          object\n",
       "Were you alone or in a group?                                object\n",
       "Why  did you choose this hotel?                              object\n",
       "Were the staff friendly and helpful?                         object\n",
       "Did you eat at the hotel?                                    object\n",
       "How would you rate the hotel?                                object\n",
       "Food Hygiene rating.                                         object\n",
       "How Likely are you to stay at this hotel again?              object\n",
       "Overall were you satisfied ,dissatisfied , or neither?       object\n",
       "Would you like to suggest them to improve their service?     object\n",
       "How Likely are you to recommend this hotel?                  object\n",
       "dtype: object"
      ]
     },
     "execution_count": 4,
     "metadata": {},
     "output_type": "execute_result"
    }
   ],
   "source": [
    "#Get the datatypesof the columns\n",
    "df.dtypes"
   ]
  },
  {
   "cell_type": "code",
   "execution_count": 5,
   "metadata": {},
   "outputs": [
    {
     "data": {
      "text/html": [
       "<div>\n",
       "<style scoped>\n",
       "    .dataframe tbody tr th:only-of-type {\n",
       "        vertical-align: middle;\n",
       "    }\n",
       "\n",
       "    .dataframe tbody tr th {\n",
       "        vertical-align: top;\n",
       "    }\n",
       "\n",
       "    .dataframe thead th {\n",
       "        text-align: right;\n",
       "    }\n",
       "</style>\n",
       "<table border=\"1\" class=\"dataframe\">\n",
       "  <thead>\n",
       "    <tr style=\"text-align: right;\">\n",
       "      <th></th>\n",
       "      <th>Timestamp</th>\n",
       "      <th>What do you like to prefer more?</th>\n",
       "      <th>Why do you like to hangout in this hotel?</th>\n",
       "      <th>Which kind of facilities are given in COVID-19 situation?</th>\n",
       "      <th>Are you satisfied with the above facilities?</th>\n",
       "      <th>What was the reason for your visit?</th>\n",
       "      <th>Were you alone or in a group?</th>\n",
       "      <th>Why  did you choose this hotel?</th>\n",
       "      <th>Were the staff friendly and helpful?</th>\n",
       "      <th>Did you eat at the hotel?</th>\n",
       "      <th>How would you rate the hotel?</th>\n",
       "      <th>Food Hygiene rating.</th>\n",
       "      <th>How Likely are you to stay at this hotel again?</th>\n",
       "      <th>Overall were you satisfied ,dissatisfied , or neither?</th>\n",
       "      <th>Would you like to suggest them to improve their service?</th>\n",
       "      <th>How Likely are you to recommend this hotel?</th>\n",
       "    </tr>\n",
       "  </thead>\n",
       "  <tbody>\n",
       "    <tr>\n",
       "      <th>0</th>\n",
       "      <td>20/02/2021 13:13:48</td>\n",
       "      <td>Resort hotel</td>\n",
       "      <td>Good Environment</td>\n",
       "      <td>Sanitization</td>\n",
       "      <td>Yes</td>\n",
       "      <td>Budget friendly</td>\n",
       "      <td>Group</td>\n",
       "      <td>Good Facility</td>\n",
       "      <td>Yes</td>\n",
       "      <td>Yes</td>\n",
       "      <td>Excellent</td>\n",
       "      <td>Excellent</td>\n",
       "      <td>Yes</td>\n",
       "      <td>Satisfied</td>\n",
       "      <td>No</td>\n",
       "      <td>Very Nice</td>\n",
       "    </tr>\n",
       "    <tr>\n",
       "      <th>1</th>\n",
       "      <td>20/02/2021 13:16:53</td>\n",
       "      <td>Resort hotel</td>\n",
       "      <td>Facility, Good Environment, Affordable, Food a...</td>\n",
       "      <td>Sanitization, Temperature Checking, Mask</td>\n",
       "      <td>Yes</td>\n",
       "      <td>For the trip</td>\n",
       "      <td>Group</td>\n",
       "      <td>Good Facility</td>\n",
       "      <td>Yes</td>\n",
       "      <td>Yes</td>\n",
       "      <td>Good</td>\n",
       "      <td>Generally Satisfactory</td>\n",
       "      <td>May be</td>\n",
       "      <td>Satisfied</td>\n",
       "      <td>Yes</td>\n",
       "      <td>good</td>\n",
       "    </tr>\n",
       "    <tr>\n",
       "      <th>2</th>\n",
       "      <td>20/02/2021 13:46:01</td>\n",
       "      <td>Resort hotel</td>\n",
       "      <td>Facility, Good Environment</td>\n",
       "      <td>Sanitization, Temperature Checking, Mask</td>\n",
       "      <td>Yes</td>\n",
       "      <td>For the trip</td>\n",
       "      <td>Group</td>\n",
       "      <td>Good Facility</td>\n",
       "      <td>Yes</td>\n",
       "      <td>Yes</td>\n",
       "      <td>Excellent</td>\n",
       "      <td>Very Good</td>\n",
       "      <td>May be</td>\n",
       "      <td>Satisfied</td>\n",
       "      <td>No</td>\n",
       "      <td>Very good</td>\n",
       "    </tr>\n",
       "    <tr>\n",
       "      <th>3</th>\n",
       "      <td>20/02/2021 13:46:08</td>\n",
       "      <td>Resort hotel</td>\n",
       "      <td>Facility, Good Environment</td>\n",
       "      <td>Sanitization, Temperature Checking, Mask</td>\n",
       "      <td>Yes</td>\n",
       "      <td>For the trip</td>\n",
       "      <td>Group</td>\n",
       "      <td>Good Facility</td>\n",
       "      <td>Yes</td>\n",
       "      <td>Yes</td>\n",
       "      <td>Excellent</td>\n",
       "      <td>Very Good</td>\n",
       "      <td>May be</td>\n",
       "      <td>Satisfied</td>\n",
       "      <td>No</td>\n",
       "      <td>Very good</td>\n",
       "    </tr>\n",
       "    <tr>\n",
       "      <th>4</th>\n",
       "      <td>20/02/2021 13:57:17</td>\n",
       "      <td>City hotel</td>\n",
       "      <td>Good Environment</td>\n",
       "      <td>Sanitization, Temperature Checking</td>\n",
       "      <td>No</td>\n",
       "      <td>For the trip</td>\n",
       "      <td>Group</td>\n",
       "      <td>Good Facility, Acessibility, Dinning Option, S...</td>\n",
       "      <td>Yes</td>\n",
       "      <td>Yes</td>\n",
       "      <td>Good</td>\n",
       "      <td>Generally Satisfactory</td>\n",
       "      <td>May be</td>\n",
       "      <td>Satisfied</td>\n",
       "      <td>Yes</td>\n",
       "      <td>Yes I will recommend this hotel</td>\n",
       "    </tr>\n",
       "  </tbody>\n",
       "</table>\n",
       "</div>"
      ],
      "text/plain": [
       "             Timestamp What do you like to prefer more?  \\\n",
       "0  20/02/2021 13:13:48                     Resort hotel   \n",
       "1  20/02/2021 13:16:53                     Resort hotel   \n",
       "2  20/02/2021 13:46:01                     Resort hotel   \n",
       "3  20/02/2021 13:46:08                     Resort hotel   \n",
       "4  20/02/2021 13:57:17                       City hotel   \n",
       "\n",
       "           Why do you like to hangout in this hotel?  \\\n",
       "0                                   Good Environment   \n",
       "1  Facility, Good Environment, Affordable, Food a...   \n",
       "2                         Facility, Good Environment   \n",
       "3                         Facility, Good Environment   \n",
       "4                                   Good Environment   \n",
       "\n",
       "  Which kind of facilities are given in COVID-19 situation?  \\\n",
       "0                                       Sanitization          \n",
       "1           Sanitization, Temperature Checking, Mask          \n",
       "2           Sanitization, Temperature Checking, Mask          \n",
       "3           Sanitization, Temperature Checking, Mask          \n",
       "4                 Sanitization, Temperature Checking          \n",
       "\n",
       "  Are you satisfied with the above facilities?  \\\n",
       "0                                          Yes   \n",
       "1                                          Yes   \n",
       "2                                          Yes   \n",
       "3                                          Yes   \n",
       "4                                           No   \n",
       "\n",
       "  What was the reason for your visit? Were you alone or in a group?  \\\n",
       "0                     Budget friendly                         Group   \n",
       "1                        For the trip                         Group   \n",
       "2                        For the trip                         Group   \n",
       "3                        For the trip                         Group   \n",
       "4                        For the trip                         Group   \n",
       "\n",
       "                     Why  did you choose this hotel?  \\\n",
       "0                                      Good Facility   \n",
       "1                                      Good Facility   \n",
       "2                                      Good Facility   \n",
       "3                                      Good Facility   \n",
       "4  Good Facility, Acessibility, Dinning Option, S...   \n",
       "\n",
       "  Were the staff friendly and helpful? Did you eat at the hotel?  \\\n",
       "0                                  Yes                       Yes   \n",
       "1                                  Yes                       Yes   \n",
       "2                                  Yes                       Yes   \n",
       "3                                  Yes                       Yes   \n",
       "4                                  Yes                       Yes   \n",
       "\n",
       "  How would you rate the hotel?    Food Hygiene rating.  \\\n",
       "0                     Excellent               Excellent   \n",
       "1                          Good  Generally Satisfactory   \n",
       "2                     Excellent               Very Good   \n",
       "3                     Excellent               Very Good   \n",
       "4                          Good  Generally Satisfactory   \n",
       "\n",
       "  How Likely are you to stay at this hotel again?  \\\n",
       "0                                             Yes   \n",
       "1                                          May be   \n",
       "2                                          May be   \n",
       "3                                          May be   \n",
       "4                                          May be   \n",
       "\n",
       "  Overall were you satisfied ,dissatisfied , or neither?   \\\n",
       "0                                          Satisfied        \n",
       "1                                          Satisfied        \n",
       "2                                          Satisfied        \n",
       "3                                          Satisfied        \n",
       "4                                          Satisfied        \n",
       "\n",
       "  Would you like to suggest them to improve their service?   \\\n",
       "0                                                 No          \n",
       "1                                                Yes          \n",
       "2                                                 No          \n",
       "3                                                 No          \n",
       "4                                                Yes          \n",
       "\n",
       "  How Likely are you to recommend this hotel?  \n",
       "0                                   Very Nice  \n",
       "1                                       good   \n",
       "2                                   Very good  \n",
       "3                                   Very good  \n",
       "4             Yes I will recommend this hotel  "
      ]
     },
     "execution_count": 5,
     "metadata": {},
     "output_type": "execute_result"
    }
   ],
   "source": [
    "#looking at first rows of the data\n",
    "df.head()"
   ]
  },
  {
   "cell_type": "code",
   "execution_count": 6,
   "metadata": {},
   "outputs": [],
   "source": [
    "df.rename(columns={'What do you like to prefer more?':'Hotel Type',\n",
    "                   'Why do you like to hangout in this hotel?':'Hangout',\n",
    "                  'Which kind of facilities are given in COVID-19 situation?':'COVID-19 Situation',\n",
    "                  'Are you satisfied with the above facilities?':'satisfied',\n",
    "                  'What was the reason for your visit?':'Reason',\n",
    "                   'Were you alone or in a group?':'Visit Types',\n",
    "                  'Why did you choose this hotel?':'Choose this hotel',\n",
    "                  'Were the staff friendly and helpful?':'staff friendly and helpful',\n",
    "                  'Did you eat at the hotel?':'eat at the hotel',\n",
    "                  'How would you rate the hotel?':'Rating',\n",
    "                  'Food Hygiene rating':'Food Hygiene',\n",
    "                  'How Likely are you to stay at this hotel again?':'stay hotel again',\n",
    "                  'Overall were you satisfied ,dissatisfied , or neither? ':'Overall',\n",
    "                  'Would you like to suggest them to improve their service? ':'Suggestion','How Likely are you to recommend this hotel?':'Recommend'},inplace=True)"
   ]
  },
  {
   "cell_type": "code",
   "execution_count": 7,
   "metadata": {},
   "outputs": [
    {
     "data": {
      "text/html": [
       "<div>\n",
       "<style scoped>\n",
       "    .dataframe tbody tr th:only-of-type {\n",
       "        vertical-align: middle;\n",
       "    }\n",
       "\n",
       "    .dataframe tbody tr th {\n",
       "        vertical-align: top;\n",
       "    }\n",
       "\n",
       "    .dataframe thead th {\n",
       "        text-align: right;\n",
       "    }\n",
       "</style>\n",
       "<table border=\"1\" class=\"dataframe\">\n",
       "  <thead>\n",
       "    <tr style=\"text-align: right;\">\n",
       "      <th></th>\n",
       "      <th>Timestamp</th>\n",
       "      <th>Hotel Type</th>\n",
       "      <th>Hangout</th>\n",
       "      <th>COVID-19 Situation</th>\n",
       "      <th>satisfied</th>\n",
       "      <th>Reason</th>\n",
       "      <th>Visit Types</th>\n",
       "      <th>Why  did you choose this hotel?</th>\n",
       "      <th>staff friendly and helpful</th>\n",
       "      <th>eat at the hotel</th>\n",
       "      <th>Rating</th>\n",
       "      <th>Food Hygiene rating.</th>\n",
       "      <th>stay hotel again</th>\n",
       "      <th>Overall</th>\n",
       "      <th>Suggestion</th>\n",
       "      <th>Recommend</th>\n",
       "    </tr>\n",
       "  </thead>\n",
       "  <tbody>\n",
       "    <tr>\n",
       "      <th>0</th>\n",
       "      <td>20/02/2021 13:13:48</td>\n",
       "      <td>Resort hotel</td>\n",
       "      <td>Good Environment</td>\n",
       "      <td>Sanitization</td>\n",
       "      <td>Yes</td>\n",
       "      <td>Budget friendly</td>\n",
       "      <td>Group</td>\n",
       "      <td>Good Facility</td>\n",
       "      <td>Yes</td>\n",
       "      <td>Yes</td>\n",
       "      <td>Excellent</td>\n",
       "      <td>Excellent</td>\n",
       "      <td>Yes</td>\n",
       "      <td>Satisfied</td>\n",
       "      <td>No</td>\n",
       "      <td>Very Nice</td>\n",
       "    </tr>\n",
       "    <tr>\n",
       "      <th>1</th>\n",
       "      <td>20/02/2021 13:16:53</td>\n",
       "      <td>Resort hotel</td>\n",
       "      <td>Facility, Good Environment, Affordable, Food a...</td>\n",
       "      <td>Sanitization, Temperature Checking, Mask</td>\n",
       "      <td>Yes</td>\n",
       "      <td>For the trip</td>\n",
       "      <td>Group</td>\n",
       "      <td>Good Facility</td>\n",
       "      <td>Yes</td>\n",
       "      <td>Yes</td>\n",
       "      <td>Good</td>\n",
       "      <td>Generally Satisfactory</td>\n",
       "      <td>May be</td>\n",
       "      <td>Satisfied</td>\n",
       "      <td>Yes</td>\n",
       "      <td>good</td>\n",
       "    </tr>\n",
       "    <tr>\n",
       "      <th>2</th>\n",
       "      <td>20/02/2021 13:46:01</td>\n",
       "      <td>Resort hotel</td>\n",
       "      <td>Facility, Good Environment</td>\n",
       "      <td>Sanitization, Temperature Checking, Mask</td>\n",
       "      <td>Yes</td>\n",
       "      <td>For the trip</td>\n",
       "      <td>Group</td>\n",
       "      <td>Good Facility</td>\n",
       "      <td>Yes</td>\n",
       "      <td>Yes</td>\n",
       "      <td>Excellent</td>\n",
       "      <td>Very Good</td>\n",
       "      <td>May be</td>\n",
       "      <td>Satisfied</td>\n",
       "      <td>No</td>\n",
       "      <td>Very good</td>\n",
       "    </tr>\n",
       "    <tr>\n",
       "      <th>3</th>\n",
       "      <td>20/02/2021 13:46:08</td>\n",
       "      <td>Resort hotel</td>\n",
       "      <td>Facility, Good Environment</td>\n",
       "      <td>Sanitization, Temperature Checking, Mask</td>\n",
       "      <td>Yes</td>\n",
       "      <td>For the trip</td>\n",
       "      <td>Group</td>\n",
       "      <td>Good Facility</td>\n",
       "      <td>Yes</td>\n",
       "      <td>Yes</td>\n",
       "      <td>Excellent</td>\n",
       "      <td>Very Good</td>\n",
       "      <td>May be</td>\n",
       "      <td>Satisfied</td>\n",
       "      <td>No</td>\n",
       "      <td>Very good</td>\n",
       "    </tr>\n",
       "    <tr>\n",
       "      <th>4</th>\n",
       "      <td>20/02/2021 13:57:17</td>\n",
       "      <td>City hotel</td>\n",
       "      <td>Good Environment</td>\n",
       "      <td>Sanitization, Temperature Checking</td>\n",
       "      <td>No</td>\n",
       "      <td>For the trip</td>\n",
       "      <td>Group</td>\n",
       "      <td>Good Facility, Acessibility, Dinning Option, S...</td>\n",
       "      <td>Yes</td>\n",
       "      <td>Yes</td>\n",
       "      <td>Good</td>\n",
       "      <td>Generally Satisfactory</td>\n",
       "      <td>May be</td>\n",
       "      <td>Satisfied</td>\n",
       "      <td>Yes</td>\n",
       "      <td>Yes I will recommend this hotel</td>\n",
       "    </tr>\n",
       "  </tbody>\n",
       "</table>\n",
       "</div>"
      ],
      "text/plain": [
       "             Timestamp    Hotel Type  \\\n",
       "0  20/02/2021 13:13:48  Resort hotel   \n",
       "1  20/02/2021 13:16:53  Resort hotel   \n",
       "2  20/02/2021 13:46:01  Resort hotel   \n",
       "3  20/02/2021 13:46:08  Resort hotel   \n",
       "4  20/02/2021 13:57:17    City hotel   \n",
       "\n",
       "                                             Hangout  \\\n",
       "0                                   Good Environment   \n",
       "1  Facility, Good Environment, Affordable, Food a...   \n",
       "2                         Facility, Good Environment   \n",
       "3                         Facility, Good Environment   \n",
       "4                                   Good Environment   \n",
       "\n",
       "                         COVID-19 Situation satisfied           Reason  \\\n",
       "0                              Sanitization       Yes  Budget friendly   \n",
       "1  Sanitization, Temperature Checking, Mask       Yes     For the trip   \n",
       "2  Sanitization, Temperature Checking, Mask       Yes     For the trip   \n",
       "3  Sanitization, Temperature Checking, Mask       Yes     For the trip   \n",
       "4        Sanitization, Temperature Checking        No     For the trip   \n",
       "\n",
       "  Visit Types                    Why  did you choose this hotel?  \\\n",
       "0       Group                                      Good Facility   \n",
       "1       Group                                      Good Facility   \n",
       "2       Group                                      Good Facility   \n",
       "3       Group                                      Good Facility   \n",
       "4       Group  Good Facility, Acessibility, Dinning Option, S...   \n",
       "\n",
       "  staff friendly and helpful eat at the hotel     Rating  \\\n",
       "0                        Yes              Yes  Excellent   \n",
       "1                        Yes              Yes       Good   \n",
       "2                        Yes              Yes  Excellent   \n",
       "3                        Yes              Yes  Excellent   \n",
       "4                        Yes              Yes       Good   \n",
       "\n",
       "     Food Hygiene rating. stay hotel again    Overall Suggestion  \\\n",
       "0               Excellent              Yes  Satisfied         No   \n",
       "1  Generally Satisfactory           May be  Satisfied        Yes   \n",
       "2               Very Good           May be  Satisfied         No   \n",
       "3               Very Good           May be  Satisfied         No   \n",
       "4  Generally Satisfactory           May be  Satisfied        Yes   \n",
       "\n",
       "                         Recommend  \n",
       "0                        Very Nice  \n",
       "1                            good   \n",
       "2                        Very good  \n",
       "3                        Very good  \n",
       "4  Yes I will recommend this hotel  "
      ]
     },
     "execution_count": 7,
     "metadata": {},
     "output_type": "execute_result"
    }
   ],
   "source": [
    "df.head()"
   ]
  },
  {
   "cell_type": "code",
   "execution_count": 8,
   "metadata": {},
   "outputs": [],
   "source": [
    "df = df.rename(columns = {\"Why  did you choose this hotel?\" : \"Choose Hotel\"})"
   ]
  },
  {
   "cell_type": "code",
   "execution_count": 9,
   "metadata": {},
   "outputs": [],
   "source": [
    "df = df.rename(columns = {\"Overall were you satisfied, dissatisfied or neither?\":\"Overall\"})"
   ]
  },
  {
   "cell_type": "code",
   "execution_count": 10,
   "metadata": {},
   "outputs": [
    {
     "data": {
      "text/plain": [
       "Index(['Timestamp', 'Hotel Type', 'Hangout', 'COVID-19 Situation', 'satisfied',\n",
       "       'Reason', 'Visit Types', 'Choose Hotel', 'staff friendly and helpful',\n",
       "       'eat at the hotel', 'Rating', 'Food Hygiene rating.',\n",
       "       'stay hotel again', 'Overall', 'Suggestion', 'Recommend'],\n",
       "      dtype='object')"
      ]
     },
     "execution_count": 10,
     "metadata": {},
     "output_type": "execute_result"
    }
   ],
   "source": [
    "df.columns"
   ]
  },
  {
   "cell_type": "code",
   "execution_count": 11,
   "metadata": {},
   "outputs": [
    {
     "data": {
      "text/html": [
       "<div>\n",
       "<style scoped>\n",
       "    .dataframe tbody tr th:only-of-type {\n",
       "        vertical-align: middle;\n",
       "    }\n",
       "\n",
       "    .dataframe tbody tr th {\n",
       "        vertical-align: top;\n",
       "    }\n",
       "\n",
       "    .dataframe thead th {\n",
       "        text-align: right;\n",
       "    }\n",
       "</style>\n",
       "<table border=\"1\" class=\"dataframe\">\n",
       "  <thead>\n",
       "    <tr style=\"text-align: right;\">\n",
       "      <th></th>\n",
       "      <th>Timestamp</th>\n",
       "      <th>Hotel Type</th>\n",
       "      <th>Hangout</th>\n",
       "      <th>COVID-19 Situation</th>\n",
       "      <th>satisfied</th>\n",
       "      <th>Reason</th>\n",
       "      <th>Visit Types</th>\n",
       "      <th>Choose Hotel</th>\n",
       "      <th>staff friendly and helpful</th>\n",
       "      <th>eat at the hotel</th>\n",
       "      <th>Rating</th>\n",
       "      <th>Food Hygiene rating.</th>\n",
       "      <th>stay hotel again</th>\n",
       "      <th>Overall</th>\n",
       "      <th>Suggestion</th>\n",
       "      <th>Recommend</th>\n",
       "    </tr>\n",
       "  </thead>\n",
       "  <tbody>\n",
       "    <tr>\n",
       "      <th>0</th>\n",
       "      <td>20/02/2021 13:13:48</td>\n",
       "      <td>Resort hotel</td>\n",
       "      <td>Good Environment</td>\n",
       "      <td>Sanitization</td>\n",
       "      <td>Yes</td>\n",
       "      <td>Budget friendly</td>\n",
       "      <td>Group</td>\n",
       "      <td>Good Facility</td>\n",
       "      <td>Yes</td>\n",
       "      <td>Yes</td>\n",
       "      <td>Excellent</td>\n",
       "      <td>Excellent</td>\n",
       "      <td>Yes</td>\n",
       "      <td>Satisfied</td>\n",
       "      <td>No</td>\n",
       "      <td>Very Nice</td>\n",
       "    </tr>\n",
       "    <tr>\n",
       "      <th>1</th>\n",
       "      <td>20/02/2021 13:16:53</td>\n",
       "      <td>Resort hotel</td>\n",
       "      <td>Facility, Good Environment, Affordable, Food a...</td>\n",
       "      <td>Sanitization, Temperature Checking, Mask</td>\n",
       "      <td>Yes</td>\n",
       "      <td>For the trip</td>\n",
       "      <td>Group</td>\n",
       "      <td>Good Facility</td>\n",
       "      <td>Yes</td>\n",
       "      <td>Yes</td>\n",
       "      <td>Good</td>\n",
       "      <td>Generally Satisfactory</td>\n",
       "      <td>May be</td>\n",
       "      <td>Satisfied</td>\n",
       "      <td>Yes</td>\n",
       "      <td>good</td>\n",
       "    </tr>\n",
       "    <tr>\n",
       "      <th>2</th>\n",
       "      <td>20/02/2021 13:46:01</td>\n",
       "      <td>Resort hotel</td>\n",
       "      <td>Facility, Good Environment</td>\n",
       "      <td>Sanitization, Temperature Checking, Mask</td>\n",
       "      <td>Yes</td>\n",
       "      <td>For the trip</td>\n",
       "      <td>Group</td>\n",
       "      <td>Good Facility</td>\n",
       "      <td>Yes</td>\n",
       "      <td>Yes</td>\n",
       "      <td>Excellent</td>\n",
       "      <td>Very Good</td>\n",
       "      <td>May be</td>\n",
       "      <td>Satisfied</td>\n",
       "      <td>No</td>\n",
       "      <td>Very good</td>\n",
       "    </tr>\n",
       "    <tr>\n",
       "      <th>3</th>\n",
       "      <td>20/02/2021 13:46:08</td>\n",
       "      <td>Resort hotel</td>\n",
       "      <td>Facility, Good Environment</td>\n",
       "      <td>Sanitization, Temperature Checking, Mask</td>\n",
       "      <td>Yes</td>\n",
       "      <td>For the trip</td>\n",
       "      <td>Group</td>\n",
       "      <td>Good Facility</td>\n",
       "      <td>Yes</td>\n",
       "      <td>Yes</td>\n",
       "      <td>Excellent</td>\n",
       "      <td>Very Good</td>\n",
       "      <td>May be</td>\n",
       "      <td>Satisfied</td>\n",
       "      <td>No</td>\n",
       "      <td>Very good</td>\n",
       "    </tr>\n",
       "    <tr>\n",
       "      <th>4</th>\n",
       "      <td>20/02/2021 13:57:17</td>\n",
       "      <td>City hotel</td>\n",
       "      <td>Good Environment</td>\n",
       "      <td>Sanitization, Temperature Checking</td>\n",
       "      <td>No</td>\n",
       "      <td>For the trip</td>\n",
       "      <td>Group</td>\n",
       "      <td>Good Facility, Acessibility, Dinning Option, S...</td>\n",
       "      <td>Yes</td>\n",
       "      <td>Yes</td>\n",
       "      <td>Good</td>\n",
       "      <td>Generally Satisfactory</td>\n",
       "      <td>May be</td>\n",
       "      <td>Satisfied</td>\n",
       "      <td>Yes</td>\n",
       "      <td>Yes I will recommend this hotel</td>\n",
       "    </tr>\n",
       "    <tr>\n",
       "      <th>...</th>\n",
       "      <td>...</td>\n",
       "      <td>...</td>\n",
       "      <td>...</td>\n",
       "      <td>...</td>\n",
       "      <td>...</td>\n",
       "      <td>...</td>\n",
       "      <td>...</td>\n",
       "      <td>...</td>\n",
       "      <td>...</td>\n",
       "      <td>...</td>\n",
       "      <td>...</td>\n",
       "      <td>...</td>\n",
       "      <td>...</td>\n",
       "      <td>...</td>\n",
       "      <td>...</td>\n",
       "      <td>...</td>\n",
       "    </tr>\n",
       "    <tr>\n",
       "      <th>196</th>\n",
       "      <td>22/04/2021 19:41:57</td>\n",
       "      <td>City hotel</td>\n",
       "      <td>Affordable</td>\n",
       "      <td>Sanitization</td>\n",
       "      <td>Yes</td>\n",
       "      <td>For the trip</td>\n",
       "      <td>Alone</td>\n",
       "      <td>Hotel Loyalty</td>\n",
       "      <td>Yes</td>\n",
       "      <td>Yes</td>\n",
       "      <td>Good</td>\n",
       "      <td>Very Good</td>\n",
       "      <td>Yes</td>\n",
       "      <td>Satisfied</td>\n",
       "      <td>Yes</td>\n",
       "      <td>8/10</td>\n",
       "    </tr>\n",
       "    <tr>\n",
       "      <th>197</th>\n",
       "      <td>22/04/2021 19:42:25</td>\n",
       "      <td>Resort hotel</td>\n",
       "      <td>Affordable</td>\n",
       "      <td>Temperature Checking</td>\n",
       "      <td>Yes</td>\n",
       "      <td>Affordable</td>\n",
       "      <td>Group</td>\n",
       "      <td>Hotel Loyalty</td>\n",
       "      <td>Yes</td>\n",
       "      <td>Yes</td>\n",
       "      <td>Very Good</td>\n",
       "      <td>Very Good</td>\n",
       "      <td>Yes</td>\n",
       "      <td>Satisfied</td>\n",
       "      <td>Yes</td>\n",
       "      <td>8/10</td>\n",
       "    </tr>\n",
       "    <tr>\n",
       "      <th>198</th>\n",
       "      <td>22/04/2021 19:44:23</td>\n",
       "      <td>City hotel</td>\n",
       "      <td>Affordable</td>\n",
       "      <td>Temperature Checking</td>\n",
       "      <td>Yes</td>\n",
       "      <td>Affordable</td>\n",
       "      <td>Alone</td>\n",
       "      <td>Good Facility</td>\n",
       "      <td>Yes</td>\n",
       "      <td>Yes</td>\n",
       "      <td>Very Good</td>\n",
       "      <td>Very Good</td>\n",
       "      <td>Yes</td>\n",
       "      <td>Satisfied</td>\n",
       "      <td>Yes</td>\n",
       "      <td>7/10</td>\n",
       "    </tr>\n",
       "    <tr>\n",
       "      <th>199</th>\n",
       "      <td>22/04/2021 19:44:46</td>\n",
       "      <td>Resort hotel</td>\n",
       "      <td>Good Environment</td>\n",
       "      <td>Temperature Checking</td>\n",
       "      <td>Yes</td>\n",
       "      <td>Affordable</td>\n",
       "      <td>Alone</td>\n",
       "      <td>Acessibility</td>\n",
       "      <td>Yes</td>\n",
       "      <td>Yes</td>\n",
       "      <td>Very Good</td>\n",
       "      <td>Very Good</td>\n",
       "      <td>Yes</td>\n",
       "      <td>Satisfied</td>\n",
       "      <td>Yes</td>\n",
       "      <td>8/10</td>\n",
       "    </tr>\n",
       "    <tr>\n",
       "      <th>200</th>\n",
       "      <td>22/04/2021 19:45:10</td>\n",
       "      <td>Resort hotel</td>\n",
       "      <td>Affordable</td>\n",
       "      <td>Temperature Checking</td>\n",
       "      <td>Yes</td>\n",
       "      <td>For the trip</td>\n",
       "      <td>Group</td>\n",
       "      <td>Good Facility</td>\n",
       "      <td>Yes</td>\n",
       "      <td>Yes</td>\n",
       "      <td>Excellent</td>\n",
       "      <td>Excellent</td>\n",
       "      <td>Yes</td>\n",
       "      <td>Satisfied</td>\n",
       "      <td>Yes</td>\n",
       "      <td>10/10</td>\n",
       "    </tr>\n",
       "  </tbody>\n",
       "</table>\n",
       "<p>201 rows × 16 columns</p>\n",
       "</div>"
      ],
      "text/plain": [
       "               Timestamp    Hotel Type  \\\n",
       "0    20/02/2021 13:13:48  Resort hotel   \n",
       "1    20/02/2021 13:16:53  Resort hotel   \n",
       "2    20/02/2021 13:46:01  Resort hotel   \n",
       "3    20/02/2021 13:46:08  Resort hotel   \n",
       "4    20/02/2021 13:57:17    City hotel   \n",
       "..                   ...           ...   \n",
       "196  22/04/2021 19:41:57    City hotel   \n",
       "197  22/04/2021 19:42:25  Resort hotel   \n",
       "198  22/04/2021 19:44:23    City hotel   \n",
       "199  22/04/2021 19:44:46  Resort hotel   \n",
       "200  22/04/2021 19:45:10  Resort hotel   \n",
       "\n",
       "                                               Hangout  \\\n",
       "0                                     Good Environment   \n",
       "1    Facility, Good Environment, Affordable, Food a...   \n",
       "2                           Facility, Good Environment   \n",
       "3                           Facility, Good Environment   \n",
       "4                                     Good Environment   \n",
       "..                                                 ...   \n",
       "196                                         Affordable   \n",
       "197                                         Affordable   \n",
       "198                                         Affordable   \n",
       "199                                   Good Environment   \n",
       "200                                         Affordable   \n",
       "\n",
       "                           COVID-19 Situation satisfied           Reason  \\\n",
       "0                                Sanitization       Yes  Budget friendly   \n",
       "1    Sanitization, Temperature Checking, Mask       Yes     For the trip   \n",
       "2    Sanitization, Temperature Checking, Mask       Yes     For the trip   \n",
       "3    Sanitization, Temperature Checking, Mask       Yes     For the trip   \n",
       "4          Sanitization, Temperature Checking        No     For the trip   \n",
       "..                                        ...       ...              ...   \n",
       "196                              Sanitization       Yes     For the trip   \n",
       "197                      Temperature Checking       Yes       Affordable   \n",
       "198                      Temperature Checking       Yes       Affordable   \n",
       "199                      Temperature Checking       Yes       Affordable   \n",
       "200                      Temperature Checking       Yes     For the trip   \n",
       "\n",
       "    Visit Types                                       Choose Hotel  \\\n",
       "0         Group                                      Good Facility   \n",
       "1         Group                                      Good Facility   \n",
       "2         Group                                      Good Facility   \n",
       "3         Group                                      Good Facility   \n",
       "4         Group  Good Facility, Acessibility, Dinning Option, S...   \n",
       "..          ...                                                ...   \n",
       "196       Alone                                      Hotel Loyalty   \n",
       "197       Group                                      Hotel Loyalty   \n",
       "198       Alone                                      Good Facility   \n",
       "199       Alone                                       Acessibility   \n",
       "200       Group                                      Good Facility   \n",
       "\n",
       "    staff friendly and helpful eat at the hotel     Rating  \\\n",
       "0                          Yes              Yes  Excellent   \n",
       "1                          Yes              Yes       Good   \n",
       "2                          Yes              Yes  Excellent   \n",
       "3                          Yes              Yes  Excellent   \n",
       "4                          Yes              Yes       Good   \n",
       "..                         ...              ...        ...   \n",
       "196                        Yes              Yes       Good   \n",
       "197                        Yes              Yes  Very Good   \n",
       "198                        Yes              Yes  Very Good   \n",
       "199                        Yes              Yes  Very Good   \n",
       "200                        Yes              Yes  Excellent   \n",
       "\n",
       "       Food Hygiene rating. stay hotel again    Overall Suggestion  \\\n",
       "0                 Excellent              Yes  Satisfied         No   \n",
       "1    Generally Satisfactory           May be  Satisfied        Yes   \n",
       "2                 Very Good           May be  Satisfied         No   \n",
       "3                 Very Good           May be  Satisfied         No   \n",
       "4    Generally Satisfactory           May be  Satisfied        Yes   \n",
       "..                      ...              ...        ...        ...   \n",
       "196               Very Good              Yes  Satisfied        Yes   \n",
       "197               Very Good              Yes  Satisfied        Yes   \n",
       "198               Very Good              Yes  Satisfied        Yes   \n",
       "199               Very Good              Yes  Satisfied        Yes   \n",
       "200               Excellent              Yes  Satisfied        Yes   \n",
       "\n",
       "                           Recommend  \n",
       "0                          Very Nice  \n",
       "1                              good   \n",
       "2                          Very good  \n",
       "3                          Very good  \n",
       "4    Yes I will recommend this hotel  \n",
       "..                               ...  \n",
       "196                             8/10  \n",
       "197                             8/10  \n",
       "198                             7/10  \n",
       "199                             8/10  \n",
       "200                            10/10  \n",
       "\n",
       "[201 rows x 16 columns]"
      ]
     },
     "execution_count": 11,
     "metadata": {},
     "output_type": "execute_result"
    }
   ],
   "source": [
    "df"
   ]
  },
  {
   "cell_type": "code",
   "execution_count": 12,
   "metadata": {},
   "outputs": [],
   "source": [
    "df['Visit Types'] = df['Visit Types'].replace({'Alone':0,'Group':1})"
   ]
  },
  {
   "cell_type": "code",
   "execution_count": 13,
   "metadata": {},
   "outputs": [],
   "source": [
    "df['Reason'] = df['Reason'].replace({'Budget friendly':0, 'For the trip':1, 'Affordable':2, 'Facility':3, 'other':4})"
   ]
  },
  {
   "cell_type": "code",
   "execution_count": 14,
   "metadata": {},
   "outputs": [
    {
     "data": {
      "text/plain": [
       "array([0, 1, 2, 3, 4], dtype=int64)"
      ]
     },
     "execution_count": 14,
     "metadata": {},
     "output_type": "execute_result"
    }
   ],
   "source": [
    "features=df.Reason.unique()\n",
    "features"
   ]
  },
  {
   "cell_type": "code",
   "execution_count": 15,
   "metadata": {},
   "outputs": [
    {
     "data": {
      "text/html": [
       "<div>\n",
       "<style scoped>\n",
       "    .dataframe tbody tr th:only-of-type {\n",
       "        vertical-align: middle;\n",
       "    }\n",
       "\n",
       "    .dataframe tbody tr th {\n",
       "        vertical-align: top;\n",
       "    }\n",
       "\n",
       "    .dataframe thead th {\n",
       "        text-align: right;\n",
       "    }\n",
       "</style>\n",
       "<table border=\"1\" class=\"dataframe\">\n",
       "  <thead>\n",
       "    <tr style=\"text-align: right;\">\n",
       "      <th></th>\n",
       "      <th>Timestamp</th>\n",
       "      <th>Hotel Type</th>\n",
       "      <th>Hangout</th>\n",
       "      <th>COVID-19 Situation</th>\n",
       "      <th>satisfied</th>\n",
       "      <th>Reason</th>\n",
       "      <th>Visit Types</th>\n",
       "      <th>Choose Hotel</th>\n",
       "      <th>staff friendly and helpful</th>\n",
       "      <th>eat at the hotel</th>\n",
       "      <th>Rating</th>\n",
       "      <th>Food Hygiene rating.</th>\n",
       "      <th>stay hotel again</th>\n",
       "      <th>Overall</th>\n",
       "      <th>Suggestion</th>\n",
       "      <th>Recommend</th>\n",
       "    </tr>\n",
       "  </thead>\n",
       "  <tbody>\n",
       "    <tr>\n",
       "      <th>0</th>\n",
       "      <td>20/02/2021 13:13:48</td>\n",
       "      <td>Resort hotel</td>\n",
       "      <td>Good Environment</td>\n",
       "      <td>Sanitization</td>\n",
       "      <td>Yes</td>\n",
       "      <td>0</td>\n",
       "      <td>1</td>\n",
       "      <td>Good Facility</td>\n",
       "      <td>Yes</td>\n",
       "      <td>Yes</td>\n",
       "      <td>Excellent</td>\n",
       "      <td>Excellent</td>\n",
       "      <td>Yes</td>\n",
       "      <td>Satisfied</td>\n",
       "      <td>No</td>\n",
       "      <td>Very Nice</td>\n",
       "    </tr>\n",
       "    <tr>\n",
       "      <th>1</th>\n",
       "      <td>20/02/2021 13:16:53</td>\n",
       "      <td>Resort hotel</td>\n",
       "      <td>Facility, Good Environment, Affordable, Food a...</td>\n",
       "      <td>Sanitization, Temperature Checking, Mask</td>\n",
       "      <td>Yes</td>\n",
       "      <td>1</td>\n",
       "      <td>1</td>\n",
       "      <td>Good Facility</td>\n",
       "      <td>Yes</td>\n",
       "      <td>Yes</td>\n",
       "      <td>Good</td>\n",
       "      <td>Generally Satisfactory</td>\n",
       "      <td>May be</td>\n",
       "      <td>Satisfied</td>\n",
       "      <td>Yes</td>\n",
       "      <td>good</td>\n",
       "    </tr>\n",
       "    <tr>\n",
       "      <th>2</th>\n",
       "      <td>20/02/2021 13:46:01</td>\n",
       "      <td>Resort hotel</td>\n",
       "      <td>Facility, Good Environment</td>\n",
       "      <td>Sanitization, Temperature Checking, Mask</td>\n",
       "      <td>Yes</td>\n",
       "      <td>1</td>\n",
       "      <td>1</td>\n",
       "      <td>Good Facility</td>\n",
       "      <td>Yes</td>\n",
       "      <td>Yes</td>\n",
       "      <td>Excellent</td>\n",
       "      <td>Very Good</td>\n",
       "      <td>May be</td>\n",
       "      <td>Satisfied</td>\n",
       "      <td>No</td>\n",
       "      <td>Very good</td>\n",
       "    </tr>\n",
       "    <tr>\n",
       "      <th>3</th>\n",
       "      <td>20/02/2021 13:46:08</td>\n",
       "      <td>Resort hotel</td>\n",
       "      <td>Facility, Good Environment</td>\n",
       "      <td>Sanitization, Temperature Checking, Mask</td>\n",
       "      <td>Yes</td>\n",
       "      <td>1</td>\n",
       "      <td>1</td>\n",
       "      <td>Good Facility</td>\n",
       "      <td>Yes</td>\n",
       "      <td>Yes</td>\n",
       "      <td>Excellent</td>\n",
       "      <td>Very Good</td>\n",
       "      <td>May be</td>\n",
       "      <td>Satisfied</td>\n",
       "      <td>No</td>\n",
       "      <td>Very good</td>\n",
       "    </tr>\n",
       "    <tr>\n",
       "      <th>4</th>\n",
       "      <td>20/02/2021 13:57:17</td>\n",
       "      <td>City hotel</td>\n",
       "      <td>Good Environment</td>\n",
       "      <td>Sanitization, Temperature Checking</td>\n",
       "      <td>No</td>\n",
       "      <td>1</td>\n",
       "      <td>1</td>\n",
       "      <td>Good Facility, Acessibility, Dinning Option, S...</td>\n",
       "      <td>Yes</td>\n",
       "      <td>Yes</td>\n",
       "      <td>Good</td>\n",
       "      <td>Generally Satisfactory</td>\n",
       "      <td>May be</td>\n",
       "      <td>Satisfied</td>\n",
       "      <td>Yes</td>\n",
       "      <td>Yes I will recommend this hotel</td>\n",
       "    </tr>\n",
       "  </tbody>\n",
       "</table>\n",
       "</div>"
      ],
      "text/plain": [
       "             Timestamp    Hotel Type  \\\n",
       "0  20/02/2021 13:13:48  Resort hotel   \n",
       "1  20/02/2021 13:16:53  Resort hotel   \n",
       "2  20/02/2021 13:46:01  Resort hotel   \n",
       "3  20/02/2021 13:46:08  Resort hotel   \n",
       "4  20/02/2021 13:57:17    City hotel   \n",
       "\n",
       "                                             Hangout  \\\n",
       "0                                   Good Environment   \n",
       "1  Facility, Good Environment, Affordable, Food a...   \n",
       "2                         Facility, Good Environment   \n",
       "3                         Facility, Good Environment   \n",
       "4                                   Good Environment   \n",
       "\n",
       "                         COVID-19 Situation satisfied  Reason  Visit Types  \\\n",
       "0                              Sanitization       Yes       0            1   \n",
       "1  Sanitization, Temperature Checking, Mask       Yes       1            1   \n",
       "2  Sanitization, Temperature Checking, Mask       Yes       1            1   \n",
       "3  Sanitization, Temperature Checking, Mask       Yes       1            1   \n",
       "4        Sanitization, Temperature Checking        No       1            1   \n",
       "\n",
       "                                        Choose Hotel  \\\n",
       "0                                      Good Facility   \n",
       "1                                      Good Facility   \n",
       "2                                      Good Facility   \n",
       "3                                      Good Facility   \n",
       "4  Good Facility, Acessibility, Dinning Option, S...   \n",
       "\n",
       "  staff friendly and helpful eat at the hotel     Rating  \\\n",
       "0                        Yes              Yes  Excellent   \n",
       "1                        Yes              Yes       Good   \n",
       "2                        Yes              Yes  Excellent   \n",
       "3                        Yes              Yes  Excellent   \n",
       "4                        Yes              Yes       Good   \n",
       "\n",
       "     Food Hygiene rating. stay hotel again    Overall Suggestion  \\\n",
       "0               Excellent              Yes  Satisfied         No   \n",
       "1  Generally Satisfactory           May be  Satisfied        Yes   \n",
       "2               Very Good           May be  Satisfied         No   \n",
       "3               Very Good           May be  Satisfied         No   \n",
       "4  Generally Satisfactory           May be  Satisfied        Yes   \n",
       "\n",
       "                         Recommend  \n",
       "0                        Very Nice  \n",
       "1                            good   \n",
       "2                        Very good  \n",
       "3                        Very good  \n",
       "4  Yes I will recommend this hotel  "
      ]
     },
     "execution_count": 15,
     "metadata": {},
     "output_type": "execute_result"
    }
   ],
   "source": [
    "df.head()"
   ]
  },
  {
   "cell_type": "code",
   "execution_count": null,
   "metadata": {},
   "outputs": [],
   "source": []
  },
  {
   "cell_type": "code",
   "execution_count": 16,
   "metadata": {},
   "outputs": [],
   "source": [
    "df['Hotel Type'] = df['Hotel Type'].replace({'City hotel':0,'Resort hotel':1})\n"
   ]
  },
  {
   "cell_type": "code",
   "execution_count": 17,
   "metadata": {},
   "outputs": [
    {
     "data": {
      "text/html": [
       "<div>\n",
       "<style scoped>\n",
       "    .dataframe tbody tr th:only-of-type {\n",
       "        vertical-align: middle;\n",
       "    }\n",
       "\n",
       "    .dataframe tbody tr th {\n",
       "        vertical-align: top;\n",
       "    }\n",
       "\n",
       "    .dataframe thead th {\n",
       "        text-align: right;\n",
       "    }\n",
       "</style>\n",
       "<table border=\"1\" class=\"dataframe\">\n",
       "  <thead>\n",
       "    <tr style=\"text-align: right;\">\n",
       "      <th></th>\n",
       "      <th>Timestamp</th>\n",
       "      <th>Hotel Type</th>\n",
       "      <th>Hangout</th>\n",
       "      <th>COVID-19 Situation</th>\n",
       "      <th>satisfied</th>\n",
       "      <th>Reason</th>\n",
       "      <th>Visit Types</th>\n",
       "      <th>Choose Hotel</th>\n",
       "      <th>staff friendly and helpful</th>\n",
       "      <th>eat at the hotel</th>\n",
       "      <th>Rating</th>\n",
       "      <th>Food Hygiene rating.</th>\n",
       "      <th>stay hotel again</th>\n",
       "      <th>Overall</th>\n",
       "      <th>Suggestion</th>\n",
       "      <th>Recommend</th>\n",
       "    </tr>\n",
       "  </thead>\n",
       "  <tbody>\n",
       "    <tr>\n",
       "      <th>0</th>\n",
       "      <td>20/02/2021 13:13:48</td>\n",
       "      <td>1</td>\n",
       "      <td>Good Environment</td>\n",
       "      <td>Sanitization</td>\n",
       "      <td>Yes</td>\n",
       "      <td>0</td>\n",
       "      <td>1</td>\n",
       "      <td>Good Facility</td>\n",
       "      <td>Yes</td>\n",
       "      <td>Yes</td>\n",
       "      <td>Excellent</td>\n",
       "      <td>Excellent</td>\n",
       "      <td>Yes</td>\n",
       "      <td>Satisfied</td>\n",
       "      <td>No</td>\n",
       "      <td>Very Nice</td>\n",
       "    </tr>\n",
       "    <tr>\n",
       "      <th>1</th>\n",
       "      <td>20/02/2021 13:16:53</td>\n",
       "      <td>1</td>\n",
       "      <td>Facility, Good Environment, Affordable, Food a...</td>\n",
       "      <td>Sanitization, Temperature Checking, Mask</td>\n",
       "      <td>Yes</td>\n",
       "      <td>1</td>\n",
       "      <td>1</td>\n",
       "      <td>Good Facility</td>\n",
       "      <td>Yes</td>\n",
       "      <td>Yes</td>\n",
       "      <td>Good</td>\n",
       "      <td>Generally Satisfactory</td>\n",
       "      <td>May be</td>\n",
       "      <td>Satisfied</td>\n",
       "      <td>Yes</td>\n",
       "      <td>good</td>\n",
       "    </tr>\n",
       "    <tr>\n",
       "      <th>2</th>\n",
       "      <td>20/02/2021 13:46:01</td>\n",
       "      <td>1</td>\n",
       "      <td>Facility, Good Environment</td>\n",
       "      <td>Sanitization, Temperature Checking, Mask</td>\n",
       "      <td>Yes</td>\n",
       "      <td>1</td>\n",
       "      <td>1</td>\n",
       "      <td>Good Facility</td>\n",
       "      <td>Yes</td>\n",
       "      <td>Yes</td>\n",
       "      <td>Excellent</td>\n",
       "      <td>Very Good</td>\n",
       "      <td>May be</td>\n",
       "      <td>Satisfied</td>\n",
       "      <td>No</td>\n",
       "      <td>Very good</td>\n",
       "    </tr>\n",
       "    <tr>\n",
       "      <th>3</th>\n",
       "      <td>20/02/2021 13:46:08</td>\n",
       "      <td>1</td>\n",
       "      <td>Facility, Good Environment</td>\n",
       "      <td>Sanitization, Temperature Checking, Mask</td>\n",
       "      <td>Yes</td>\n",
       "      <td>1</td>\n",
       "      <td>1</td>\n",
       "      <td>Good Facility</td>\n",
       "      <td>Yes</td>\n",
       "      <td>Yes</td>\n",
       "      <td>Excellent</td>\n",
       "      <td>Very Good</td>\n",
       "      <td>May be</td>\n",
       "      <td>Satisfied</td>\n",
       "      <td>No</td>\n",
       "      <td>Very good</td>\n",
       "    </tr>\n",
       "    <tr>\n",
       "      <th>4</th>\n",
       "      <td>20/02/2021 13:57:17</td>\n",
       "      <td>0</td>\n",
       "      <td>Good Environment</td>\n",
       "      <td>Sanitization, Temperature Checking</td>\n",
       "      <td>No</td>\n",
       "      <td>1</td>\n",
       "      <td>1</td>\n",
       "      <td>Good Facility, Acessibility, Dinning Option, S...</td>\n",
       "      <td>Yes</td>\n",
       "      <td>Yes</td>\n",
       "      <td>Good</td>\n",
       "      <td>Generally Satisfactory</td>\n",
       "      <td>May be</td>\n",
       "      <td>Satisfied</td>\n",
       "      <td>Yes</td>\n",
       "      <td>Yes I will recommend this hotel</td>\n",
       "    </tr>\n",
       "  </tbody>\n",
       "</table>\n",
       "</div>"
      ],
      "text/plain": [
       "             Timestamp  Hotel Type  \\\n",
       "0  20/02/2021 13:13:48           1   \n",
       "1  20/02/2021 13:16:53           1   \n",
       "2  20/02/2021 13:46:01           1   \n",
       "3  20/02/2021 13:46:08           1   \n",
       "4  20/02/2021 13:57:17           0   \n",
       "\n",
       "                                             Hangout  \\\n",
       "0                                   Good Environment   \n",
       "1  Facility, Good Environment, Affordable, Food a...   \n",
       "2                         Facility, Good Environment   \n",
       "3                         Facility, Good Environment   \n",
       "4                                   Good Environment   \n",
       "\n",
       "                         COVID-19 Situation satisfied  Reason  Visit Types  \\\n",
       "0                              Sanitization       Yes       0            1   \n",
       "1  Sanitization, Temperature Checking, Mask       Yes       1            1   \n",
       "2  Sanitization, Temperature Checking, Mask       Yes       1            1   \n",
       "3  Sanitization, Temperature Checking, Mask       Yes       1            1   \n",
       "4        Sanitization, Temperature Checking        No       1            1   \n",
       "\n",
       "                                        Choose Hotel  \\\n",
       "0                                      Good Facility   \n",
       "1                                      Good Facility   \n",
       "2                                      Good Facility   \n",
       "3                                      Good Facility   \n",
       "4  Good Facility, Acessibility, Dinning Option, S...   \n",
       "\n",
       "  staff friendly and helpful eat at the hotel     Rating  \\\n",
       "0                        Yes              Yes  Excellent   \n",
       "1                        Yes              Yes       Good   \n",
       "2                        Yes              Yes  Excellent   \n",
       "3                        Yes              Yes  Excellent   \n",
       "4                        Yes              Yes       Good   \n",
       "\n",
       "     Food Hygiene rating. stay hotel again    Overall Suggestion  \\\n",
       "0               Excellent              Yes  Satisfied         No   \n",
       "1  Generally Satisfactory           May be  Satisfied        Yes   \n",
       "2               Very Good           May be  Satisfied         No   \n",
       "3               Very Good           May be  Satisfied         No   \n",
       "4  Generally Satisfactory           May be  Satisfied        Yes   \n",
       "\n",
       "                         Recommend  \n",
       "0                        Very Nice  \n",
       "1                            good   \n",
       "2                        Very good  \n",
       "3                        Very good  \n",
       "4  Yes I will recommend this hotel  "
      ]
     },
     "execution_count": 17,
     "metadata": {},
     "output_type": "execute_result"
    }
   ],
   "source": [
    "df.head()"
   ]
  },
  {
   "cell_type": "code",
   "execution_count": 18,
   "metadata": {},
   "outputs": [],
   "source": [
    "#df['Hangout'] = df['Hangout'].replace({'Facility':0,'Good Environment':1,'Affordable':2,'Food and Traditional Dish':3,'Facility, Good Environment, Affordable, Food and Traditional Dish':4,'Good Environment, Affordable, Food and Traditional Dish':5,'Facility, Good Environment, Food and Traditional Dish':6,'Facility, Good Environment, Affordable':7, 'Facility, Affordable':8,'Facility, Food and Traditional Dish':9,'Good Environment, Food and Traditional Dish':10,'Facility, Affordable, Food and Traditional Dish':11,'Facility, Good Environment':12,'Good Environment, Affordable':13,'Affordable, Food and Traditional Dish':14})"
   ]
  },
  {
   "cell_type": "code",
   "execution_count": 19,
   "metadata": {},
   "outputs": [
    {
     "data": {
      "text/plain": [
       "array(['Good Environment',\n",
       "       'Facility, Good Environment, Affordable, Food and Traditional Dish',\n",
       "       'Facility, Good Environment', 'Affordable',\n",
       "       'Good Environment, Affordable, Food and Traditional Dish',\n",
       "       'Good Environment, Affordable', 'Facility',\n",
       "       'Facility, Good Environment, Food and Traditional Dish',\n",
       "       'Affordable, Food and Traditional Dish',\n",
       "       'Food and Traditional Dish',\n",
       "       'Facility, Good Environment, Affordable', 'Facility, Affordable',\n",
       "       'Facility, Food and Traditional Dish',\n",
       "       'Good Environment, Food and Traditional Dish',\n",
       "       'Facility, Affordable, Food and Traditional Dish'], dtype=object)"
      ]
     },
     "execution_count": 19,
     "metadata": {},
     "output_type": "execute_result"
    }
   ],
   "source": [
    "h=df.Hangout.unique()\n",
    "h"
   ]
  },
  {
   "cell_type": "code",
   "execution_count": 20,
   "metadata": {},
   "outputs": [
    {
     "data": {
      "text/html": [
       "<div>\n",
       "<style scoped>\n",
       "    .dataframe tbody tr th:only-of-type {\n",
       "        vertical-align: middle;\n",
       "    }\n",
       "\n",
       "    .dataframe tbody tr th {\n",
       "        vertical-align: top;\n",
       "    }\n",
       "\n",
       "    .dataframe thead th {\n",
       "        text-align: right;\n",
       "    }\n",
       "</style>\n",
       "<table border=\"1\" class=\"dataframe\">\n",
       "  <thead>\n",
       "    <tr style=\"text-align: right;\">\n",
       "      <th></th>\n",
       "      <th>Timestamp</th>\n",
       "      <th>Hotel Type</th>\n",
       "      <th>Hangout</th>\n",
       "      <th>COVID-19 Situation</th>\n",
       "      <th>satisfied</th>\n",
       "      <th>Reason</th>\n",
       "      <th>Visit Types</th>\n",
       "      <th>Choose Hotel</th>\n",
       "      <th>staff friendly and helpful</th>\n",
       "      <th>eat at the hotel</th>\n",
       "      <th>Rating</th>\n",
       "      <th>Food Hygiene rating.</th>\n",
       "      <th>stay hotel again</th>\n",
       "      <th>Overall</th>\n",
       "      <th>Suggestion</th>\n",
       "      <th>Recommend</th>\n",
       "    </tr>\n",
       "  </thead>\n",
       "  <tbody>\n",
       "    <tr>\n",
       "      <th>0</th>\n",
       "      <td>20/02/2021 13:13:48</td>\n",
       "      <td>1</td>\n",
       "      <td>Good Environment</td>\n",
       "      <td>Sanitization</td>\n",
       "      <td>Yes</td>\n",
       "      <td>0</td>\n",
       "      <td>1</td>\n",
       "      <td>Good Facility</td>\n",
       "      <td>Yes</td>\n",
       "      <td>Yes</td>\n",
       "      <td>Excellent</td>\n",
       "      <td>Excellent</td>\n",
       "      <td>Yes</td>\n",
       "      <td>Satisfied</td>\n",
       "      <td>No</td>\n",
       "      <td>Very Nice</td>\n",
       "    </tr>\n",
       "    <tr>\n",
       "      <th>1</th>\n",
       "      <td>20/02/2021 13:16:53</td>\n",
       "      <td>1</td>\n",
       "      <td>Facility, Good Environment, Affordable, Food a...</td>\n",
       "      <td>Sanitization, Temperature Checking, Mask</td>\n",
       "      <td>Yes</td>\n",
       "      <td>1</td>\n",
       "      <td>1</td>\n",
       "      <td>Good Facility</td>\n",
       "      <td>Yes</td>\n",
       "      <td>Yes</td>\n",
       "      <td>Good</td>\n",
       "      <td>Generally Satisfactory</td>\n",
       "      <td>May be</td>\n",
       "      <td>Satisfied</td>\n",
       "      <td>Yes</td>\n",
       "      <td>good</td>\n",
       "    </tr>\n",
       "    <tr>\n",
       "      <th>2</th>\n",
       "      <td>20/02/2021 13:46:01</td>\n",
       "      <td>1</td>\n",
       "      <td>Facility, Good Environment</td>\n",
       "      <td>Sanitization, Temperature Checking, Mask</td>\n",
       "      <td>Yes</td>\n",
       "      <td>1</td>\n",
       "      <td>1</td>\n",
       "      <td>Good Facility</td>\n",
       "      <td>Yes</td>\n",
       "      <td>Yes</td>\n",
       "      <td>Excellent</td>\n",
       "      <td>Very Good</td>\n",
       "      <td>May be</td>\n",
       "      <td>Satisfied</td>\n",
       "      <td>No</td>\n",
       "      <td>Very good</td>\n",
       "    </tr>\n",
       "    <tr>\n",
       "      <th>3</th>\n",
       "      <td>20/02/2021 13:46:08</td>\n",
       "      <td>1</td>\n",
       "      <td>Facility, Good Environment</td>\n",
       "      <td>Sanitization, Temperature Checking, Mask</td>\n",
       "      <td>Yes</td>\n",
       "      <td>1</td>\n",
       "      <td>1</td>\n",
       "      <td>Good Facility</td>\n",
       "      <td>Yes</td>\n",
       "      <td>Yes</td>\n",
       "      <td>Excellent</td>\n",
       "      <td>Very Good</td>\n",
       "      <td>May be</td>\n",
       "      <td>Satisfied</td>\n",
       "      <td>No</td>\n",
       "      <td>Very good</td>\n",
       "    </tr>\n",
       "    <tr>\n",
       "      <th>4</th>\n",
       "      <td>20/02/2021 13:57:17</td>\n",
       "      <td>0</td>\n",
       "      <td>Good Environment</td>\n",
       "      <td>Sanitization, Temperature Checking</td>\n",
       "      <td>No</td>\n",
       "      <td>1</td>\n",
       "      <td>1</td>\n",
       "      <td>Good Facility, Acessibility, Dinning Option, S...</td>\n",
       "      <td>Yes</td>\n",
       "      <td>Yes</td>\n",
       "      <td>Good</td>\n",
       "      <td>Generally Satisfactory</td>\n",
       "      <td>May be</td>\n",
       "      <td>Satisfied</td>\n",
       "      <td>Yes</td>\n",
       "      <td>Yes I will recommend this hotel</td>\n",
       "    </tr>\n",
       "  </tbody>\n",
       "</table>\n",
       "</div>"
      ],
      "text/plain": [
       "             Timestamp  Hotel Type  \\\n",
       "0  20/02/2021 13:13:48           1   \n",
       "1  20/02/2021 13:16:53           1   \n",
       "2  20/02/2021 13:46:01           1   \n",
       "3  20/02/2021 13:46:08           1   \n",
       "4  20/02/2021 13:57:17           0   \n",
       "\n",
       "                                             Hangout  \\\n",
       "0                                   Good Environment   \n",
       "1  Facility, Good Environment, Affordable, Food a...   \n",
       "2                         Facility, Good Environment   \n",
       "3                         Facility, Good Environment   \n",
       "4                                   Good Environment   \n",
       "\n",
       "                         COVID-19 Situation satisfied  Reason  Visit Types  \\\n",
       "0                              Sanitization       Yes       0            1   \n",
       "1  Sanitization, Temperature Checking, Mask       Yes       1            1   \n",
       "2  Sanitization, Temperature Checking, Mask       Yes       1            1   \n",
       "3  Sanitization, Temperature Checking, Mask       Yes       1            1   \n",
       "4        Sanitization, Temperature Checking        No       1            1   \n",
       "\n",
       "                                        Choose Hotel  \\\n",
       "0                                      Good Facility   \n",
       "1                                      Good Facility   \n",
       "2                                      Good Facility   \n",
       "3                                      Good Facility   \n",
       "4  Good Facility, Acessibility, Dinning Option, S...   \n",
       "\n",
       "  staff friendly and helpful eat at the hotel     Rating  \\\n",
       "0                        Yes              Yes  Excellent   \n",
       "1                        Yes              Yes       Good   \n",
       "2                        Yes              Yes  Excellent   \n",
       "3                        Yes              Yes  Excellent   \n",
       "4                        Yes              Yes       Good   \n",
       "\n",
       "     Food Hygiene rating. stay hotel again    Overall Suggestion  \\\n",
       "0               Excellent              Yes  Satisfied         No   \n",
       "1  Generally Satisfactory           May be  Satisfied        Yes   \n",
       "2               Very Good           May be  Satisfied         No   \n",
       "3               Very Good           May be  Satisfied         No   \n",
       "4  Generally Satisfactory           May be  Satisfied        Yes   \n",
       "\n",
       "                         Recommend  \n",
       "0                        Very Nice  \n",
       "1                            good   \n",
       "2                        Very good  \n",
       "3                        Very good  \n",
       "4  Yes I will recommend this hotel  "
      ]
     },
     "execution_count": 20,
     "metadata": {},
     "output_type": "execute_result"
    }
   ],
   "source": [
    "df.head()"
   ]
  },
  {
   "cell_type": "code",
   "execution_count": 21,
   "metadata": {},
   "outputs": [
    {
     "data": {
      "text/html": [
       "<div>\n",
       "<style scoped>\n",
       "    .dataframe tbody tr th:only-of-type {\n",
       "        vertical-align: middle;\n",
       "    }\n",
       "\n",
       "    .dataframe tbody tr th {\n",
       "        vertical-align: top;\n",
       "    }\n",
       "\n",
       "    .dataframe thead th {\n",
       "        text-align: right;\n",
       "    }\n",
       "</style>\n",
       "<table border=\"1\" class=\"dataframe\">\n",
       "  <thead>\n",
       "    <tr style=\"text-align: right;\">\n",
       "      <th></th>\n",
       "      <th>Timestamp</th>\n",
       "      <th>Hotel Type</th>\n",
       "      <th>Hangout</th>\n",
       "      <th>COVID-19 Situation</th>\n",
       "      <th>satisfied</th>\n",
       "      <th>Reason</th>\n",
       "      <th>Visit Types</th>\n",
       "      <th>Choose Hotel</th>\n",
       "      <th>staff friendly and helpful</th>\n",
       "      <th>eat at the hotel</th>\n",
       "      <th>Rating</th>\n",
       "      <th>Food Hygiene rating.</th>\n",
       "      <th>stay hotel again</th>\n",
       "      <th>Overall</th>\n",
       "      <th>Suggestion</th>\n",
       "      <th>Recommend</th>\n",
       "    </tr>\n",
       "  </thead>\n",
       "  <tbody>\n",
       "    <tr>\n",
       "      <th>0</th>\n",
       "      <td>20/02/2021 13:13:48</td>\n",
       "      <td>1</td>\n",
       "      <td>Good Environment</td>\n",
       "      <td>Sanitization</td>\n",
       "      <td>Yes</td>\n",
       "      <td>0</td>\n",
       "      <td>1</td>\n",
       "      <td>Good Facility</td>\n",
       "      <td>Yes</td>\n",
       "      <td>Yes</td>\n",
       "      <td>Excellent</td>\n",
       "      <td>Excellent</td>\n",
       "      <td>Yes</td>\n",
       "      <td>Satisfied</td>\n",
       "      <td>No</td>\n",
       "      <td>Very Nice</td>\n",
       "    </tr>\n",
       "    <tr>\n",
       "      <th>1</th>\n",
       "      <td>20/02/2021 13:16:53</td>\n",
       "      <td>1</td>\n",
       "      <td>Facility, Good Environment, Affordable, Food a...</td>\n",
       "      <td>Sanitization, Temperature Checking, Mask</td>\n",
       "      <td>Yes</td>\n",
       "      <td>1</td>\n",
       "      <td>1</td>\n",
       "      <td>Good Facility</td>\n",
       "      <td>Yes</td>\n",
       "      <td>Yes</td>\n",
       "      <td>Good</td>\n",
       "      <td>Generally Satisfactory</td>\n",
       "      <td>May be</td>\n",
       "      <td>Satisfied</td>\n",
       "      <td>Yes</td>\n",
       "      <td>good</td>\n",
       "    </tr>\n",
       "    <tr>\n",
       "      <th>2</th>\n",
       "      <td>20/02/2021 13:46:01</td>\n",
       "      <td>1</td>\n",
       "      <td>Facility, Good Environment</td>\n",
       "      <td>Sanitization, Temperature Checking, Mask</td>\n",
       "      <td>Yes</td>\n",
       "      <td>1</td>\n",
       "      <td>1</td>\n",
       "      <td>Good Facility</td>\n",
       "      <td>Yes</td>\n",
       "      <td>Yes</td>\n",
       "      <td>Excellent</td>\n",
       "      <td>Very Good</td>\n",
       "      <td>May be</td>\n",
       "      <td>Satisfied</td>\n",
       "      <td>No</td>\n",
       "      <td>Very good</td>\n",
       "    </tr>\n",
       "    <tr>\n",
       "      <th>3</th>\n",
       "      <td>20/02/2021 13:46:08</td>\n",
       "      <td>1</td>\n",
       "      <td>Facility, Good Environment</td>\n",
       "      <td>Sanitization, Temperature Checking, Mask</td>\n",
       "      <td>Yes</td>\n",
       "      <td>1</td>\n",
       "      <td>1</td>\n",
       "      <td>Good Facility</td>\n",
       "      <td>Yes</td>\n",
       "      <td>Yes</td>\n",
       "      <td>Excellent</td>\n",
       "      <td>Very Good</td>\n",
       "      <td>May be</td>\n",
       "      <td>Satisfied</td>\n",
       "      <td>No</td>\n",
       "      <td>Very good</td>\n",
       "    </tr>\n",
       "    <tr>\n",
       "      <th>4</th>\n",
       "      <td>20/02/2021 13:57:17</td>\n",
       "      <td>0</td>\n",
       "      <td>Good Environment</td>\n",
       "      <td>Sanitization, Temperature Checking</td>\n",
       "      <td>No</td>\n",
       "      <td>1</td>\n",
       "      <td>1</td>\n",
       "      <td>Good Facility, Acessibility, Dinning Option, S...</td>\n",
       "      <td>Yes</td>\n",
       "      <td>Yes</td>\n",
       "      <td>Good</td>\n",
       "      <td>Generally Satisfactory</td>\n",
       "      <td>May be</td>\n",
       "      <td>Satisfied</td>\n",
       "      <td>Yes</td>\n",
       "      <td>Yes I will recommend this hotel</td>\n",
       "    </tr>\n",
       "    <tr>\n",
       "      <th>...</th>\n",
       "      <td>...</td>\n",
       "      <td>...</td>\n",
       "      <td>...</td>\n",
       "      <td>...</td>\n",
       "      <td>...</td>\n",
       "      <td>...</td>\n",
       "      <td>...</td>\n",
       "      <td>...</td>\n",
       "      <td>...</td>\n",
       "      <td>...</td>\n",
       "      <td>...</td>\n",
       "      <td>...</td>\n",
       "      <td>...</td>\n",
       "      <td>...</td>\n",
       "      <td>...</td>\n",
       "      <td>...</td>\n",
       "    </tr>\n",
       "    <tr>\n",
       "      <th>196</th>\n",
       "      <td>22/04/2021 19:41:57</td>\n",
       "      <td>0</td>\n",
       "      <td>Affordable</td>\n",
       "      <td>Sanitization</td>\n",
       "      <td>Yes</td>\n",
       "      <td>1</td>\n",
       "      <td>0</td>\n",
       "      <td>Hotel Loyalty</td>\n",
       "      <td>Yes</td>\n",
       "      <td>Yes</td>\n",
       "      <td>Good</td>\n",
       "      <td>Very Good</td>\n",
       "      <td>Yes</td>\n",
       "      <td>Satisfied</td>\n",
       "      <td>Yes</td>\n",
       "      <td>8/10</td>\n",
       "    </tr>\n",
       "    <tr>\n",
       "      <th>197</th>\n",
       "      <td>22/04/2021 19:42:25</td>\n",
       "      <td>1</td>\n",
       "      <td>Affordable</td>\n",
       "      <td>Temperature Checking</td>\n",
       "      <td>Yes</td>\n",
       "      <td>2</td>\n",
       "      <td>1</td>\n",
       "      <td>Hotel Loyalty</td>\n",
       "      <td>Yes</td>\n",
       "      <td>Yes</td>\n",
       "      <td>Very Good</td>\n",
       "      <td>Very Good</td>\n",
       "      <td>Yes</td>\n",
       "      <td>Satisfied</td>\n",
       "      <td>Yes</td>\n",
       "      <td>8/10</td>\n",
       "    </tr>\n",
       "    <tr>\n",
       "      <th>198</th>\n",
       "      <td>22/04/2021 19:44:23</td>\n",
       "      <td>0</td>\n",
       "      <td>Affordable</td>\n",
       "      <td>Temperature Checking</td>\n",
       "      <td>Yes</td>\n",
       "      <td>2</td>\n",
       "      <td>0</td>\n",
       "      <td>Good Facility</td>\n",
       "      <td>Yes</td>\n",
       "      <td>Yes</td>\n",
       "      <td>Very Good</td>\n",
       "      <td>Very Good</td>\n",
       "      <td>Yes</td>\n",
       "      <td>Satisfied</td>\n",
       "      <td>Yes</td>\n",
       "      <td>7/10</td>\n",
       "    </tr>\n",
       "    <tr>\n",
       "      <th>199</th>\n",
       "      <td>22/04/2021 19:44:46</td>\n",
       "      <td>1</td>\n",
       "      <td>Good Environment</td>\n",
       "      <td>Temperature Checking</td>\n",
       "      <td>Yes</td>\n",
       "      <td>2</td>\n",
       "      <td>0</td>\n",
       "      <td>Acessibility</td>\n",
       "      <td>Yes</td>\n",
       "      <td>Yes</td>\n",
       "      <td>Very Good</td>\n",
       "      <td>Very Good</td>\n",
       "      <td>Yes</td>\n",
       "      <td>Satisfied</td>\n",
       "      <td>Yes</td>\n",
       "      <td>8/10</td>\n",
       "    </tr>\n",
       "    <tr>\n",
       "      <th>200</th>\n",
       "      <td>22/04/2021 19:45:10</td>\n",
       "      <td>1</td>\n",
       "      <td>Affordable</td>\n",
       "      <td>Temperature Checking</td>\n",
       "      <td>Yes</td>\n",
       "      <td>1</td>\n",
       "      <td>1</td>\n",
       "      <td>Good Facility</td>\n",
       "      <td>Yes</td>\n",
       "      <td>Yes</td>\n",
       "      <td>Excellent</td>\n",
       "      <td>Excellent</td>\n",
       "      <td>Yes</td>\n",
       "      <td>Satisfied</td>\n",
       "      <td>Yes</td>\n",
       "      <td>10/10</td>\n",
       "    </tr>\n",
       "  </tbody>\n",
       "</table>\n",
       "<p>201 rows × 16 columns</p>\n",
       "</div>"
      ],
      "text/plain": [
       "               Timestamp  Hotel Type  \\\n",
       "0    20/02/2021 13:13:48           1   \n",
       "1    20/02/2021 13:16:53           1   \n",
       "2    20/02/2021 13:46:01           1   \n",
       "3    20/02/2021 13:46:08           1   \n",
       "4    20/02/2021 13:57:17           0   \n",
       "..                   ...         ...   \n",
       "196  22/04/2021 19:41:57           0   \n",
       "197  22/04/2021 19:42:25           1   \n",
       "198  22/04/2021 19:44:23           0   \n",
       "199  22/04/2021 19:44:46           1   \n",
       "200  22/04/2021 19:45:10           1   \n",
       "\n",
       "                                               Hangout  \\\n",
       "0                                     Good Environment   \n",
       "1    Facility, Good Environment, Affordable, Food a...   \n",
       "2                           Facility, Good Environment   \n",
       "3                           Facility, Good Environment   \n",
       "4                                     Good Environment   \n",
       "..                                                 ...   \n",
       "196                                         Affordable   \n",
       "197                                         Affordable   \n",
       "198                                         Affordable   \n",
       "199                                   Good Environment   \n",
       "200                                         Affordable   \n",
       "\n",
       "                           COVID-19 Situation satisfied  Reason  Visit Types  \\\n",
       "0                                Sanitization       Yes       0            1   \n",
       "1    Sanitization, Temperature Checking, Mask       Yes       1            1   \n",
       "2    Sanitization, Temperature Checking, Mask       Yes       1            1   \n",
       "3    Sanitization, Temperature Checking, Mask       Yes       1            1   \n",
       "4          Sanitization, Temperature Checking        No       1            1   \n",
       "..                                        ...       ...     ...          ...   \n",
       "196                              Sanitization       Yes       1            0   \n",
       "197                      Temperature Checking       Yes       2            1   \n",
       "198                      Temperature Checking       Yes       2            0   \n",
       "199                      Temperature Checking       Yes       2            0   \n",
       "200                      Temperature Checking       Yes       1            1   \n",
       "\n",
       "                                          Choose Hotel  \\\n",
       "0                                        Good Facility   \n",
       "1                                        Good Facility   \n",
       "2                                        Good Facility   \n",
       "3                                        Good Facility   \n",
       "4    Good Facility, Acessibility, Dinning Option, S...   \n",
       "..                                                 ...   \n",
       "196                                      Hotel Loyalty   \n",
       "197                                      Hotel Loyalty   \n",
       "198                                      Good Facility   \n",
       "199                                       Acessibility   \n",
       "200                                      Good Facility   \n",
       "\n",
       "    staff friendly and helpful eat at the hotel     Rating  \\\n",
       "0                          Yes              Yes  Excellent   \n",
       "1                          Yes              Yes       Good   \n",
       "2                          Yes              Yes  Excellent   \n",
       "3                          Yes              Yes  Excellent   \n",
       "4                          Yes              Yes       Good   \n",
       "..                         ...              ...        ...   \n",
       "196                        Yes              Yes       Good   \n",
       "197                        Yes              Yes  Very Good   \n",
       "198                        Yes              Yes  Very Good   \n",
       "199                        Yes              Yes  Very Good   \n",
       "200                        Yes              Yes  Excellent   \n",
       "\n",
       "       Food Hygiene rating. stay hotel again    Overall Suggestion  \\\n",
       "0                 Excellent              Yes  Satisfied         No   \n",
       "1    Generally Satisfactory           May be  Satisfied        Yes   \n",
       "2                 Very Good           May be  Satisfied         No   \n",
       "3                 Very Good           May be  Satisfied         No   \n",
       "4    Generally Satisfactory           May be  Satisfied        Yes   \n",
       "..                      ...              ...        ...        ...   \n",
       "196               Very Good              Yes  Satisfied        Yes   \n",
       "197               Very Good              Yes  Satisfied        Yes   \n",
       "198               Very Good              Yes  Satisfied        Yes   \n",
       "199               Very Good              Yes  Satisfied        Yes   \n",
       "200               Excellent              Yes  Satisfied        Yes   \n",
       "\n",
       "                           Recommend  \n",
       "0                          Very Nice  \n",
       "1                              good   \n",
       "2                          Very good  \n",
       "3                          Very good  \n",
       "4    Yes I will recommend this hotel  \n",
       "..                               ...  \n",
       "196                             8/10  \n",
       "197                             8/10  \n",
       "198                             7/10  \n",
       "199                             8/10  \n",
       "200                            10/10  \n",
       "\n",
       "[201 rows x 16 columns]"
      ]
     },
     "execution_count": 21,
     "metadata": {},
     "output_type": "execute_result"
    }
   ],
   "source": [
    "df.rename(columns={'What do you like to prefer more?':'Hotel Type', })"
   ]
  },
  {
   "cell_type": "code",
   "execution_count": 22,
   "metadata": {},
   "outputs": [
    {
     "data": {
      "text/plain": [
       "0"
      ]
     },
     "execution_count": 22,
     "metadata": {},
     "output_type": "execute_result"
    }
   ],
   "source": [
    "#Check for any duplicate values\n",
    "df.duplicated().sum()"
   ]
  },
  {
   "cell_type": "code",
   "execution_count": 23,
   "metadata": {},
   "outputs": [
    {
     "data": {
      "text/html": [
       "<div>\n",
       "<style scoped>\n",
       "    .dataframe tbody tr th:only-of-type {\n",
       "        vertical-align: middle;\n",
       "    }\n",
       "\n",
       "    .dataframe tbody tr th {\n",
       "        vertical-align: top;\n",
       "    }\n",
       "\n",
       "    .dataframe thead th {\n",
       "        text-align: right;\n",
       "    }\n",
       "</style>\n",
       "<table border=\"1\" class=\"dataframe\">\n",
       "  <thead>\n",
       "    <tr style=\"text-align: right;\">\n",
       "      <th></th>\n",
       "      <th>Timestamp</th>\n",
       "      <th>Hotel Type</th>\n",
       "      <th>Hangout</th>\n",
       "      <th>COVID-19 Situation</th>\n",
       "      <th>satisfied</th>\n",
       "      <th>Reason</th>\n",
       "      <th>Visit Types</th>\n",
       "      <th>Choose Hotel</th>\n",
       "      <th>staff friendly and helpful</th>\n",
       "      <th>eat at the hotel</th>\n",
       "      <th>Rating</th>\n",
       "      <th>Food Hygiene rating.</th>\n",
       "      <th>stay hotel again</th>\n",
       "      <th>Overall</th>\n",
       "      <th>Suggestion</th>\n",
       "      <th>Recommend</th>\n",
       "    </tr>\n",
       "  </thead>\n",
       "  <tbody>\n",
       "  </tbody>\n",
       "</table>\n",
       "</div>"
      ],
      "text/plain": [
       "Empty DataFrame\n",
       "Columns: [Timestamp, Hotel Type, Hangout, COVID-19 Situation, satisfied, Reason, Visit Types, Choose Hotel, staff friendly and helpful, eat at the hotel, Rating, Food Hygiene rating., stay hotel again, Overall, Suggestion, Recommend]\n",
       "Index: []"
      ]
     },
     "execution_count": 23,
     "metadata": {},
     "output_type": "execute_result"
    }
   ],
   "source": [
    "duplicate = df[df.duplicated()]\n",
    "duplicate"
   ]
  },
  {
   "cell_type": "code",
   "execution_count": 24,
   "metadata": {},
   "outputs": [],
   "source": [
    "df_New=pd.DataFrame.drop_duplicates(df)"
   ]
  },
  {
   "cell_type": "code",
   "execution_count": 25,
   "metadata": {},
   "outputs": [
    {
     "data": {
      "text/plain": [
       "0"
      ]
     },
     "execution_count": 25,
     "metadata": {},
     "output_type": "execute_result"
    }
   ],
   "source": [
    "df_New.duplicated().sum()"
   ]
  },
  {
   "cell_type": "code",
   "execution_count": 26,
   "metadata": {},
   "outputs": [
    {
     "data": {
      "text/plain": [
       "Timestamp                     0\n",
       "Hotel Type                    0\n",
       "Hangout                       0\n",
       "COVID-19 Situation            0\n",
       "satisfied                     0\n",
       "Reason                        0\n",
       "Visit Types                   0\n",
       "Choose Hotel                  0\n",
       "staff friendly and helpful    0\n",
       "eat at the hotel              0\n",
       "Rating                        0\n",
       "Food Hygiene rating.          0\n",
       "stay hotel again              0\n",
       "Overall                       0\n",
       "Suggestion                    0\n",
       "Recommend                     0\n",
       "dtype: int64"
      ]
     },
     "execution_count": 26,
     "metadata": {},
     "output_type": "execute_result"
    }
   ],
   "source": [
    "df.isnull().sum()"
   ]
  },
  {
   "cell_type": "code",
   "execution_count": 27,
   "metadata": {},
   "outputs": [
    {
     "name": "stdout",
     "output_type": "stream",
     "text": [
      "<class 'pandas.core.frame.DataFrame'>\n",
      "RangeIndex: 201 entries, 0 to 200\n",
      "Data columns (total 16 columns):\n",
      " #   Column                      Non-Null Count  Dtype \n",
      "---  ------                      --------------  ----- \n",
      " 0   Timestamp                   201 non-null    object\n",
      " 1   Hotel Type                  201 non-null    int64 \n",
      " 2   Hangout                     201 non-null    object\n",
      " 3   COVID-19 Situation          201 non-null    object\n",
      " 4   satisfied                   201 non-null    object\n",
      " 5   Reason                      201 non-null    int64 \n",
      " 6   Visit Types                 201 non-null    int64 \n",
      " 7   Choose Hotel                201 non-null    object\n",
      " 8   staff friendly and helpful  201 non-null    object\n",
      " 9   eat at the hotel            201 non-null    object\n",
      " 10  Rating                      201 non-null    object\n",
      " 11  Food Hygiene rating.        201 non-null    object\n",
      " 12  stay hotel again            201 non-null    object\n",
      " 13  Overall                     201 non-null    object\n",
      " 14  Suggestion                  201 non-null    object\n",
      " 15  Recommend                   201 non-null    object\n",
      "dtypes: int64(3), object(13)\n",
      "memory usage: 25.2+ KB\n"
     ]
    }
   ],
   "source": [
    "df.info()"
   ]
  },
  {
   "cell_type": "code",
   "execution_count": 28,
   "metadata": {},
   "outputs": [
    {
     "data": {
      "text/html": [
       "<div>\n",
       "<style scoped>\n",
       "    .dataframe tbody tr th:only-of-type {\n",
       "        vertical-align: middle;\n",
       "    }\n",
       "\n",
       "    .dataframe tbody tr th {\n",
       "        vertical-align: top;\n",
       "    }\n",
       "\n",
       "    .dataframe thead th {\n",
       "        text-align: right;\n",
       "    }\n",
       "</style>\n",
       "<table border=\"1\" class=\"dataframe\">\n",
       "  <thead>\n",
       "    <tr style=\"text-align: right;\">\n",
       "      <th></th>\n",
       "      <th>Missing</th>\n",
       "    </tr>\n",
       "  </thead>\n",
       "  <tbody>\n",
       "    <tr>\n",
       "      <th>Timestamp</th>\n",
       "      <td>0.0</td>\n",
       "    </tr>\n",
       "    <tr>\n",
       "      <th>Hotel Type</th>\n",
       "      <td>0.0</td>\n",
       "    </tr>\n",
       "    <tr>\n",
       "      <th>Hangout</th>\n",
       "      <td>0.0</td>\n",
       "    </tr>\n",
       "    <tr>\n",
       "      <th>COVID-19 Situation</th>\n",
       "      <td>0.0</td>\n",
       "    </tr>\n",
       "    <tr>\n",
       "      <th>satisfied</th>\n",
       "      <td>0.0</td>\n",
       "    </tr>\n",
       "    <tr>\n",
       "      <th>Reason</th>\n",
       "      <td>0.0</td>\n",
       "    </tr>\n",
       "    <tr>\n",
       "      <th>Visit Types</th>\n",
       "      <td>0.0</td>\n",
       "    </tr>\n",
       "    <tr>\n",
       "      <th>Choose Hotel</th>\n",
       "      <td>0.0</td>\n",
       "    </tr>\n",
       "    <tr>\n",
       "      <th>staff friendly and helpful</th>\n",
       "      <td>0.0</td>\n",
       "    </tr>\n",
       "    <tr>\n",
       "      <th>eat at the hotel</th>\n",
       "      <td>0.0</td>\n",
       "    </tr>\n",
       "    <tr>\n",
       "      <th>Rating</th>\n",
       "      <td>0.0</td>\n",
       "    </tr>\n",
       "    <tr>\n",
       "      <th>Food Hygiene rating.</th>\n",
       "      <td>0.0</td>\n",
       "    </tr>\n",
       "    <tr>\n",
       "      <th>stay hotel again</th>\n",
       "      <td>0.0</td>\n",
       "    </tr>\n",
       "    <tr>\n",
       "      <th>Overall</th>\n",
       "      <td>0.0</td>\n",
       "    </tr>\n",
       "    <tr>\n",
       "      <th>Suggestion</th>\n",
       "      <td>0.0</td>\n",
       "    </tr>\n",
       "    <tr>\n",
       "      <th>Recommend</th>\n",
       "      <td>0.0</td>\n",
       "    </tr>\n",
       "  </tbody>\n",
       "</table>\n",
       "</div>"
      ],
      "text/plain": [
       "                            Missing\n",
       "Timestamp                       0.0\n",
       "Hotel Type                      0.0\n",
       "Hangout                         0.0\n",
       "COVID-19 Situation              0.0\n",
       "satisfied                       0.0\n",
       "Reason                          0.0\n",
       "Visit Types                     0.0\n",
       "Choose Hotel                    0.0\n",
       "staff friendly and helpful      0.0\n",
       "eat at the hotel                0.0\n",
       "Rating                          0.0\n",
       "Food Hygiene rating.            0.0\n",
       "stay hotel again                0.0\n",
       "Overall                         0.0\n",
       "Suggestion                      0.0\n",
       "Recommend                       0.0"
      ]
     },
     "execution_count": 28,
     "metadata": {},
     "output_type": "execute_result"
    }
   ],
   "source": [
    "#check for missing values\n",
    "pd.DataFrame(round(df.isnull().sum()/df.shape[0]*100,3),columns=[\"Missing\"])"
   ]
  },
  {
   "cell_type": "code",
   "execution_count": 29,
   "metadata": {
    "scrolled": true
   },
   "outputs": [],
   "source": [
    "#df.drop(columns=\"Recommend\", inplace= True)\n",
    "#df_New"
   ]
  },
  {
   "cell_type": "code",
   "execution_count": 30,
   "metadata": {},
   "outputs": [
    {
     "data": {
      "text/plain": [
       "count    201.000000\n",
       "mean       0.616915\n",
       "std        0.487352\n",
       "min        0.000000\n",
       "25%        0.000000\n",
       "50%        1.000000\n",
       "75%        1.000000\n",
       "max        1.000000\n",
       "Name: Hotel Type, dtype: float64"
      ]
     },
     "execution_count": 30,
     "metadata": {},
     "output_type": "execute_result"
    }
   ],
   "source": [
    "#df['What do you like to prefer more?'].describe()\n",
    "df['Hotel Type'].describe()"
   ]
  },
  {
   "cell_type": "code",
   "execution_count": 31,
   "metadata": {},
   "outputs": [
    {
     "data": {
      "text/plain": [
       "count                  201\n",
       "unique                  15\n",
       "top       Good Environment\n",
       "freq                    51\n",
       "Name: Hangout, dtype: object"
      ]
     },
     "execution_count": 31,
     "metadata": {},
     "output_type": "execute_result"
    }
   ],
   "source": [
    "#df['Why do you like to hangout in this hotel?'].describe()\n",
    "df['Hangout'].describe()"
   ]
  },
  {
   "cell_type": "code",
   "execution_count": 32,
   "metadata": {},
   "outputs": [
    {
     "data": {
      "text/plain": [
       "count                                                  201\n",
       "unique                                                  13\n",
       "top       Sanitization, Temperature Checking, Mask, Gloves\n",
       "freq                                                    46\n",
       "Name: COVID-19 Situation, dtype: object"
      ]
     },
     "execution_count": 32,
     "metadata": {},
     "output_type": "execute_result"
    }
   ],
   "source": [
    "#df['Which kind of facilities are given in COVID-19 situation?'].describe()\n",
    "df['COVID-19 Situation'].describe()"
   ]
  },
  {
   "cell_type": "code",
   "execution_count": 33,
   "metadata": {},
   "outputs": [
    {
     "data": {
      "text/plain": [
       "count     201\n",
       "unique      2\n",
       "top       Yes\n",
       "freq      192\n",
       "Name: satisfied, dtype: object"
      ]
     },
     "execution_count": 33,
     "metadata": {},
     "output_type": "execute_result"
    }
   ],
   "source": [
    "#df['Are you satisfied with the above facilities?'].describe()\n",
    "df['satisfied'].describe()"
   ]
  },
  {
   "cell_type": "code",
   "execution_count": 34,
   "metadata": {},
   "outputs": [
    {
     "data": {
      "text/plain": [
       "count    201.000000\n",
       "mean       1.412935\n",
       "std        1.184750\n",
       "min        0.000000\n",
       "25%        1.000000\n",
       "50%        1.000000\n",
       "75%        2.000000\n",
       "max        4.000000\n",
       "Name: Reason, dtype: float64"
      ]
     },
     "execution_count": 34,
     "metadata": {},
     "output_type": "execute_result"
    }
   ],
   "source": [
    "#df['What was the reason for your visit?'].describe()\n",
    "df['Reason'].describe()"
   ]
  },
  {
   "cell_type": "code",
   "execution_count": 35,
   "metadata": {},
   "outputs": [
    {
     "data": {
      "text/plain": [
       "count    201.000000\n",
       "mean       0.746269\n",
       "std        0.436232\n",
       "min        0.000000\n",
       "25%        0.000000\n",
       "50%        1.000000\n",
       "75%        1.000000\n",
       "max        1.000000\n",
       "Name: Visit Types, dtype: float64"
      ]
     },
     "execution_count": 35,
     "metadata": {},
     "output_type": "execute_result"
    }
   ],
   "source": [
    "#df['Were you alone or in a group?'].describe()\n",
    "df['Visit Types'].describe()"
   ]
  },
  {
   "cell_type": "code",
   "execution_count": 36,
   "metadata": {},
   "outputs": [
    {
     "data": {
      "text/plain": [
       "count               201\n",
       "unique               29\n",
       "top       Good Facility\n",
       "freq                 70\n",
       "Name: Choose Hotel, dtype: object"
      ]
     },
     "execution_count": 36,
     "metadata": {},
     "output_type": "execute_result"
    }
   ],
   "source": [
    "#df['Why  did you choose this hotel?'].describe()\n",
    "df['Choose Hotel'].describe()"
   ]
  },
  {
   "cell_type": "code",
   "execution_count": 37,
   "metadata": {},
   "outputs": [
    {
     "data": {
      "text/plain": [
       "count     201\n",
       "unique      2\n",
       "top       Yes\n",
       "freq      196\n",
       "Name: staff friendly and helpful, dtype: object"
      ]
     },
     "execution_count": 37,
     "metadata": {},
     "output_type": "execute_result"
    }
   ],
   "source": [
    "#df['Were the staff friendly and helpful?'].describe()\n",
    "df['staff friendly and helpful'].describe()"
   ]
  },
  {
   "cell_type": "code",
   "execution_count": 38,
   "metadata": {},
   "outputs": [
    {
     "data": {
      "text/plain": [
       "count     201\n",
       "unique      2\n",
       "top       Yes\n",
       "freq      181\n",
       "Name: eat at the hotel, dtype: object"
      ]
     },
     "execution_count": 38,
     "metadata": {},
     "output_type": "execute_result"
    }
   ],
   "source": [
    "#df['Did you eat at the hotel?'].describe()\n",
    "df['eat at the hotel'].describe()"
   ]
  },
  {
   "cell_type": "code",
   "execution_count": 39,
   "metadata": {},
   "outputs": [
    {
     "data": {
      "text/plain": [
       "count           201\n",
       "unique            4\n",
       "top       Very Good\n",
       "freq             87\n",
       "Name: Rating, dtype: object"
      ]
     },
     "execution_count": 39,
     "metadata": {},
     "output_type": "execute_result"
    }
   ],
   "source": [
    "#df['How would you rate the hotel?'].describe()\n",
    "df['Rating'].describe()"
   ]
  },
  {
   "cell_type": "code",
   "execution_count": 40,
   "metadata": {},
   "outputs": [
    {
     "data": {
      "text/plain": [
       "count           201\n",
       "unique            7\n",
       "top       Very Good\n",
       "freq             49\n",
       "Name: Food Hygiene rating., dtype: object"
      ]
     },
     "execution_count": 40,
     "metadata": {},
     "output_type": "execute_result"
    }
   ],
   "source": [
    "#df['Food Hygiene rating.'].describe()\n",
    "df['Food Hygiene rating.'].describe()"
   ]
  },
  {
   "cell_type": "code",
   "execution_count": 41,
   "metadata": {},
   "outputs": [
    {
     "data": {
      "text/plain": [
       "count     201\n",
       "unique      3\n",
       "top       Yes\n",
       "freq      114\n",
       "Name: stay hotel again, dtype: object"
      ]
     },
     "execution_count": 41,
     "metadata": {},
     "output_type": "execute_result"
    }
   ],
   "source": [
    "#df['How Likely are you to stay at this hotel again?'].describe()\n",
    "df['stay hotel again'].describe()"
   ]
  },
  {
   "cell_type": "code",
   "execution_count": 42,
   "metadata": {},
   "outputs": [
    {
     "data": {
      "text/plain": [
       "count           201\n",
       "unique            4\n",
       "top       Satisfied\n",
       "freq            166\n",
       "Name: Overall, dtype: object"
      ]
     },
     "execution_count": 42,
     "metadata": {},
     "output_type": "execute_result"
    }
   ],
   "source": [
    "#df['Overall were you satisfied ,dissatisfied , or neither? '].describe()\n",
    "df['Overall'].describe()"
   ]
  },
  {
   "cell_type": "code",
   "execution_count": 43,
   "metadata": {},
   "outputs": [
    {
     "data": {
      "text/plain": [
       "count     201\n",
       "unique      2\n",
       "top       Yes\n",
       "freq      131\n",
       "Name: Suggestion, dtype: object"
      ]
     },
     "execution_count": 43,
     "metadata": {},
     "output_type": "execute_result"
    }
   ],
   "source": [
    "#df['Would you like to suggest them to improve their service? '].describe()\n",
    "df['Suggestion'].describe()"
   ]
  },
  {
   "cell_type": "code",
   "execution_count": 44,
   "metadata": {},
   "outputs": [],
   "source": [
    "# Resort Hotel=1 ,City Hotel=0"
   ]
  },
  {
   "cell_type": "code",
   "execution_count": 45,
   "metadata": {},
   "outputs": [
    {
     "data": {
      "image/png": "[encoded data removed]",
      "text/plain": [
       "<Figure size 576x576 with 1 Axes>"
      ]
     },
     "metadata": {},
     "output_type": "display_data"
    }
   ],
   "source": [
    "df['Hotel Type'].value_counts().plot(kind='pie',autopct='%1.2f%%',figsize=(8,8))\n",
    "plt.title(\"What do you like to prefer more?\")\n",
    "plt.show()"
   ]
  },
  {
   "cell_type": "code",
   "execution_count": 46,
   "metadata": {},
   "outputs": [
    {
     "data": {
      "image/png": "[encoded data removed]",
      "text/plain": [
       "<Figure size 720x576 with 1 Axes>"
      ]
     },
     "metadata": {
      "needs_background": "light"
     },
     "output_type": "display_data"
    }
   ],
   "source": [
    "df['Hangout'].value_counts().plot(kind='barh',figsize=(10,8))\n",
    "plt.title(\"Why do you like to hangout in this hotel?\")\n",
    "plt.show()"
   ]
  },
  {
   "cell_type": "code",
   "execution_count": 47,
   "metadata": {},
   "outputs": [
    {
     "data": {
      "image/png": "[encoded data removed]",
      "text/plain": [
       "<Figure size 720x576 with 1 Axes>"
      ]
     },
     "metadata": {
      "needs_background": "light"
     },
     "output_type": "display_data"
    }
   ],
   "source": [
    "df['Reason'].value_counts().plot(kind='bar',figsize=(10,8))\n",
    "plt.title(\"What was the reason for your visit?\")\n",
    "plt.show()"
   ]
  },
  {
   "cell_type": "code",
   "execution_count": 48,
   "metadata": {},
   "outputs": [
    {
     "data": {
      "image/png": "[encoded data removed]",
      "text/plain": [
       "<Figure size 720x576 with 1 Axes>"
      ]
     },
     "metadata": {
      "needs_background": "light"
     },
     "output_type": "display_data"
    }
   ],
   "source": [
    "df['COVID-19 Situation'].value_counts().plot(kind='barh',figsize=(10,8))\n",
    "plt.title(\"Which kind of facilities are given in COVID-19 situation?\")\n",
    "plt.show()"
   ]
  },
  {
   "cell_type": "code",
   "execution_count": 49,
   "metadata": {},
   "outputs": [
    {
     "data": {
      "image/png": "[encoded data removed]",
      "text/plain": [
       "<Figure size 1440x720 with 1 Axes>"
      ]
     },
     "metadata": {
      "needs_background": "light"
     },
     "output_type": "display_data"
    }
   ],
   "source": [
    "df['satisfied'].value_counts().plot(kind='bar',figsize=(20,10))\n",
    "plt.title(\"Are you satisfied with the above facilities?\")\n",
    "plt.axhline(0, color=\"k\");\n"
   ]
  },
  {
   "cell_type": "code",
   "execution_count": 50,
   "metadata": {},
   "outputs": [
    {
     "data": {
      "image/png": "[encoded data removed]",
      "text/plain": [
       "<Figure size 1440x720 with 1 Axes>"
      ]
     },
     "metadata": {
      "needs_background": "light"
     },
     "output_type": "display_data"
    }
   ],
   "source": [
    "\n",
    "df['Reason'].value_counts().plot(kind='bar',figsize=(20,10))\n",
    "plt.title(\"What was the reason for your visit?\")\n",
    "plt.show()"
   ]
  },
  {
   "cell_type": "code",
   "execution_count": 51,
   "metadata": {},
   "outputs": [
    {
     "data": {
      "image/png": "[encoded data removed]",
      "text/plain": [
       "<Figure size 1440x720 with 1 Axes>"
      ]
     },
     "metadata": {
      "needs_background": "light"
     },
     "output_type": "display_data"
    }
   ],
   "source": [
    "#'Alone':0,'Group':1\n",
    "df['Visit Types'].value_counts().plot(kind='bar',figsize=(20,10))\n",
    "plt.title(\"Were you alone or in a group?\")\n",
    "plt.show()"
   ]
  },
  {
   "cell_type": "code",
   "execution_count": 52,
   "metadata": {},
   "outputs": [
    {
     "data": {
      "image/png": "[encoded data removed]",
      "text/plain": [
       "<Figure size 1440x720 with 1 Axes>"
      ]
     },
     "metadata": {
      "needs_background": "light"
     },
     "output_type": "display_data"
    }
   ],
   "source": [
    "df['Choose Hotel'].value_counts().plot(kind='bar',figsize=(20,10))\n",
    "plt.title(\"Why  did you choose this hotel?\")\n",
    "plt.show()"
   ]
  },
  {
   "cell_type": "code",
   "execution_count": 53,
   "metadata": {},
   "outputs": [
    {
     "data": {
      "image/png": "[encoded data removed]",
      "text/plain": [
       "<Figure size 1440x720 with 1 Axes>"
      ]
     },
     "metadata": {
      "needs_background": "light"
     },
     "output_type": "display_data"
    }
   ],
   "source": [
    "df['staff friendly and helpful'].value_counts().plot(kind='bar',figsize=(20,10))\n",
    "plt.title(\"Were the staff friendly and helpful?\")\n",
    "plt.show()"
   ]
  },
  {
   "cell_type": "code",
   "execution_count": 54,
   "metadata": {},
   "outputs": [
    {
     "data": {
      "image/png": "[encoded data removed]",
      "text/plain": [
       "<Figure size 1440x720 with 1 Axes>"
      ]
     },
     "metadata": {
      "needs_background": "light"
     },
     "output_type": "display_data"
    }
   ],
   "source": [
    "df['eat at the hotel'].value_counts().plot(kind='bar',figsize=(20,10))\n",
    "plt.title(\"Did you eat at the hotel?\")\n",
    "plt.show()"
   ]
  },
  {
   "cell_type": "code",
   "execution_count": 55,
   "metadata": {},
   "outputs": [
    {
     "data": {
      "image/png": "[encoded data removed]",
      "text/plain": [
       "<Figure size 1440x720 with 1 Axes>"
      ]
     },
     "metadata": {
      "needs_background": "light"
     },
     "output_type": "display_data"
    }
   ],
   "source": [
    "df['Food Hygiene rating.'].value_counts().plot(kind='bar',figsize=(20,10))\n",
    "plt.title(\"Food Hygiene rating.\")\n",
    "plt.show()"
   ]
  },
  {
   "cell_type": "code",
   "execution_count": 56,
   "metadata": {},
   "outputs": [
    {
     "data": {
      "image/png": "[encoded data removed]",
      "text/plain": [
       "<Figure size 1440x720 with 1 Axes>"
      ]
     },
     "metadata": {
      "needs_background": "light"
     },
     "output_type": "display_data"
    }
   ],
   "source": [
    "df['Rating'].value_counts().plot(kind='bar',figsize=(20,10))\n",
    "plt.title(\"How would you rate the hotel?\")\n",
    "plt.show()"
   ]
  },
  {
   "cell_type": "code",
   "execution_count": 57,
   "metadata": {},
   "outputs": [
    {
     "data": {
      "image/png": "[encoded data removed]",
      "text/plain": [
       "<Figure size 1440x720 with 1 Axes>"
      ]
     },
     "metadata": {
      "needs_background": "light"
     },
     "output_type": "display_data"
    }
   ],
   "source": [
    "df['stay hotel again'].value_counts().plot(kind='bar',figsize=(20,10))\n",
    "plt.title(\"How Likely are you to stay at this hotel again?\")\n",
    "plt.show()"
   ]
  },
  {
   "cell_type": "code",
   "execution_count": 58,
   "metadata": {},
   "outputs": [
    {
     "data": {
      "image/png": "[encoded data removed]",
      "text/plain": [
       "<Figure size 1440x720 with 1 Axes>"
      ]
     },
     "metadata": {
      "needs_background": "light"
     },
     "output_type": "display_data"
    }
   ],
   "source": [
    "df['Overall'].value_counts().plot(kind='bar',figsize=(20,10))\n",
    "plt.title('Overall were you satisfied ,dissatisfied , or neither? ')\n",
    "plt.show()"
   ]
  },
  {
   "cell_type": "code",
   "execution_count": 59,
   "metadata": {},
   "outputs": [
    {
     "data": {
      "image/png": "[encoded data removed]",
      "text/plain": [
       "<Figure size 1440x720 with 1 Axes>"
      ]
     },
     "metadata": {
      "needs_background": "light"
     },
     "output_type": "display_data"
    }
   ],
   "source": [
    "df['Suggestion'].value_counts().plot(kind='bar',figsize=(20,10))\n",
    "plt.title('Would you like to suggest them to improve their service? ')\n",
    "plt.show()"
   ]
  },
  {
   "cell_type": "code",
   "execution_count": 60,
   "metadata": {},
   "outputs": [],
   "source": [
    "#df['Rating'] = df['Rating'].replace({'Excellent':1,'Very Good':2,'Good':3,'Poor':4})"
   ]
  },
  {
   "cell_type": "code",
   "execution_count": 61,
   "metadata": {},
   "outputs": [],
   "source": [
    "from sklearn.model_selection import train_test_split\n"
   ]
  },
  {
   "cell_type": "code",
   "execution_count": 62,
   "metadata": {},
   "outputs": [],
   "source": [
    "train, test = train_test_split(df,test_size=0.25)"
   ]
  },
  {
   "cell_type": "code",
   "execution_count": 63,
   "metadata": {},
   "outputs": [
    {
     "data": {
      "text/plain": [
       "(150, 16)"
      ]
     },
     "execution_count": 63,
     "metadata": {},
     "output_type": "execute_result"
    }
   ],
   "source": [
    "train.shape"
   ]
  },
  {
   "cell_type": "code",
   "execution_count": 64,
   "metadata": {},
   "outputs": [
    {
     "data": {
      "text/plain": [
       "(51, 16)"
      ]
     },
     "execution_count": 64,
     "metadata": {},
     "output_type": "execute_result"
    }
   ],
   "source": [
    "test.shape"
   ]
  },
  {
   "cell_type": "code",
   "execution_count": 65,
   "metadata": {},
   "outputs": [
    {
     "data": {
      "text/html": [
       "<div>\n",
       "<style scoped>\n",
       "    .dataframe tbody tr th:only-of-type {\n",
       "        vertical-align: middle;\n",
       "    }\n",
       "\n",
       "    .dataframe tbody tr th {\n",
       "        vertical-align: top;\n",
       "    }\n",
       "\n",
       "    .dataframe thead th {\n",
       "        text-align: right;\n",
       "    }\n",
       "</style>\n",
       "<table border=\"1\" class=\"dataframe\">\n",
       "  <thead>\n",
       "    <tr style=\"text-align: right;\">\n",
       "      <th></th>\n",
       "      <th>Timestamp</th>\n",
       "      <th>Hotel Type</th>\n",
       "      <th>Hangout</th>\n",
       "      <th>COVID-19 Situation</th>\n",
       "      <th>satisfied</th>\n",
       "      <th>Reason</th>\n",
       "      <th>Visit Types</th>\n",
       "      <th>Choose Hotel</th>\n",
       "      <th>staff friendly and helpful</th>\n",
       "      <th>eat at the hotel</th>\n",
       "      <th>Rating</th>\n",
       "      <th>Food Hygiene rating.</th>\n",
       "      <th>stay hotel again</th>\n",
       "      <th>Overall</th>\n",
       "      <th>Suggestion</th>\n",
       "      <th>Recommend</th>\n",
       "    </tr>\n",
       "  </thead>\n",
       "  <tbody>\n",
       "    <tr>\n",
       "      <th>150</th>\n",
       "      <td>08/04/2021 10:55:37</td>\n",
       "      <td>1</td>\n",
       "      <td>Good Environment, Affordable</td>\n",
       "      <td>Sanitization, Temperature Checking, Mask</td>\n",
       "      <td>Yes</td>\n",
       "      <td>3</td>\n",
       "      <td>1</td>\n",
       "      <td>Good Facility, Acessibility, Hotel Loyalty, Di...</td>\n",
       "      <td>Yes</td>\n",
       "      <td>Yes</td>\n",
       "      <td>Very Good</td>\n",
       "      <td>Generally Satisfactory</td>\n",
       "      <td>Yes</td>\n",
       "      <td>Satisfied</td>\n",
       "      <td>Yes</td>\n",
       "      <td>Good environment</td>\n",
       "    </tr>\n",
       "    <tr>\n",
       "      <th>170</th>\n",
       "      <td>20/04/2021 18:04:44</td>\n",
       "      <td>0</td>\n",
       "      <td>Good Environment</td>\n",
       "      <td>Temperature Checking</td>\n",
       "      <td>Yes</td>\n",
       "      <td>0</td>\n",
       "      <td>1</td>\n",
       "      <td>Acessibility</td>\n",
       "      <td>Yes</td>\n",
       "      <td>Yes</td>\n",
       "      <td>Very Good</td>\n",
       "      <td>Very Good</td>\n",
       "      <td>Yes</td>\n",
       "      <td>Satisfied</td>\n",
       "      <td>Yes</td>\n",
       "      <td>7/10</td>\n",
       "    </tr>\n",
       "    <tr>\n",
       "      <th>97</th>\n",
       "      <td>21/02/2021 23:10:56</td>\n",
       "      <td>0</td>\n",
       "      <td>Facility, Good Environment</td>\n",
       "      <td>Sanitization, Temperature Checking, Mask</td>\n",
       "      <td>Yes</td>\n",
       "      <td>1</td>\n",
       "      <td>1</td>\n",
       "      <td>Good Facility, Acessibility, Safety</td>\n",
       "      <td>Yes</td>\n",
       "      <td>Yes</td>\n",
       "      <td>Very Good</td>\n",
       "      <td>Excellent</td>\n",
       "      <td>May be</td>\n",
       "      <td>Satisfied</td>\n",
       "      <td>No</td>\n",
       "      <td>Me &amp; my group had been here for a weekend. The...</td>\n",
       "    </tr>\n",
       "    <tr>\n",
       "      <th>21</th>\n",
       "      <td>20/02/2021 15:49:00</td>\n",
       "      <td>1</td>\n",
       "      <td>Facility</td>\n",
       "      <td>Sanitization, Temperature Checking, Mask, Gloves</td>\n",
       "      <td>Yes</td>\n",
       "      <td>1</td>\n",
       "      <td>1</td>\n",
       "      <td>Good Facility, Acessibility, Hotel Loyalty, Wo...</td>\n",
       "      <td>Yes</td>\n",
       "      <td>Yes</td>\n",
       "      <td>Excellent</td>\n",
       "      <td>Excellent</td>\n",
       "      <td>May be</td>\n",
       "      <td>Satisfied</td>\n",
       "      <td>Yes</td>\n",
       "      <td>Frnds</td>\n",
       "    </tr>\n",
       "    <tr>\n",
       "      <th>128</th>\n",
       "      <td>23/03/2021 00:05:45</td>\n",
       "      <td>1</td>\n",
       "      <td>Affordable</td>\n",
       "      <td>Sanitization</td>\n",
       "      <td>Yes</td>\n",
       "      <td>2</td>\n",
       "      <td>1</td>\n",
       "      <td>Good Facility</td>\n",
       "      <td>Yes</td>\n",
       "      <td>Yes</td>\n",
       "      <td>Good</td>\n",
       "      <td>Good</td>\n",
       "      <td>Yes</td>\n",
       "      <td>Satisfied</td>\n",
       "      <td>Yes</td>\n",
       "      <td>5</td>\n",
       "    </tr>\n",
       "  </tbody>\n",
       "</table>\n",
       "</div>"
      ],
      "text/plain": [
       "               Timestamp  Hotel Type                       Hangout  \\\n",
       "150  08/04/2021 10:55:37           1  Good Environment, Affordable   \n",
       "170  20/04/2021 18:04:44           0              Good Environment   \n",
       "97   21/02/2021 23:10:56           0    Facility, Good Environment   \n",
       "21   20/02/2021 15:49:00           1                      Facility   \n",
       "128  23/03/2021 00:05:45           1                    Affordable   \n",
       "\n",
       "                                   COVID-19 Situation satisfied  Reason  \\\n",
       "150          Sanitization, Temperature Checking, Mask       Yes       3   \n",
       "170                              Temperature Checking       Yes       0   \n",
       "97           Sanitization, Temperature Checking, Mask       Yes       1   \n",
       "21   Sanitization, Temperature Checking, Mask, Gloves       Yes       1   \n",
       "128                                      Sanitization       Yes       2   \n",
       "\n",
       "     Visit Types                                       Choose Hotel  \\\n",
       "150            1  Good Facility, Acessibility, Hotel Loyalty, Di...   \n",
       "170            1                                       Acessibility   \n",
       "97             1                Good Facility, Acessibility, Safety   \n",
       "21             1  Good Facility, Acessibility, Hotel Loyalty, Wo...   \n",
       "128            1                                      Good Facility   \n",
       "\n",
       "    staff friendly and helpful eat at the hotel     Rating  \\\n",
       "150                        Yes              Yes  Very Good   \n",
       "170                        Yes              Yes  Very Good   \n",
       "97                         Yes              Yes  Very Good   \n",
       "21                         Yes              Yes  Excellent   \n",
       "128                        Yes              Yes       Good   \n",
       "\n",
       "       Food Hygiene rating. stay hotel again    Overall Suggestion  \\\n",
       "150  Generally Satisfactory              Yes  Satisfied        Yes   \n",
       "170               Very Good              Yes  Satisfied        Yes   \n",
       "97                Excellent           May be  Satisfied         No   \n",
       "21                Excellent           May be  Satisfied        Yes   \n",
       "128                    Good              Yes  Satisfied        Yes   \n",
       "\n",
       "                                             Recommend  \n",
       "150                                  Good environment   \n",
       "170                                               7/10  \n",
       "97   Me & my group had been here for a weekend. The...  \n",
       "21                                              Frnds   \n",
       "128                                                  5  "
      ]
     },
     "execution_count": 65,
     "metadata": {},
     "output_type": "execute_result"
    }
   ],
   "source": [
    "test.head()"
   ]
  },
  {
   "cell_type": "code",
   "execution_count": 66,
   "metadata": {},
   "outputs": [
    {
     "data": {
      "text/html": [
       "<div>\n",
       "<style scoped>\n",
       "    .dataframe tbody tr th:only-of-type {\n",
       "        vertical-align: middle;\n",
       "    }\n",
       "\n",
       "    .dataframe tbody tr th {\n",
       "        vertical-align: top;\n",
       "    }\n",
       "\n",
       "    .dataframe thead th {\n",
       "        text-align: right;\n",
       "    }\n",
       "</style>\n",
       "<table border=\"1\" class=\"dataframe\">\n",
       "  <thead>\n",
       "    <tr style=\"text-align: right;\">\n",
       "      <th></th>\n",
       "      <th>Timestamp</th>\n",
       "      <th>Hotel Type</th>\n",
       "      <th>Hangout</th>\n",
       "      <th>COVID-19 Situation</th>\n",
       "      <th>satisfied</th>\n",
       "      <th>Reason</th>\n",
       "      <th>Visit Types</th>\n",
       "      <th>Choose Hotel</th>\n",
       "      <th>staff friendly and helpful</th>\n",
       "      <th>eat at the hotel</th>\n",
       "      <th>Rating</th>\n",
       "      <th>Food Hygiene rating.</th>\n",
       "      <th>stay hotel again</th>\n",
       "      <th>Overall</th>\n",
       "      <th>Suggestion</th>\n",
       "      <th>Recommend</th>\n",
       "    </tr>\n",
       "  </thead>\n",
       "  <tbody>\n",
       "    <tr>\n",
       "      <th>70</th>\n",
       "      <td>21/02/2021 01:11:52</td>\n",
       "      <td>0</td>\n",
       "      <td>Good Environment, Affordable, Food and Traditi...</td>\n",
       "      <td>Sanitization, Temperature Checking, Mask, Gloves</td>\n",
       "      <td>Yes</td>\n",
       "      <td>1</td>\n",
       "      <td>1</td>\n",
       "      <td>Good Facility, Acessibility, Hotel Loyalty, Sa...</td>\n",
       "      <td>Yes</td>\n",
       "      <td>Yes</td>\n",
       "      <td>Very Good</td>\n",
       "      <td>Major Improvement Necessary</td>\n",
       "      <td>Yes</td>\n",
       "      <td>Satisfied</td>\n",
       "      <td>Yes</td>\n",
       "      <td>No</td>\n",
       "    </tr>\n",
       "    <tr>\n",
       "      <th>8</th>\n",
       "      <td>20/02/2021 14:03:34</td>\n",
       "      <td>1</td>\n",
       "      <td>Good Environment, Affordable, Food and Traditi...</td>\n",
       "      <td>Sanitization, Temperature Checking</td>\n",
       "      <td>Yes</td>\n",
       "      <td>2</td>\n",
       "      <td>1</td>\n",
       "      <td>Acessibility, Dinning Option, Safety</td>\n",
       "      <td>Yes</td>\n",
       "      <td>Yes</td>\n",
       "      <td>Good</td>\n",
       "      <td>Good</td>\n",
       "      <td>Yes</td>\n",
       "      <td>Satisfied</td>\n",
       "      <td>No</td>\n",
       "      <td>Nope</td>\n",
       "    </tr>\n",
       "    <tr>\n",
       "      <th>30</th>\n",
       "      <td>20/02/2021 19:31:32</td>\n",
       "      <td>0</td>\n",
       "      <td>Good Environment, Affordable</td>\n",
       "      <td>Sanitization, Temperature Checking</td>\n",
       "      <td>Yes</td>\n",
       "      <td>1</td>\n",
       "      <td>1</td>\n",
       "      <td>Good Facility, Safety</td>\n",
       "      <td>Yes</td>\n",
       "      <td>Yes</td>\n",
       "      <td>Very Good</td>\n",
       "      <td>Excellent</td>\n",
       "      <td>Yes</td>\n",
       "      <td>Satisfied</td>\n",
       "      <td>Yes</td>\n",
       "      <td>7/10</td>\n",
       "    </tr>\n",
       "    <tr>\n",
       "      <th>33</th>\n",
       "      <td>20/02/2021 20:18:43</td>\n",
       "      <td>1</td>\n",
       "      <td>Good Environment, Affordable, Food and Traditi...</td>\n",
       "      <td>Sanitization, Temperature Checking, Mask, Gloves</td>\n",
       "      <td>Yes</td>\n",
       "      <td>1</td>\n",
       "      <td>1</td>\n",
       "      <td>Good Facility, Acessibility, Hotel Loyalty, Wo...</td>\n",
       "      <td>Yes</td>\n",
       "      <td>Yes</td>\n",
       "      <td>Excellent</td>\n",
       "      <td>Excellent</td>\n",
       "      <td>May be</td>\n",
       "      <td>Satisfied</td>\n",
       "      <td>No</td>\n",
       "      <td>Nothing</td>\n",
       "    </tr>\n",
       "    <tr>\n",
       "      <th>178</th>\n",
       "      <td>22/04/2021 10:16:10</td>\n",
       "      <td>0</td>\n",
       "      <td>Good Environment</td>\n",
       "      <td>Temperature Checking</td>\n",
       "      <td>Yes</td>\n",
       "      <td>2</td>\n",
       "      <td>1</td>\n",
       "      <td>Acessibility</td>\n",
       "      <td>Yes</td>\n",
       "      <td>Yes</td>\n",
       "      <td>Very Good</td>\n",
       "      <td>Very Good</td>\n",
       "      <td>Yes</td>\n",
       "      <td>Satisfied</td>\n",
       "      <td>Yes</td>\n",
       "      <td>7/10</td>\n",
       "    </tr>\n",
       "  </tbody>\n",
       "</table>\n",
       "</div>"
      ],
      "text/plain": [
       "               Timestamp  Hotel Type  \\\n",
       "70   21/02/2021 01:11:52           0   \n",
       "8    20/02/2021 14:03:34           1   \n",
       "30   20/02/2021 19:31:32           0   \n",
       "33   20/02/2021 20:18:43           1   \n",
       "178  22/04/2021 10:16:10           0   \n",
       "\n",
       "                                               Hangout  \\\n",
       "70   Good Environment, Affordable, Food and Traditi...   \n",
       "8    Good Environment, Affordable, Food and Traditi...   \n",
       "30                        Good Environment, Affordable   \n",
       "33   Good Environment, Affordable, Food and Traditi...   \n",
       "178                                   Good Environment   \n",
       "\n",
       "                                   COVID-19 Situation satisfied  Reason  \\\n",
       "70   Sanitization, Temperature Checking, Mask, Gloves       Yes       1   \n",
       "8                  Sanitization, Temperature Checking       Yes       2   \n",
       "30                 Sanitization, Temperature Checking       Yes       1   \n",
       "33   Sanitization, Temperature Checking, Mask, Gloves       Yes       1   \n",
       "178                              Temperature Checking       Yes       2   \n",
       "\n",
       "     Visit Types                                       Choose Hotel  \\\n",
       "70             1  Good Facility, Acessibility, Hotel Loyalty, Sa...   \n",
       "8              1               Acessibility, Dinning Option, Safety   \n",
       "30             1                              Good Facility, Safety   \n",
       "33             1  Good Facility, Acessibility, Hotel Loyalty, Wo...   \n",
       "178            1                                       Acessibility   \n",
       "\n",
       "    staff friendly and helpful eat at the hotel     Rating  \\\n",
       "70                         Yes              Yes  Very Good   \n",
       "8                          Yes              Yes       Good   \n",
       "30                         Yes              Yes  Very Good   \n",
       "33                         Yes              Yes  Excellent   \n",
       "178                        Yes              Yes  Very Good   \n",
       "\n",
       "            Food Hygiene rating. stay hotel again    Overall Suggestion  \\\n",
       "70   Major Improvement Necessary              Yes  Satisfied        Yes   \n",
       "8                           Good              Yes  Satisfied         No   \n",
       "30                     Excellent              Yes  Satisfied        Yes   \n",
       "33                     Excellent           May be  Satisfied         No   \n",
       "178                    Very Good              Yes  Satisfied        Yes   \n",
       "\n",
       "    Recommend  \n",
       "70         No  \n",
       "8        Nope  \n",
       "30       7/10  \n",
       "33    Nothing  \n",
       "178      7/10  "
      ]
     },
     "execution_count": 66,
     "metadata": {},
     "output_type": "execute_result"
    }
   ],
   "source": [
    "train.head()"
   ]
  },
  {
   "cell_type": "code",
   "execution_count": 67,
   "metadata": {},
   "outputs": [],
   "source": [
    "c1 = DecisionTreeClassifier(min_samples_split=100)\n",
    "c2 = DecisionTreeClassifier(min_samples_split=10)"
   ]
  },
  {
   "cell_type": "code",
   "execution_count": 68,
   "metadata": {},
   "outputs": [],
   "source": [
    "features =['Visit Types','Reason','Hotel Type']"
   ]
  },
  {
   "cell_type": "code",
   "execution_count": 103,
   "metadata": {},
   "outputs": [],
   "source": [
    "train, test = train_test_split(df_New, test_size=0.10)"
   ]
  },
  {
   "cell_type": "code",
   "execution_count": 104,
   "metadata": {},
   "outputs": [],
   "source": [
    "X_train = train[features]\n",
    "Y_train = train['satisfied']"
   ]
  },
  {
   "cell_type": "code",
   "execution_count": 105,
   "metadata": {},
   "outputs": [],
   "source": [
    "X_test = train[features]\n",
    "Y_test = train['satisfied']"
   ]
  },
  {
   "cell_type": "code",
   "execution_count": 106,
   "metadata": {},
   "outputs": [],
   "source": [
    "tree1 = c1.fit(X_train, Y_train)\n",
    "tree2 = c2.fit(X_train, Y_train)"
   ]
  },
  {
   "cell_type": "code",
   "execution_count": 107,
   "metadata": {},
   "outputs": [],
   "source": [
    "y_pred_t1 = c1.predict(X_train)\n",
    "y_pred_t2 = c2.predict(X_train)"
   ]
  },
  {
   "cell_type": "code",
   "execution_count": 108,
   "metadata": {},
   "outputs": [],
   "source": [
    "y_pred1 = c1.predict(X_test)\n",
    "y_pred2 = c2.predict(X_test)"
   ]
  },
  {
   "cell_type": "code",
   "execution_count": 109,
   "metadata": {},
   "outputs": [
    {
     "name": "stdout",
     "output_type": "stream",
     "text": [
      "Collecting package metadata (current_repodata.json): ...working... done\n",
      "Solving environment: ...working... done\n",
      "\n",
      "# All requested packages already installed.\n",
      "\n",
      "\n",
      "Note: you may need to restart the kernel to use updated packages.\n"
     ]
    }
   ],
   "source": [
    "conda install graphviz"
   ]
  },
  {
   "cell_type": "code",
   "execution_count": 110,
   "metadata": {},
   "outputs": [
    {
     "name": "stdout",
     "output_type": "stream",
     "text": [
      "Collecting package metadata (current_repodata.json): ...working... done\n",
      "Solving environment: ...working... done\n",
      "\n",
      "# All requested packages already installed.\n",
      "\n",
      "\n",
      "Note: you may need to restart the kernel to use updated packages.\n"
     ]
    }
   ],
   "source": [
    "conda install python-graphviz"
   ]
  },
  {
   "cell_type": "code",
   "execution_count": 111,
   "metadata": {},
   "outputs": [
    {
     "name": "stdout",
     "output_type": "stream",
     "text": [
      "Collecting package metadata (current_repodata.json): ...working... done\n",
      "Solving environment: ...working... done\n",
      "Note: you may need to restart the kernel to use updated packages.\n",
      "\n",
      "\n",
      "# All requested packages already installed.\n",
      "\n"
     ]
    }
   ],
   "source": [
    "conda install pydot"
   ]
  },
  {
   "cell_type": "code",
   "execution_count": 112,
   "metadata": {},
   "outputs": [],
   "source": [
    "from sklearn.metrics import classification_report,confusion_matrix,accuracy_score"
   ]
  },
  {
   "cell_type": "code",
   "execution_count": 113,
   "metadata": {},
   "outputs": [],
   "source": [
    "from sklearn.tree import DecisionTreeClassifier"
   ]
  },
  {
   "cell_type": "code",
   "execution_count": 114,
   "metadata": {},
   "outputs": [],
   "source": [
    "dtree_algo = DecisionTreeClassifier()"
   ]
  },
  {
   "cell_type": "code",
   "execution_count": 115,
   "metadata": {},
   "outputs": [],
   "source": [
    "dtree = dtree_algo.fit(X_train, Y_train)"
   ]
  },
  {
   "cell_type": "code",
   "execution_count": 116,
   "metadata": {},
   "outputs": [],
   "source": [
    "dtree_pred= dtree_algo.predict(X_train)"
   ]
  },
  {
   "cell_type": "code",
   "execution_count": 117,
   "metadata": {},
   "outputs": [],
   "source": [
    "dtree_test_pred= dtree_algo.predict(X_test)"
   ]
  },
  {
   "cell_type": "code",
   "execution_count": 118,
   "metadata": {},
   "outputs": [
    {
     "name": "stdout",
     "output_type": "stream",
     "text": [
      "[[  1   7]\n",
      " [  1 171]]\n"
     ]
    }
   ],
   "source": [
    "print(confusion_matrix(Y_train,dtree_pred))"
   ]
  },
  {
   "cell_type": "code",
   "execution_count": 119,
   "metadata": {},
   "outputs": [
    {
     "name": "stdout",
     "output_type": "stream",
     "text": [
      "[[  1   7]\n",
      " [  1 171]]\n"
     ]
    }
   ],
   "source": [
    "print(confusion_matrix(Y_test,dtree_test_pred))"
   ]
  },
  {
   "cell_type": "code",
   "execution_count": 120,
   "metadata": {},
   "outputs": [
    {
     "name": "stdout",
     "output_type": "stream",
     "text": [
      "0.9555555555555556\n"
     ]
    }
   ],
   "source": [
    "print(accuracy_score(Y_train,dtree_pred))"
   ]
  },
  {
   "cell_type": "code",
   "execution_count": 121,
   "metadata": {},
   "outputs": [
    {
     "name": "stdout",
     "output_type": "stream",
     "text": [
      "0.9555555555555556\n"
     ]
    }
   ],
   "source": [
    "print(accuracy_score(Y_test,dtree_test_pred))"
   ]
  },
  {
   "cell_type": "code",
   "execution_count": 122,
   "metadata": {},
   "outputs": [
    {
     "name": "stdout",
     "output_type": "stream",
     "text": [
      "              precision    recall  f1-score   support\n",
      "\n",
      "          No       0.50      0.12      0.20         8\n",
      "         Yes       0.96      0.99      0.98       172\n",
      "\n",
      "    accuracy                           0.96       180\n",
      "   macro avg       0.73      0.56      0.59       180\n",
      "weighted avg       0.94      0.96      0.94       180\n",
      "\n"
     ]
    }
   ],
   "source": [
    "print(classification_report(Y_train,dtree_pred))"
   ]
  },
  {
   "cell_type": "code",
   "execution_count": 123,
   "metadata": {},
   "outputs": [
    {
     "name": "stdout",
     "output_type": "stream",
     "text": [
      "              precision    recall  f1-score   support\n",
      "\n",
      "          No       0.50      0.12      0.20         8\n",
      "         Yes       0.96      0.99      0.98       172\n",
      "\n",
      "    accuracy                           0.96       180\n",
      "   macro avg       0.73      0.56      0.59       180\n",
      "weighted avg       0.94      0.96      0.94       180\n",
      "\n"
     ]
    }
   ],
   "source": [
    "print(classification_report(Y_test,dtree_test_pred))"
   ]
  },
  {
   "cell_type": "markdown",
   "metadata": {},
   "source": [
    "# Support Vector Machine"
   ]
  },
  {
   "cell_type": "code",
   "execution_count": 98,
   "metadata": {},
   "outputs": [],
   "source": [
    "from sklearn import svm"
   ]
  },
  {
   "cell_type": "code",
   "execution_count": 99,
   "metadata": {},
   "outputs": [],
   "source": [
    "svmf = svm.SVC(C=10000000, kernel='rbf', degree=3)"
   ]
  },
  {
   "cell_type": "code",
   "execution_count": 100,
   "metadata": {},
   "outputs": [],
   "source": [
    "\n",
    "model_svm = svmf.fit(X_train, Y_train)"
   ]
  },
  {
   "cell_type": "code",
   "execution_count": 101,
   "metadata": {},
   "outputs": [],
   "source": [
    "pred_svm = model_svm.predict(X_test)"
   ]
  },
  {
   "cell_type": "code",
   "execution_count": 102,
   "metadata": {},
   "outputs": [
    {
     "data": {
      "text/plain": [
       "96.0"
      ]
     },
     "execution_count": 102,
     "metadata": {},
     "output_type": "execute_result"
    }
   ],
   "source": [
    "sat_test_score_svm = accuracy_score(Y_test, pred_svm)*100\n",
    "sat_test_score_svm"
   ]
  },
  {
   "cell_type": "code",
   "execution_count": null,
   "metadata": {},
   "outputs": [],
   "source": []
  }
 ],
 "metadata": {
  "kernelspec": {
   "display_name": "Python 3",
   "language": "python",
   "name": "python3"
  },
  "language_info": {
   "codemirror_mode": {
    "name": "ipython",
    "version": 3
   },
   "file_extension": ".py",
   "mimetype": "text/x-python",
   "name": "python",
   "nbconvert_exporter": "python",
   "pygments_lexer": "ipython3",
   "version": "3.8.5"
  }
 },
 "nbformat": 4,
 "nbformat_minor": 4
}
