{
 "cells": [
  {
   "cell_type": "markdown",
   "metadata": {},
   "source": [
    "Import the Libraries:"
   ]
  },
  {
   "cell_type": "code",
   "execution_count": 193,
   "metadata": {},
   "outputs": [],
   "source": [
    "import pandas as pd\n",
    "import matplotlib.pyplot as plt\n",
    "import numpy as np\n",
    "import seaborn as sns\n",
    "from sklearn import tree\n",
    "from sklearn.model_selection import train_test_split\n",
    "from sklearn.tree import DecisionTreeClassifier\n",
    "import graphviz\n",
    "from sklearn.tree import export_graphviz\n",
    "from sklearn.metrics import classification_report, confusion_matrix\n",
    "%matplotlib inline"
   ]
  },
  {
   "cell_type": "code",
   "execution_count": 194,
   "metadata": {},
   "outputs": [],
   "source": [
    "pd.set_option('display.max_columns', None)"
   ]
  },
  {
   "cell_type": "code",
   "execution_count": 195,
   "metadata": {},
   "outputs": [],
   "source": [
    "#Load the data\n",
    "df=pd.read_csv(\"city hotel & resort hotel.csv.csv\")"
   ]
  },
  {
   "cell_type": "code",
   "execution_count": 196,
   "metadata": {},
   "outputs": [
    {
     "data": {
      "text/plain": [
       "Timestamp                                                    object\n",
       "What do you like to prefer more?                             object\n",
       "Why do you like to hangout in this hotel?                    object\n",
       "Which kind of facilities are given in COVID-19 situation?    object\n",
       "Are you satisfied with the above facilities?                 object\n",
       "What was the reason for your visit?                          object\n",
       "Were you alone or in a group?                                object\n",
       "Why  did you choose this hotel?                              object\n",
       "Were the staff friendly and helpful?                         object\n",
       "Did you eat at the hotel?                                    object\n",
       "How would you rate the hotel?                                object\n",
       "Food Hygiene rating.                                         object\n",
       "How Likely are you to stay at this hotel again?              object\n",
       "Overall were you satisfied ,dissatisfied , or neither?       object\n",
       "Would you like to suggest them to improve their service?     object\n",
       "How Likely are you to recommend this hotel?                  object\n",
       "dtype: object"
      ]
     },
     "execution_count": 196,
     "metadata": {},
     "output_type": "execute_result"
    }
   ],
   "source": [
    "#Get the datatypesof the columns\n",
    "df.dtypes"
   ]
  },
  {
   "cell_type": "code",
   "execution_count": 197,
   "metadata": {},
   "outputs": [
    {
     "data": {
      "text/html": [
       "<div>\n",
       "<style scoped>\n",
       "    .dataframe tbody tr th:only-of-type {\n",
       "        vertical-align: middle;\n",
       "    }\n",
       "\n",
       "    .dataframe tbody tr th {\n",
       "        vertical-align: top;\n",
       "    }\n",
       "\n",
       "    .dataframe thead th {\n",
       "        text-align: right;\n",
       "    }\n",
       "</style>\n",
       "<table border=\"1\" class=\"dataframe\">\n",
       "  <thead>\n",
       "    <tr style=\"text-align: right;\">\n",
       "      <th></th>\n",
       "      <th>Timestamp</th>\n",
       "      <th>What do you like to prefer more?</th>\n",
       "      <th>Why do you like to hangout in this hotel?</th>\n",
       "      <th>Which kind of facilities are given in COVID-19 situation?</th>\n",
       "      <th>Are you satisfied with the above facilities?</th>\n",
       "      <th>What was the reason for your visit?</th>\n",
       "      <th>Were you alone or in a group?</th>\n",
       "      <th>Why  did you choose this hotel?</th>\n",
       "      <th>Were the staff friendly and helpful?</th>\n",
       "      <th>Did you eat at the hotel?</th>\n",
       "      <th>How would you rate the hotel?</th>\n",
       "      <th>Food Hygiene rating.</th>\n",
       "      <th>How Likely are you to stay at this hotel again?</th>\n",
       "      <th>Overall were you satisfied ,dissatisfied , or neither?</th>\n",
       "      <th>Would you like to suggest them to improve their service?</th>\n",
       "      <th>How Likely are you to recommend this hotel?</th>\n",
       "    </tr>\n",
       "  </thead>\n",
       "  <tbody>\n",
       "    <tr>\n",
       "      <th>0</th>\n",
       "      <td>20/02/2021 13:13:48</td>\n",
       "      <td>Resort hotel</td>\n",
       "      <td>Good Environment</td>\n",
       "      <td>Sanitization</td>\n",
       "      <td>Yes</td>\n",
       "      <td>Budget friendly</td>\n",
       "      <td>Group</td>\n",
       "      <td>Good Facility</td>\n",
       "      <td>Yes</td>\n",
       "      <td>Yes</td>\n",
       "      <td>Excellent</td>\n",
       "      <td>Excellent</td>\n",
       "      <td>Yes</td>\n",
       "      <td>Satisfied</td>\n",
       "      <td>No</td>\n",
       "      <td>Very Nice</td>\n",
       "    </tr>\n",
       "    <tr>\n",
       "      <th>1</th>\n",
       "      <td>20/02/2021 13:16:53</td>\n",
       "      <td>Resort hotel</td>\n",
       "      <td>Facility, Good Environment, Affordable, Food a...</td>\n",
       "      <td>Sanitization, Temperature Checking, Mask</td>\n",
       "      <td>Yes</td>\n",
       "      <td>For the trip</td>\n",
       "      <td>Group</td>\n",
       "      <td>Good Facility</td>\n",
       "      <td>Yes</td>\n",
       "      <td>Yes</td>\n",
       "      <td>Good</td>\n",
       "      <td>Generally Satisfactory</td>\n",
       "      <td>May be</td>\n",
       "      <td>Satisfied</td>\n",
       "      <td>Yes</td>\n",
       "      <td>good</td>\n",
       "    </tr>\n",
       "    <tr>\n",
       "      <th>2</th>\n",
       "      <td>20/02/2021 13:46:01</td>\n",
       "      <td>Resort hotel</td>\n",
       "      <td>Facility, Good Environment</td>\n",
       "      <td>Sanitization, Temperature Checking, Mask</td>\n",
       "      <td>Yes</td>\n",
       "      <td>For the trip</td>\n",
       "      <td>Group</td>\n",
       "      <td>Good Facility</td>\n",
       "      <td>Yes</td>\n",
       "      <td>Yes</td>\n",
       "      <td>Excellent</td>\n",
       "      <td>Very Good</td>\n",
       "      <td>May be</td>\n",
       "      <td>Satisfied</td>\n",
       "      <td>No</td>\n",
       "      <td>Very good</td>\n",
       "    </tr>\n",
       "    <tr>\n",
       "      <th>3</th>\n",
       "      <td>20/02/2021 13:46:08</td>\n",
       "      <td>Resort hotel</td>\n",
       "      <td>Facility, Good Environment</td>\n",
       "      <td>Sanitization, Temperature Checking, Mask</td>\n",
       "      <td>Yes</td>\n",
       "      <td>For the trip</td>\n",
       "      <td>Group</td>\n",
       "      <td>Good Facility</td>\n",
       "      <td>Yes</td>\n",
       "      <td>Yes</td>\n",
       "      <td>Excellent</td>\n",
       "      <td>Very Good</td>\n",
       "      <td>May be</td>\n",
       "      <td>Satisfied</td>\n",
       "      <td>No</td>\n",
       "      <td>Very good</td>\n",
       "    </tr>\n",
       "    <tr>\n",
       "      <th>4</th>\n",
       "      <td>20/02/2021 13:57:17</td>\n",
       "      <td>City hotel</td>\n",
       "      <td>Good Environment</td>\n",
       "      <td>Sanitization, Temperature Checking</td>\n",
       "      <td>No</td>\n",
       "      <td>For the trip</td>\n",
       "      <td>Group</td>\n",
       "      <td>Good Facility, Acessibility, Dinning Option, S...</td>\n",
       "      <td>Yes</td>\n",
       "      <td>Yes</td>\n",
       "      <td>Good</td>\n",
       "      <td>Generally Satisfactory</td>\n",
       "      <td>May be</td>\n",
       "      <td>Satisfied</td>\n",
       "      <td>Yes</td>\n",
       "      <td>Yes I will recommend this hotel</td>\n",
       "    </tr>\n",
       "  </tbody>\n",
       "</table>\n",
       "</div>"
      ],
      "text/plain": [
       "             Timestamp What do you like to prefer more?  \\\n",
       "0  20/02/2021 13:13:48                     Resort hotel   \n",
       "1  20/02/2021 13:16:53                     Resort hotel   \n",
       "2  20/02/2021 13:46:01                     Resort hotel   \n",
       "3  20/02/2021 13:46:08                     Resort hotel   \n",
       "4  20/02/2021 13:57:17                       City hotel   \n",
       "\n",
       "           Why do you like to hangout in this hotel?  \\\n",
       "0                                   Good Environment   \n",
       "1  Facility, Good Environment, Affordable, Food a...   \n",
       "2                         Facility, Good Environment   \n",
       "3                         Facility, Good Environment   \n",
       "4                                   Good Environment   \n",
       "\n",
       "  Which kind of facilities are given in COVID-19 situation?  \\\n",
       "0                                       Sanitization          \n",
       "1           Sanitization, Temperature Checking, Mask          \n",
       "2           Sanitization, Temperature Checking, Mask          \n",
       "3           Sanitization, Temperature Checking, Mask          \n",
       "4                 Sanitization, Temperature Checking          \n",
       "\n",
       "  Are you satisfied with the above facilities?  \\\n",
       "0                                          Yes   \n",
       "1                                          Yes   \n",
       "2                                          Yes   \n",
       "3                                          Yes   \n",
       "4                                           No   \n",
       "\n",
       "  What was the reason for your visit? Were you alone or in a group?  \\\n",
       "0                     Budget friendly                         Group   \n",
       "1                        For the trip                         Group   \n",
       "2                        For the trip                         Group   \n",
       "3                        For the trip                         Group   \n",
       "4                        For the trip                         Group   \n",
       "\n",
       "                     Why  did you choose this hotel?  \\\n",
       "0                                      Good Facility   \n",
       "1                                      Good Facility   \n",
       "2                                      Good Facility   \n",
       "3                                      Good Facility   \n",
       "4  Good Facility, Acessibility, Dinning Option, S...   \n",
       "\n",
       "  Were the staff friendly and helpful? Did you eat at the hotel?  \\\n",
       "0                                  Yes                       Yes   \n",
       "1                                  Yes                       Yes   \n",
       "2                                  Yes                       Yes   \n",
       "3                                  Yes                       Yes   \n",
       "4                                  Yes                       Yes   \n",
       "\n",
       "  How would you rate the hotel?    Food Hygiene rating.  \\\n",
       "0                     Excellent               Excellent   \n",
       "1                          Good  Generally Satisfactory   \n",
       "2                     Excellent               Very Good   \n",
       "3                     Excellent               Very Good   \n",
       "4                          Good  Generally Satisfactory   \n",
       "\n",
       "  How Likely are you to stay at this hotel again?  \\\n",
       "0                                             Yes   \n",
       "1                                          May be   \n",
       "2                                          May be   \n",
       "3                                          May be   \n",
       "4                                          May be   \n",
       "\n",
       "  Overall were you satisfied ,dissatisfied , or neither?   \\\n",
       "0                                          Satisfied        \n",
       "1                                          Satisfied        \n",
       "2                                          Satisfied        \n",
       "3                                          Satisfied        \n",
       "4                                          Satisfied        \n",
       "\n",
       "  Would you like to suggest them to improve their service?   \\\n",
       "0                                                 No          \n",
       "1                                                Yes          \n",
       "2                                                 No          \n",
       "3                                                 No          \n",
       "4                                                Yes          \n",
       "\n",
       "  How Likely are you to recommend this hotel?  \n",
       "0                                   Very Nice  \n",
       "1                                       good   \n",
       "2                                   Very good  \n",
       "3                                   Very good  \n",
       "4             Yes I will recommend this hotel  "
      ]
     },
     "execution_count": 197,
     "metadata": {},
     "output_type": "execute_result"
    }
   ],
   "source": [
    "#looking at first rows of the data\n",
    "df.head()"
   ]
  },
  {
   "cell_type": "code",
   "execution_count": 198,
   "metadata": {},
   "outputs": [],
   "source": [
    "df.rename(columns={'What do you like to prefer more?':'Hotel Type',\n",
    "                   'Why do you like to hangout in this hotel?':'Hangout',\n",
    "                  'Which kind of facilities are given in COVID-19 situation?':'COVID-19 Situation',\n",
    "                  'Are you satisfied with the above facilities?':'satisfied',\n",
    "                  'What was the reason for your visit?':'Reason',\n",
    "                   'Were you alone or in a group?':'Visit Types',\n",
    "                  'Why did you choose this hotel?':'Choose this hotel',\n",
    "                  'Were the staff friendly and helpful?':'staff friendly and helpful',\n",
    "                  'Did you eat at the hotel?':'eat at the hotel',\n",
    "                  'How would you rate the hotel?':'Rating',\n",
    "                  'Food Hygiene rating':'Food Hygiene',\n",
    "                  'How Likely are you to stay at this hotel again?':'stay hotel again',\n",
    "                  'Overall were you satisfied ,dissatisfied , or neither? ':'Overall',\n",
    "                  'Would you like to suggest them to improve their service? ':'Suggestion','How Likely are you to recommend this hotel?':'Recommend'},inplace=True)"
   ]
  },
  {
   "cell_type": "code",
   "execution_count": 199,
   "metadata": {},
   "outputs": [
    {
     "data": {
      "text/html": [
       "<div>\n",
       "<style scoped>\n",
       "    .dataframe tbody tr th:only-of-type {\n",
       "        vertical-align: middle;\n",
       "    }\n",
       "\n",
       "    .dataframe tbody tr th {\n",
       "        vertical-align: top;\n",
       "    }\n",
       "\n",
       "    .dataframe thead th {\n",
       "        text-align: right;\n",
       "    }\n",
       "</style>\n",
       "<table border=\"1\" class=\"dataframe\">\n",
       "  <thead>\n",
       "    <tr style=\"text-align: right;\">\n",
       "      <th></th>\n",
       "      <th>Timestamp</th>\n",
       "      <th>Hotel Type</th>\n",
       "      <th>Hangout</th>\n",
       "      <th>COVID-19 Situation</th>\n",
       "      <th>satisfied</th>\n",
       "      <th>Reason</th>\n",
       "      <th>Visit Types</th>\n",
       "      <th>Why  did you choose this hotel?</th>\n",
       "      <th>staff friendly and helpful</th>\n",
       "      <th>eat at the hotel</th>\n",
       "      <th>Rating</th>\n",
       "      <th>Food Hygiene rating.</th>\n",
       "      <th>stay hotel again</th>\n",
       "      <th>Overall</th>\n",
       "      <th>Suggestion</th>\n",
       "      <th>Recommend</th>\n",
       "    </tr>\n",
       "  </thead>\n",
       "  <tbody>\n",
       "    <tr>\n",
       "      <th>0</th>\n",
       "      <td>20/02/2021 13:13:48</td>\n",
       "      <td>Resort hotel</td>\n",
       "      <td>Good Environment</td>\n",
       "      <td>Sanitization</td>\n",
       "      <td>Yes</td>\n",
       "      <td>Budget friendly</td>\n",
       "      <td>Group</td>\n",
       "      <td>Good Facility</td>\n",
       "      <td>Yes</td>\n",
       "      <td>Yes</td>\n",
       "      <td>Excellent</td>\n",
       "      <td>Excellent</td>\n",
       "      <td>Yes</td>\n",
       "      <td>Satisfied</td>\n",
       "      <td>No</td>\n",
       "      <td>Very Nice</td>\n",
       "    </tr>\n",
       "    <tr>\n",
       "      <th>1</th>\n",
       "      <td>20/02/2021 13:16:53</td>\n",
       "      <td>Resort hotel</td>\n",
       "      <td>Facility, Good Environment, Affordable, Food a...</td>\n",
       "      <td>Sanitization, Temperature Checking, Mask</td>\n",
       "      <td>Yes</td>\n",
       "      <td>For the trip</td>\n",
       "      <td>Group</td>\n",
       "      <td>Good Facility</td>\n",
       "      <td>Yes</td>\n",
       "      <td>Yes</td>\n",
       "      <td>Good</td>\n",
       "      <td>Generally Satisfactory</td>\n",
       "      <td>May be</td>\n",
       "      <td>Satisfied</td>\n",
       "      <td>Yes</td>\n",
       "      <td>good</td>\n",
       "    </tr>\n",
       "    <tr>\n",
       "      <th>2</th>\n",
       "      <td>20/02/2021 13:46:01</td>\n",
       "      <td>Resort hotel</td>\n",
       "      <td>Facility, Good Environment</td>\n",
       "      <td>Sanitization, Temperature Checking, Mask</td>\n",
       "      <td>Yes</td>\n",
       "      <td>For the trip</td>\n",
       "      <td>Group</td>\n",
       "      <td>Good Facility</td>\n",
       "      <td>Yes</td>\n",
       "      <td>Yes</td>\n",
       "      <td>Excellent</td>\n",
       "      <td>Very Good</td>\n",
       "      <td>May be</td>\n",
       "      <td>Satisfied</td>\n",
       "      <td>No</td>\n",
       "      <td>Very good</td>\n",
       "    </tr>\n",
       "    <tr>\n",
       "      <th>3</th>\n",
       "      <td>20/02/2021 13:46:08</td>\n",
       "      <td>Resort hotel</td>\n",
       "      <td>Facility, Good Environment</td>\n",
       "      <td>Sanitization, Temperature Checking, Mask</td>\n",
       "      <td>Yes</td>\n",
       "      <td>For the trip</td>\n",
       "      <td>Group</td>\n",
       "      <td>Good Facility</td>\n",
       "      <td>Yes</td>\n",
       "      <td>Yes</td>\n",
       "      <td>Excellent</td>\n",
       "      <td>Very Good</td>\n",
       "      <td>May be</td>\n",
       "      <td>Satisfied</td>\n",
       "      <td>No</td>\n",
       "      <td>Very good</td>\n",
       "    </tr>\n",
       "    <tr>\n",
       "      <th>4</th>\n",
       "      <td>20/02/2021 13:57:17</td>\n",
       "      <td>City hotel</td>\n",
       "      <td>Good Environment</td>\n",
       "      <td>Sanitization, Temperature Checking</td>\n",
       "      <td>No</td>\n",
       "      <td>For the trip</td>\n",
       "      <td>Group</td>\n",
       "      <td>Good Facility, Acessibility, Dinning Option, S...</td>\n",
       "      <td>Yes</td>\n",
       "      <td>Yes</td>\n",
       "      <td>Good</td>\n",
       "      <td>Generally Satisfactory</td>\n",
       "      <td>May be</td>\n",
       "      <td>Satisfied</td>\n",
       "      <td>Yes</td>\n",
       "      <td>Yes I will recommend this hotel</td>\n",
       "    </tr>\n",
       "  </tbody>\n",
       "</table>\n",
       "</div>"
      ],
      "text/plain": [
       "             Timestamp    Hotel Type  \\\n",
       "0  20/02/2021 13:13:48  Resort hotel   \n",
       "1  20/02/2021 13:16:53  Resort hotel   \n",
       "2  20/02/2021 13:46:01  Resort hotel   \n",
       "3  20/02/2021 13:46:08  Resort hotel   \n",
       "4  20/02/2021 13:57:17    City hotel   \n",
       "\n",
       "                                             Hangout  \\\n",
       "0                                   Good Environment   \n",
       "1  Facility, Good Environment, Affordable, Food a...   \n",
       "2                         Facility, Good Environment   \n",
       "3                         Facility, Good Environment   \n",
       "4                                   Good Environment   \n",
       "\n",
       "                         COVID-19 Situation satisfied           Reason  \\\n",
       "0                              Sanitization       Yes  Budget friendly   \n",
       "1  Sanitization, Temperature Checking, Mask       Yes     For the trip   \n",
       "2  Sanitization, Temperature Checking, Mask       Yes     For the trip   \n",
       "3  Sanitization, Temperature Checking, Mask       Yes     For the trip   \n",
       "4        Sanitization, Temperature Checking        No     For the trip   \n",
       "\n",
       "  Visit Types                    Why  did you choose this hotel?  \\\n",
       "0       Group                                      Good Facility   \n",
       "1       Group                                      Good Facility   \n",
       "2       Group                                      Good Facility   \n",
       "3       Group                                      Good Facility   \n",
       "4       Group  Good Facility, Acessibility, Dinning Option, S...   \n",
       "\n",
       "  staff friendly and helpful eat at the hotel     Rating  \\\n",
       "0                        Yes              Yes  Excellent   \n",
       "1                        Yes              Yes       Good   \n",
       "2                        Yes              Yes  Excellent   \n",
       "3                        Yes              Yes  Excellent   \n",
       "4                        Yes              Yes       Good   \n",
       "\n",
       "     Food Hygiene rating. stay hotel again    Overall Suggestion  \\\n",
       "0               Excellent              Yes  Satisfied         No   \n",
       "1  Generally Satisfactory           May be  Satisfied        Yes   \n",
       "2               Very Good           May be  Satisfied         No   \n",
       "3               Very Good           May be  Satisfied         No   \n",
       "4  Generally Satisfactory           May be  Satisfied        Yes   \n",
       "\n",
       "                         Recommend  \n",
       "0                        Very Nice  \n",
       "1                            good   \n",
       "2                        Very good  \n",
       "3                        Very good  \n",
       "4  Yes I will recommend this hotel  "
      ]
     },
     "execution_count": 199,
     "metadata": {},
     "output_type": "execute_result"
    }
   ],
   "source": [
    "df.head()"
   ]
  },
  {
   "cell_type": "code",
   "execution_count": 200,
   "metadata": {},
   "outputs": [],
   "source": [
    "df = df.rename(columns = {\"Why  did you choose this hotel?\" : \"Choose Hotel\"})"
   ]
  },
  {
   "cell_type": "code",
   "execution_count": 201,
   "metadata": {},
   "outputs": [],
   "source": [
    "df = df.rename(columns = {\"Overall were you satisfied, dissatisfied or neither?\":\"Overall\"})"
   ]
  },
  {
   "cell_type": "code",
   "execution_count": 202,
   "metadata": {},
   "outputs": [
    {
     "data": {
      "text/plain": [
       "Index(['Timestamp', 'Hotel Type', 'Hangout', 'COVID-19 Situation', 'satisfied',\n",
       "       'Reason', 'Visit Types', 'Choose Hotel', 'staff friendly and helpful',\n",
       "       'eat at the hotel', 'Rating', 'Food Hygiene rating.',\n",
       "       'stay hotel again', 'Overall', 'Suggestion', 'Recommend'],\n",
       "      dtype='object')"
      ]
     },
     "execution_count": 202,
     "metadata": {},
     "output_type": "execute_result"
    }
   ],
   "source": [
    "df.columns"
   ]
  },
  {
   "cell_type": "code",
   "execution_count": 203,
   "metadata": {},
   "outputs": [
    {
     "data": {
      "text/html": [
       "<div>\n",
       "<style scoped>\n",
       "    .dataframe tbody tr th:only-of-type {\n",
       "        vertical-align: middle;\n",
       "    }\n",
       "\n",
       "    .dataframe tbody tr th {\n",
       "        vertical-align: top;\n",
       "    }\n",
       "\n",
       "    .dataframe thead th {\n",
       "        text-align: right;\n",
       "    }\n",
       "</style>\n",
       "<table border=\"1\" class=\"dataframe\">\n",
       "  <thead>\n",
       "    <tr style=\"text-align: right;\">\n",
       "      <th></th>\n",
       "      <th>Timestamp</th>\n",
       "      <th>Hotel Type</th>\n",
       "      <th>Hangout</th>\n",
       "      <th>COVID-19 Situation</th>\n",
       "      <th>satisfied</th>\n",
       "      <th>Reason</th>\n",
       "      <th>Visit Types</th>\n",
       "      <th>Choose Hotel</th>\n",
       "      <th>staff friendly and helpful</th>\n",
       "      <th>eat at the hotel</th>\n",
       "      <th>Rating</th>\n",
       "      <th>Food Hygiene rating.</th>\n",
       "      <th>stay hotel again</th>\n",
       "      <th>Overall</th>\n",
       "      <th>Suggestion</th>\n",
       "      <th>Recommend</th>\n",
       "    </tr>\n",
       "  </thead>\n",
       "  <tbody>\n",
       "    <tr>\n",
       "      <th>0</th>\n",
       "      <td>20/02/2021 13:13:48</td>\n",
       "      <td>Resort hotel</td>\n",
       "      <td>Good Environment</td>\n",
       "      <td>Sanitization</td>\n",
       "      <td>Yes</td>\n",
       "      <td>Budget friendly</td>\n",
       "      <td>Group</td>\n",
       "      <td>Good Facility</td>\n",
       "      <td>Yes</td>\n",
       "      <td>Yes</td>\n",
       "      <td>Excellent</td>\n",
       "      <td>Excellent</td>\n",
       "      <td>Yes</td>\n",
       "      <td>Satisfied</td>\n",
       "      <td>No</td>\n",
       "      <td>Very Nice</td>\n",
       "    </tr>\n",
       "    <tr>\n",
       "      <th>1</th>\n",
       "      <td>20/02/2021 13:16:53</td>\n",
       "      <td>Resort hotel</td>\n",
       "      <td>Facility, Good Environment, Affordable, Food a...</td>\n",
       "      <td>Sanitization, Temperature Checking, Mask</td>\n",
       "      <td>Yes</td>\n",
       "      <td>For the trip</td>\n",
       "      <td>Group</td>\n",
       "      <td>Good Facility</td>\n",
       "      <td>Yes</td>\n",
       "      <td>Yes</td>\n",
       "      <td>Good</td>\n",
       "      <td>Generally Satisfactory</td>\n",
       "      <td>May be</td>\n",
       "      <td>Satisfied</td>\n",
       "      <td>Yes</td>\n",
       "      <td>good</td>\n",
       "    </tr>\n",
       "    <tr>\n",
       "      <th>2</th>\n",
       "      <td>20/02/2021 13:46:01</td>\n",
       "      <td>Resort hotel</td>\n",
       "      <td>Facility, Good Environment</td>\n",
       "      <td>Sanitization, Temperature Checking, Mask</td>\n",
       "      <td>Yes</td>\n",
       "      <td>For the trip</td>\n",
       "      <td>Group</td>\n",
       "      <td>Good Facility</td>\n",
       "      <td>Yes</td>\n",
       "      <td>Yes</td>\n",
       "      <td>Excellent</td>\n",
       "      <td>Very Good</td>\n",
       "      <td>May be</td>\n",
       "      <td>Satisfied</td>\n",
       "      <td>No</td>\n",
       "      <td>Very good</td>\n",
       "    </tr>\n",
       "    <tr>\n",
       "      <th>3</th>\n",
       "      <td>20/02/2021 13:46:08</td>\n",
       "      <td>Resort hotel</td>\n",
       "      <td>Facility, Good Environment</td>\n",
       "      <td>Sanitization, Temperature Checking, Mask</td>\n",
       "      <td>Yes</td>\n",
       "      <td>For the trip</td>\n",
       "      <td>Group</td>\n",
       "      <td>Good Facility</td>\n",
       "      <td>Yes</td>\n",
       "      <td>Yes</td>\n",
       "      <td>Excellent</td>\n",
       "      <td>Very Good</td>\n",
       "      <td>May be</td>\n",
       "      <td>Satisfied</td>\n",
       "      <td>No</td>\n",
       "      <td>Very good</td>\n",
       "    </tr>\n",
       "    <tr>\n",
       "      <th>4</th>\n",
       "      <td>20/02/2021 13:57:17</td>\n",
       "      <td>City hotel</td>\n",
       "      <td>Good Environment</td>\n",
       "      <td>Sanitization, Temperature Checking</td>\n",
       "      <td>No</td>\n",
       "      <td>For the trip</td>\n",
       "      <td>Group</td>\n",
       "      <td>Good Facility, Acessibility, Dinning Option, S...</td>\n",
       "      <td>Yes</td>\n",
       "      <td>Yes</td>\n",
       "      <td>Good</td>\n",
       "      <td>Generally Satisfactory</td>\n",
       "      <td>May be</td>\n",
       "      <td>Satisfied</td>\n",
       "      <td>Yes</td>\n",
       "      <td>Yes I will recommend this hotel</td>\n",
       "    </tr>\n",
       "    <tr>\n",
       "      <th>...</th>\n",
       "      <td>...</td>\n",
       "      <td>...</td>\n",
       "      <td>...</td>\n",
       "      <td>...</td>\n",
       "      <td>...</td>\n",
       "      <td>...</td>\n",
       "      <td>...</td>\n",
       "      <td>...</td>\n",
       "      <td>...</td>\n",
       "      <td>...</td>\n",
       "      <td>...</td>\n",
       "      <td>...</td>\n",
       "      <td>...</td>\n",
       "      <td>...</td>\n",
       "      <td>...</td>\n",
       "      <td>...</td>\n",
       "    </tr>\n",
       "    <tr>\n",
       "      <th>196</th>\n",
       "      <td>22/04/2021 19:41:57</td>\n",
       "      <td>City hotel</td>\n",
       "      <td>Affordable</td>\n",
       "      <td>Sanitization</td>\n",
       "      <td>Yes</td>\n",
       "      <td>For the trip</td>\n",
       "      <td>Alone</td>\n",
       "      <td>Hotel Loyalty</td>\n",
       "      <td>Yes</td>\n",
       "      <td>Yes</td>\n",
       "      <td>Good</td>\n",
       "      <td>Very Good</td>\n",
       "      <td>Yes</td>\n",
       "      <td>Satisfied</td>\n",
       "      <td>Yes</td>\n",
       "      <td>8/10</td>\n",
       "    </tr>\n",
       "    <tr>\n",
       "      <th>197</th>\n",
       "      <td>22/04/2021 19:42:25</td>\n",
       "      <td>Resort hotel</td>\n",
       "      <td>Affordable</td>\n",
       "      <td>Temperature Checking</td>\n",
       "      <td>Yes</td>\n",
       "      <td>Affordable</td>\n",
       "      <td>Group</td>\n",
       "      <td>Hotel Loyalty</td>\n",
       "      <td>Yes</td>\n",
       "      <td>Yes</td>\n",
       "      <td>Very Good</td>\n",
       "      <td>Very Good</td>\n",
       "      <td>Yes</td>\n",
       "      <td>Satisfied</td>\n",
       "      <td>Yes</td>\n",
       "      <td>8/10</td>\n",
       "    </tr>\n",
       "    <tr>\n",
       "      <th>198</th>\n",
       "      <td>22/04/2021 19:44:23</td>\n",
       "      <td>City hotel</td>\n",
       "      <td>Affordable</td>\n",
       "      <td>Temperature Checking</td>\n",
       "      <td>Yes</td>\n",
       "      <td>Affordable</td>\n",
       "      <td>Alone</td>\n",
       "      <td>Good Facility</td>\n",
       "      <td>Yes</td>\n",
       "      <td>Yes</td>\n",
       "      <td>Very Good</td>\n",
       "      <td>Very Good</td>\n",
       "      <td>Yes</td>\n",
       "      <td>Satisfied</td>\n",
       "      <td>Yes</td>\n",
       "      <td>7/10</td>\n",
       "    </tr>\n",
       "    <tr>\n",
       "      <th>199</th>\n",
       "      <td>22/04/2021 19:44:46</td>\n",
       "      <td>Resort hotel</td>\n",
       "      <td>Good Environment</td>\n",
       "      <td>Temperature Checking</td>\n",
       "      <td>Yes</td>\n",
       "      <td>Affordable</td>\n",
       "      <td>Alone</td>\n",
       "      <td>Acessibility</td>\n",
       "      <td>Yes</td>\n",
       "      <td>Yes</td>\n",
       "      <td>Very Good</td>\n",
       "      <td>Very Good</td>\n",
       "      <td>Yes</td>\n",
       "      <td>Satisfied</td>\n",
       "      <td>Yes</td>\n",
       "      <td>8/10</td>\n",
       "    </tr>\n",
       "    <tr>\n",
       "      <th>200</th>\n",
       "      <td>22/04/2021 19:45:10</td>\n",
       "      <td>Resort hotel</td>\n",
       "      <td>Affordable</td>\n",
       "      <td>Temperature Checking</td>\n",
       "      <td>Yes</td>\n",
       "      <td>For the trip</td>\n",
       "      <td>Group</td>\n",
       "      <td>Good Facility</td>\n",
       "      <td>Yes</td>\n",
       "      <td>Yes</td>\n",
       "      <td>Excellent</td>\n",
       "      <td>Excellent</td>\n",
       "      <td>Yes</td>\n",
       "      <td>Satisfied</td>\n",
       "      <td>Yes</td>\n",
       "      <td>10/10</td>\n",
       "    </tr>\n",
       "  </tbody>\n",
       "</table>\n",
       "<p>201 rows × 16 columns</p>\n",
       "</div>"
      ],
      "text/plain": [
       "               Timestamp    Hotel Type  \\\n",
       "0    20/02/2021 13:13:48  Resort hotel   \n",
       "1    20/02/2021 13:16:53  Resort hotel   \n",
       "2    20/02/2021 13:46:01  Resort hotel   \n",
       "3    20/02/2021 13:46:08  Resort hotel   \n",
       "4    20/02/2021 13:57:17    City hotel   \n",
       "..                   ...           ...   \n",
       "196  22/04/2021 19:41:57    City hotel   \n",
       "197  22/04/2021 19:42:25  Resort hotel   \n",
       "198  22/04/2021 19:44:23    City hotel   \n",
       "199  22/04/2021 19:44:46  Resort hotel   \n",
       "200  22/04/2021 19:45:10  Resort hotel   \n",
       "\n",
       "                                               Hangout  \\\n",
       "0                                     Good Environment   \n",
       "1    Facility, Good Environment, Affordable, Food a...   \n",
       "2                           Facility, Good Environment   \n",
       "3                           Facility, Good Environment   \n",
       "4                                     Good Environment   \n",
       "..                                                 ...   \n",
       "196                                         Affordable   \n",
       "197                                         Affordable   \n",
       "198                                         Affordable   \n",
       "199                                   Good Environment   \n",
       "200                                         Affordable   \n",
       "\n",
       "                           COVID-19 Situation satisfied           Reason  \\\n",
       "0                                Sanitization       Yes  Budget friendly   \n",
       "1    Sanitization, Temperature Checking, Mask       Yes     For the trip   \n",
       "2    Sanitization, Temperature Checking, Mask       Yes     For the trip   \n",
       "3    Sanitization, Temperature Checking, Mask       Yes     For the trip   \n",
       "4          Sanitization, Temperature Checking        No     For the trip   \n",
       "..                                        ...       ...              ...   \n",
       "196                              Sanitization       Yes     For the trip   \n",
       "197                      Temperature Checking       Yes       Affordable   \n",
       "198                      Temperature Checking       Yes       Affordable   \n",
       "199                      Temperature Checking       Yes       Affordable   \n",
       "200                      Temperature Checking       Yes     For the trip   \n",
       "\n",
       "    Visit Types                                       Choose Hotel  \\\n",
       "0         Group                                      Good Facility   \n",
       "1         Group                                      Good Facility   \n",
       "2         Group                                      Good Facility   \n",
       "3         Group                                      Good Facility   \n",
       "4         Group  Good Facility, Acessibility, Dinning Option, S...   \n",
       "..          ...                                                ...   \n",
       "196       Alone                                      Hotel Loyalty   \n",
       "197       Group                                      Hotel Loyalty   \n",
       "198       Alone                                      Good Facility   \n",
       "199       Alone                                       Acessibility   \n",
       "200       Group                                      Good Facility   \n",
       "\n",
       "    staff friendly and helpful eat at the hotel     Rating  \\\n",
       "0                          Yes              Yes  Excellent   \n",
       "1                          Yes              Yes       Good   \n",
       "2                          Yes              Yes  Excellent   \n",
       "3                          Yes              Yes  Excellent   \n",
       "4                          Yes              Yes       Good   \n",
       "..                         ...              ...        ...   \n",
       "196                        Yes              Yes       Good   \n",
       "197                        Yes              Yes  Very Good   \n",
       "198                        Yes              Yes  Very Good   \n",
       "199                        Yes              Yes  Very Good   \n",
       "200                        Yes              Yes  Excellent   \n",
       "\n",
       "       Food Hygiene rating. stay hotel again    Overall Suggestion  \\\n",
       "0                 Excellent              Yes  Satisfied         No   \n",
       "1    Generally Satisfactory           May be  Satisfied        Yes   \n",
       "2                 Very Good           May be  Satisfied         No   \n",
       "3                 Very Good           May be  Satisfied         No   \n",
       "4    Generally Satisfactory           May be  Satisfied        Yes   \n",
       "..                      ...              ...        ...        ...   \n",
       "196               Very Good              Yes  Satisfied        Yes   \n",
       "197               Very Good              Yes  Satisfied        Yes   \n",
       "198               Very Good              Yes  Satisfied        Yes   \n",
       "199               Very Good              Yes  Satisfied        Yes   \n",
       "200               Excellent              Yes  Satisfied        Yes   \n",
       "\n",
       "                           Recommend  \n",
       "0                          Very Nice  \n",
       "1                              good   \n",
       "2                          Very good  \n",
       "3                          Very good  \n",
       "4    Yes I will recommend this hotel  \n",
       "..                               ...  \n",
       "196                             8/10  \n",
       "197                             8/10  \n",
       "198                             7/10  \n",
       "199                             8/10  \n",
       "200                            10/10  \n",
       "\n",
       "[201 rows x 16 columns]"
      ]
     },
     "execution_count": 203,
     "metadata": {},
     "output_type": "execute_result"
    }
   ],
   "source": [
    "df"
   ]
  },
  {
   "cell_type": "code",
   "execution_count": 204,
   "metadata": {},
   "outputs": [],
   "source": [
    "df['Visit Types'] = df['Visit Types'].replace({'Alone':0,'Group':1})"
   ]
  },
  {
   "cell_type": "code",
   "execution_count": 205,
   "metadata": {},
   "outputs": [],
   "source": [
    "df['Reason'] = df['Reason'].replace({'Budget friendly':0, 'For the trip':1, 'Affordable':2, 'Facility':3, 'other':4})"
   ]
  },
  {
   "cell_type": "code",
   "execution_count": 206,
   "metadata": {},
   "outputs": [
    {
     "data": {
      "text/plain": [
       "array([0, 1, 2, 3, 4], dtype=int64)"
      ]
     },
     "execution_count": 206,
     "metadata": {},
     "output_type": "execute_result"
    }
   ],
   "source": [
    "features=df.Reason.unique()\n",
    "features"
   ]
  },
  {
   "cell_type": "code",
   "execution_count": 207,
   "metadata": {},
   "outputs": [
    {
     "data": {
      "text/html": [
       "<div>\n",
       "<style scoped>\n",
       "    .dataframe tbody tr th:only-of-type {\n",
       "        vertical-align: middle;\n",
       "    }\n",
       "\n",
       "    .dataframe tbody tr th {\n",
       "        vertical-align: top;\n",
       "    }\n",
       "\n",
       "    .dataframe thead th {\n",
       "        text-align: right;\n",
       "    }\n",
       "</style>\n",
       "<table border=\"1\" class=\"dataframe\">\n",
       "  <thead>\n",
       "    <tr style=\"text-align: right;\">\n",
       "      <th></th>\n",
       "      <th>Timestamp</th>\n",
       "      <th>Hotel Type</th>\n",
       "      <th>Hangout</th>\n",
       "      <th>COVID-19 Situation</th>\n",
       "      <th>satisfied</th>\n",
       "      <th>Reason</th>\n",
       "      <th>Visit Types</th>\n",
       "      <th>Choose Hotel</th>\n",
       "      <th>staff friendly and helpful</th>\n",
       "      <th>eat at the hotel</th>\n",
       "      <th>Rating</th>\n",
       "      <th>Food Hygiene rating.</th>\n",
       "      <th>stay hotel again</th>\n",
       "      <th>Overall</th>\n",
       "      <th>Suggestion</th>\n",
       "      <th>Recommend</th>\n",
       "    </tr>\n",
       "  </thead>\n",
       "  <tbody>\n",
       "    <tr>\n",
       "      <th>0</th>\n",
       "      <td>20/02/2021 13:13:48</td>\n",
       "      <td>Resort hotel</td>\n",
       "      <td>Good Environment</td>\n",
       "      <td>Sanitization</td>\n",
       "      <td>Yes</td>\n",
       "      <td>0</td>\n",
       "      <td>1</td>\n",
       "      <td>Good Facility</td>\n",
       "      <td>Yes</td>\n",
       "      <td>Yes</td>\n",
       "      <td>Excellent</td>\n",
       "      <td>Excellent</td>\n",
       "      <td>Yes</td>\n",
       "      <td>Satisfied</td>\n",
       "      <td>No</td>\n",
       "      <td>Very Nice</td>\n",
       "    </tr>\n",
       "    <tr>\n",
       "      <th>1</th>\n",
       "      <td>20/02/2021 13:16:53</td>\n",
       "      <td>Resort hotel</td>\n",
       "      <td>Facility, Good Environment, Affordable, Food a...</td>\n",
       "      <td>Sanitization, Temperature Checking, Mask</td>\n",
       "      <td>Yes</td>\n",
       "      <td>1</td>\n",
       "      <td>1</td>\n",
       "      <td>Good Facility</td>\n",
       "      <td>Yes</td>\n",
       "      <td>Yes</td>\n",
       "      <td>Good</td>\n",
       "      <td>Generally Satisfactory</td>\n",
       "      <td>May be</td>\n",
       "      <td>Satisfied</td>\n",
       "      <td>Yes</td>\n",
       "      <td>good</td>\n",
       "    </tr>\n",
       "    <tr>\n",
       "      <th>2</th>\n",
       "      <td>20/02/2021 13:46:01</td>\n",
       "      <td>Resort hotel</td>\n",
       "      <td>Facility, Good Environment</td>\n",
       "      <td>Sanitization, Temperature Checking, Mask</td>\n",
       "      <td>Yes</td>\n",
       "      <td>1</td>\n",
       "      <td>1</td>\n",
       "      <td>Good Facility</td>\n",
       "      <td>Yes</td>\n",
       "      <td>Yes</td>\n",
       "      <td>Excellent</td>\n",
       "      <td>Very Good</td>\n",
       "      <td>May be</td>\n",
       "      <td>Satisfied</td>\n",
       "      <td>No</td>\n",
       "      <td>Very good</td>\n",
       "    </tr>\n",
       "    <tr>\n",
       "      <th>3</th>\n",
       "      <td>20/02/2021 13:46:08</td>\n",
       "      <td>Resort hotel</td>\n",
       "      <td>Facility, Good Environment</td>\n",
       "      <td>Sanitization, Temperature Checking, Mask</td>\n",
       "      <td>Yes</td>\n",
       "      <td>1</td>\n",
       "      <td>1</td>\n",
       "      <td>Good Facility</td>\n",
       "      <td>Yes</td>\n",
       "      <td>Yes</td>\n",
       "      <td>Excellent</td>\n",
       "      <td>Very Good</td>\n",
       "      <td>May be</td>\n",
       "      <td>Satisfied</td>\n",
       "      <td>No</td>\n",
       "      <td>Very good</td>\n",
       "    </tr>\n",
       "    <tr>\n",
       "      <th>4</th>\n",
       "      <td>20/02/2021 13:57:17</td>\n",
       "      <td>City hotel</td>\n",
       "      <td>Good Environment</td>\n",
       "      <td>Sanitization, Temperature Checking</td>\n",
       "      <td>No</td>\n",
       "      <td>1</td>\n",
       "      <td>1</td>\n",
       "      <td>Good Facility, Acessibility, Dinning Option, S...</td>\n",
       "      <td>Yes</td>\n",
       "      <td>Yes</td>\n",
       "      <td>Good</td>\n",
       "      <td>Generally Satisfactory</td>\n",
       "      <td>May be</td>\n",
       "      <td>Satisfied</td>\n",
       "      <td>Yes</td>\n",
       "      <td>Yes I will recommend this hotel</td>\n",
       "    </tr>\n",
       "  </tbody>\n",
       "</table>\n",
       "</div>"
      ],
      "text/plain": [
       "             Timestamp    Hotel Type  \\\n",
       "0  20/02/2021 13:13:48  Resort hotel   \n",
       "1  20/02/2021 13:16:53  Resort hotel   \n",
       "2  20/02/2021 13:46:01  Resort hotel   \n",
       "3  20/02/2021 13:46:08  Resort hotel   \n",
       "4  20/02/2021 13:57:17    City hotel   \n",
       "\n",
       "                                             Hangout  \\\n",
       "0                                   Good Environment   \n",
       "1  Facility, Good Environment, Affordable, Food a...   \n",
       "2                         Facility, Good Environment   \n",
       "3                         Facility, Good Environment   \n",
       "4                                   Good Environment   \n",
       "\n",
       "                         COVID-19 Situation satisfied  Reason  Visit Types  \\\n",
       "0                              Sanitization       Yes       0            1   \n",
       "1  Sanitization, Temperature Checking, Mask       Yes       1            1   \n",
       "2  Sanitization, Temperature Checking, Mask       Yes       1            1   \n",
       "3  Sanitization, Temperature Checking, Mask       Yes       1            1   \n",
       "4        Sanitization, Temperature Checking        No       1            1   \n",
       "\n",
       "                                        Choose Hotel  \\\n",
       "0                                      Good Facility   \n",
       "1                                      Good Facility   \n",
       "2                                      Good Facility   \n",
       "3                                      Good Facility   \n",
       "4  Good Facility, Acessibility, Dinning Option, S...   \n",
       "\n",
       "  staff friendly and helpful eat at the hotel     Rating  \\\n",
       "0                        Yes              Yes  Excellent   \n",
       "1                        Yes              Yes       Good   \n",
       "2                        Yes              Yes  Excellent   \n",
       "3                        Yes              Yes  Excellent   \n",
       "4                        Yes              Yes       Good   \n",
       "\n",
       "     Food Hygiene rating. stay hotel again    Overall Suggestion  \\\n",
       "0               Excellent              Yes  Satisfied         No   \n",
       "1  Generally Satisfactory           May be  Satisfied        Yes   \n",
       "2               Very Good           May be  Satisfied         No   \n",
       "3               Very Good           May be  Satisfied         No   \n",
       "4  Generally Satisfactory           May be  Satisfied        Yes   \n",
       "\n",
       "                         Recommend  \n",
       "0                        Very Nice  \n",
       "1                            good   \n",
       "2                        Very good  \n",
       "3                        Very good  \n",
       "4  Yes I will recommend this hotel  "
      ]
     },
     "execution_count": 207,
     "metadata": {},
     "output_type": "execute_result"
    }
   ],
   "source": [
    "df.head()"
   ]
  },
  {
   "cell_type": "code",
   "execution_count": null,
   "metadata": {},
   "outputs": [],
   "source": []
  },
  {
   "cell_type": "code",
   "execution_count": 208,
   "metadata": {},
   "outputs": [],
   "source": [
    "df['Hotel Type'] = df['Hotel Type'].replace({'City hotel':0,'Resort hotel':1})\n"
   ]
  },
  {
   "cell_type": "code",
   "execution_count": 209,
   "metadata": {},
   "outputs": [
    {
     "data": {
      "text/html": [
       "<div>\n",
       "<style scoped>\n",
       "    .dataframe tbody tr th:only-of-type {\n",
       "        vertical-align: middle;\n",
       "    }\n",
       "\n",
       "    .dataframe tbody tr th {\n",
       "        vertical-align: top;\n",
       "    }\n",
       "\n",
       "    .dataframe thead th {\n",
       "        text-align: right;\n",
       "    }\n",
       "</style>\n",
       "<table border=\"1\" class=\"dataframe\">\n",
       "  <thead>\n",
       "    <tr style=\"text-align: right;\">\n",
       "      <th></th>\n",
       "      <th>Timestamp</th>\n",
       "      <th>Hotel Type</th>\n",
       "      <th>Hangout</th>\n",
       "      <th>COVID-19 Situation</th>\n",
       "      <th>satisfied</th>\n",
       "      <th>Reason</th>\n",
       "      <th>Visit Types</th>\n",
       "      <th>Choose Hotel</th>\n",
       "      <th>staff friendly and helpful</th>\n",
       "      <th>eat at the hotel</th>\n",
       "      <th>Rating</th>\n",
       "      <th>Food Hygiene rating.</th>\n",
       "      <th>stay hotel again</th>\n",
       "      <th>Overall</th>\n",
       "      <th>Suggestion</th>\n",
       "      <th>Recommend</th>\n",
       "    </tr>\n",
       "  </thead>\n",
       "  <tbody>\n",
       "    <tr>\n",
       "      <th>0</th>\n",
       "      <td>20/02/2021 13:13:48</td>\n",
       "      <td>1</td>\n",
       "      <td>Good Environment</td>\n",
       "      <td>Sanitization</td>\n",
       "      <td>Yes</td>\n",
       "      <td>0</td>\n",
       "      <td>1</td>\n",
       "      <td>Good Facility</td>\n",
       "      <td>Yes</td>\n",
       "      <td>Yes</td>\n",
       "      <td>Excellent</td>\n",
       "      <td>Excellent</td>\n",
       "      <td>Yes</td>\n",
       "      <td>Satisfied</td>\n",
       "      <td>No</td>\n",
       "      <td>Very Nice</td>\n",
       "    </tr>\n",
       "    <tr>\n",
       "      <th>1</th>\n",
       "      <td>20/02/2021 13:16:53</td>\n",
       "      <td>1</td>\n",
       "      <td>Facility, Good Environment, Affordable, Food a...</td>\n",
       "      <td>Sanitization, Temperature Checking, Mask</td>\n",
       "      <td>Yes</td>\n",
       "      <td>1</td>\n",
       "      <td>1</td>\n",
       "      <td>Good Facility</td>\n",
       "      <td>Yes</td>\n",
       "      <td>Yes</td>\n",
       "      <td>Good</td>\n",
       "      <td>Generally Satisfactory</td>\n",
       "      <td>May be</td>\n",
       "      <td>Satisfied</td>\n",
       "      <td>Yes</td>\n",
       "      <td>good</td>\n",
       "    </tr>\n",
       "    <tr>\n",
       "      <th>2</th>\n",
       "      <td>20/02/2021 13:46:01</td>\n",
       "      <td>1</td>\n",
       "      <td>Facility, Good Environment</td>\n",
       "      <td>Sanitization, Temperature Checking, Mask</td>\n",
       "      <td>Yes</td>\n",
       "      <td>1</td>\n",
       "      <td>1</td>\n",
       "      <td>Good Facility</td>\n",
       "      <td>Yes</td>\n",
       "      <td>Yes</td>\n",
       "      <td>Excellent</td>\n",
       "      <td>Very Good</td>\n",
       "      <td>May be</td>\n",
       "      <td>Satisfied</td>\n",
       "      <td>No</td>\n",
       "      <td>Very good</td>\n",
       "    </tr>\n",
       "    <tr>\n",
       "      <th>3</th>\n",
       "      <td>20/02/2021 13:46:08</td>\n",
       "      <td>1</td>\n",
       "      <td>Facility, Good Environment</td>\n",
       "      <td>Sanitization, Temperature Checking, Mask</td>\n",
       "      <td>Yes</td>\n",
       "      <td>1</td>\n",
       "      <td>1</td>\n",
       "      <td>Good Facility</td>\n",
       "      <td>Yes</td>\n",
       "      <td>Yes</td>\n",
       "      <td>Excellent</td>\n",
       "      <td>Very Good</td>\n",
       "      <td>May be</td>\n",
       "      <td>Satisfied</td>\n",
       "      <td>No</td>\n",
       "      <td>Very good</td>\n",
       "    </tr>\n",
       "    <tr>\n",
       "      <th>4</th>\n",
       "      <td>20/02/2021 13:57:17</td>\n",
       "      <td>0</td>\n",
       "      <td>Good Environment</td>\n",
       "      <td>Sanitization, Temperature Checking</td>\n",
       "      <td>No</td>\n",
       "      <td>1</td>\n",
       "      <td>1</td>\n",
       "      <td>Good Facility, Acessibility, Dinning Option, S...</td>\n",
       "      <td>Yes</td>\n",
       "      <td>Yes</td>\n",
       "      <td>Good</td>\n",
       "      <td>Generally Satisfactory</td>\n",
       "      <td>May be</td>\n",
       "      <td>Satisfied</td>\n",
       "      <td>Yes</td>\n",
       "      <td>Yes I will recommend this hotel</td>\n",
       "    </tr>\n",
       "  </tbody>\n",
       "</table>\n",
       "</div>"
      ],
      "text/plain": [
       "             Timestamp  Hotel Type  \\\n",
       "0  20/02/2021 13:13:48           1   \n",
       "1  20/02/2021 13:16:53           1   \n",
       "2  20/02/2021 13:46:01           1   \n",
       "3  20/02/2021 13:46:08           1   \n",
       "4  20/02/2021 13:57:17           0   \n",
       "\n",
       "                                             Hangout  \\\n",
       "0                                   Good Environment   \n",
       "1  Facility, Good Environment, Affordable, Food a...   \n",
       "2                         Facility, Good Environment   \n",
       "3                         Facility, Good Environment   \n",
       "4                                   Good Environment   \n",
       "\n",
       "                         COVID-19 Situation satisfied  Reason  Visit Types  \\\n",
       "0                              Sanitization       Yes       0            1   \n",
       "1  Sanitization, Temperature Checking, Mask       Yes       1            1   \n",
       "2  Sanitization, Temperature Checking, Mask       Yes       1            1   \n",
       "3  Sanitization, Temperature Checking, Mask       Yes       1            1   \n",
       "4        Sanitization, Temperature Checking        No       1            1   \n",
       "\n",
       "                                        Choose Hotel  \\\n",
       "0                                      Good Facility   \n",
       "1                                      Good Facility   \n",
       "2                                      Good Facility   \n",
       "3                                      Good Facility   \n",
       "4  Good Facility, Acessibility, Dinning Option, S...   \n",
       "\n",
       "  staff friendly and helpful eat at the hotel     Rating  \\\n",
       "0                        Yes              Yes  Excellent   \n",
       "1                        Yes              Yes       Good   \n",
       "2                        Yes              Yes  Excellent   \n",
       "3                        Yes              Yes  Excellent   \n",
       "4                        Yes              Yes       Good   \n",
       "\n",
       "     Food Hygiene rating. stay hotel again    Overall Suggestion  \\\n",
       "0               Excellent              Yes  Satisfied         No   \n",
       "1  Generally Satisfactory           May be  Satisfied        Yes   \n",
       "2               Very Good           May be  Satisfied         No   \n",
       "3               Very Good           May be  Satisfied         No   \n",
       "4  Generally Satisfactory           May be  Satisfied        Yes   \n",
       "\n",
       "                         Recommend  \n",
       "0                        Very Nice  \n",
       "1                            good   \n",
       "2                        Very good  \n",
       "3                        Very good  \n",
       "4  Yes I will recommend this hotel  "
      ]
     },
     "execution_count": 209,
     "metadata": {},
     "output_type": "execute_result"
    }
   ],
   "source": [
    "df.head()"
   ]
  },
  {
   "cell_type": "code",
   "execution_count": 210,
   "metadata": {},
   "outputs": [],
   "source": [
    "#df['Hangout'] = df['Hangout'].replace({'Facility':0,'Good Environment':1,'Affordable':2,'Food and Traditional Dish':3,'Facility, Good Environment, Affordable, Food and Traditional Dish':4,'Good Environment, Affordable, Food and Traditional Dish':5,'Facility, Good Environment, Food and Traditional Dish':6,'Facility, Good Environment, Affordable':7, 'Facility, Affordable':8,'Facility, Food and Traditional Dish':9,'Good Environment, Food and Traditional Dish':10,'Facility, Affordable, Food and Traditional Dish':11,'Facility, Good Environment':12,'Good Environment, Affordable':13,'Affordable, Food and Traditional Dish':14})"
   ]
  },
  {
   "cell_type": "code",
   "execution_count": 211,
   "metadata": {},
   "outputs": [
    {
     "data": {
      "text/plain": [
       "array(['Good Environment',\n",
       "       'Facility, Good Environment, Affordable, Food and Traditional Dish',\n",
       "       'Facility, Good Environment', 'Affordable',\n",
       "       'Good Environment, Affordable, Food and Traditional Dish',\n",
       "       'Good Environment, Affordable', 'Facility',\n",
       "       'Facility, Good Environment, Food and Traditional Dish',\n",
       "       'Affordable, Food and Traditional Dish',\n",
       "       'Food and Traditional Dish',\n",
       "       'Facility, Good Environment, Affordable', 'Facility, Affordable',\n",
       "       'Facility, Food and Traditional Dish',\n",
       "       'Good Environment, Food and Traditional Dish',\n",
       "       'Facility, Affordable, Food and Traditional Dish'], dtype=object)"
      ]
     },
     "execution_count": 211,
     "metadata": {},
     "output_type": "execute_result"
    }
   ],
   "source": [
    "h=df.Hangout.unique()\n",
    "h"
   ]
  },
  {
   "cell_type": "code",
   "execution_count": 212,
   "metadata": {},
   "outputs": [
    {
     "data": {
      "text/html": [
       "<div>\n",
       "<style scoped>\n",
       "    .dataframe tbody tr th:only-of-type {\n",
       "        vertical-align: middle;\n",
       "    }\n",
       "\n",
       "    .dataframe tbody tr th {\n",
       "        vertical-align: top;\n",
       "    }\n",
       "\n",
       "    .dataframe thead th {\n",
       "        text-align: right;\n",
       "    }\n",
       "</style>\n",
       "<table border=\"1\" class=\"dataframe\">\n",
       "  <thead>\n",
       "    <tr style=\"text-align: right;\">\n",
       "      <th></th>\n",
       "      <th>Timestamp</th>\n",
       "      <th>Hotel Type</th>\n",
       "      <th>Hangout</th>\n",
       "      <th>COVID-19 Situation</th>\n",
       "      <th>satisfied</th>\n",
       "      <th>Reason</th>\n",
       "      <th>Visit Types</th>\n",
       "      <th>Choose Hotel</th>\n",
       "      <th>staff friendly and helpful</th>\n",
       "      <th>eat at the hotel</th>\n",
       "      <th>Rating</th>\n",
       "      <th>Food Hygiene rating.</th>\n",
       "      <th>stay hotel again</th>\n",
       "      <th>Overall</th>\n",
       "      <th>Suggestion</th>\n",
       "      <th>Recommend</th>\n",
       "    </tr>\n",
       "  </thead>\n",
       "  <tbody>\n",
       "    <tr>\n",
       "      <th>0</th>\n",
       "      <td>20/02/2021 13:13:48</td>\n",
       "      <td>1</td>\n",
       "      <td>Good Environment</td>\n",
       "      <td>Sanitization</td>\n",
       "      <td>Yes</td>\n",
       "      <td>0</td>\n",
       "      <td>1</td>\n",
       "      <td>Good Facility</td>\n",
       "      <td>Yes</td>\n",
       "      <td>Yes</td>\n",
       "      <td>Excellent</td>\n",
       "      <td>Excellent</td>\n",
       "      <td>Yes</td>\n",
       "      <td>Satisfied</td>\n",
       "      <td>No</td>\n",
       "      <td>Very Nice</td>\n",
       "    </tr>\n",
       "    <tr>\n",
       "      <th>1</th>\n",
       "      <td>20/02/2021 13:16:53</td>\n",
       "      <td>1</td>\n",
       "      <td>Facility, Good Environment, Affordable, Food a...</td>\n",
       "      <td>Sanitization, Temperature Checking, Mask</td>\n",
       "      <td>Yes</td>\n",
       "      <td>1</td>\n",
       "      <td>1</td>\n",
       "      <td>Good Facility</td>\n",
       "      <td>Yes</td>\n",
       "      <td>Yes</td>\n",
       "      <td>Good</td>\n",
       "      <td>Generally Satisfactory</td>\n",
       "      <td>May be</td>\n",
       "      <td>Satisfied</td>\n",
       "      <td>Yes</td>\n",
       "      <td>good</td>\n",
       "    </tr>\n",
       "    <tr>\n",
       "      <th>2</th>\n",
       "      <td>20/02/2021 13:46:01</td>\n",
       "      <td>1</td>\n",
       "      <td>Facility, Good Environment</td>\n",
       "      <td>Sanitization, Temperature Checking, Mask</td>\n",
       "      <td>Yes</td>\n",
       "      <td>1</td>\n",
       "      <td>1</td>\n",
       "      <td>Good Facility</td>\n",
       "      <td>Yes</td>\n",
       "      <td>Yes</td>\n",
       "      <td>Excellent</td>\n",
       "      <td>Very Good</td>\n",
       "      <td>May be</td>\n",
       "      <td>Satisfied</td>\n",
       "      <td>No</td>\n",
       "      <td>Very good</td>\n",
       "    </tr>\n",
       "    <tr>\n",
       "      <th>3</th>\n",
       "      <td>20/02/2021 13:46:08</td>\n",
       "      <td>1</td>\n",
       "      <td>Facility, Good Environment</td>\n",
       "      <td>Sanitization, Temperature Checking, Mask</td>\n",
       "      <td>Yes</td>\n",
       "      <td>1</td>\n",
       "      <td>1</td>\n",
       "      <td>Good Facility</td>\n",
       "      <td>Yes</td>\n",
       "      <td>Yes</td>\n",
       "      <td>Excellent</td>\n",
       "      <td>Very Good</td>\n",
       "      <td>May be</td>\n",
       "      <td>Satisfied</td>\n",
       "      <td>No</td>\n",
       "      <td>Very good</td>\n",
       "    </tr>\n",
       "    <tr>\n",
       "      <th>4</th>\n",
       "      <td>20/02/2021 13:57:17</td>\n",
       "      <td>0</td>\n",
       "      <td>Good Environment</td>\n",
       "      <td>Sanitization, Temperature Checking</td>\n",
       "      <td>No</td>\n",
       "      <td>1</td>\n",
       "      <td>1</td>\n",
       "      <td>Good Facility, Acessibility, Dinning Option, S...</td>\n",
       "      <td>Yes</td>\n",
       "      <td>Yes</td>\n",
       "      <td>Good</td>\n",
       "      <td>Generally Satisfactory</td>\n",
       "      <td>May be</td>\n",
       "      <td>Satisfied</td>\n",
       "      <td>Yes</td>\n",
       "      <td>Yes I will recommend this hotel</td>\n",
       "    </tr>\n",
       "  </tbody>\n",
       "</table>\n",
       "</div>"
      ],
      "text/plain": [
       "             Timestamp  Hotel Type  \\\n",
       "0  20/02/2021 13:13:48           1   \n",
       "1  20/02/2021 13:16:53           1   \n",
       "2  20/02/2021 13:46:01           1   \n",
       "3  20/02/2021 13:46:08           1   \n",
       "4  20/02/2021 13:57:17           0   \n",
       "\n",
       "                                             Hangout  \\\n",
       "0                                   Good Environment   \n",
       "1  Facility, Good Environment, Affordable, Food a...   \n",
       "2                         Facility, Good Environment   \n",
       "3                         Facility, Good Environment   \n",
       "4                                   Good Environment   \n",
       "\n",
       "                         COVID-19 Situation satisfied  Reason  Visit Types  \\\n",
       "0                              Sanitization       Yes       0            1   \n",
       "1  Sanitization, Temperature Checking, Mask       Yes       1            1   \n",
       "2  Sanitization, Temperature Checking, Mask       Yes       1            1   \n",
       "3  Sanitization, Temperature Checking, Mask       Yes       1            1   \n",
       "4        Sanitization, Temperature Checking        No       1            1   \n",
       "\n",
       "                                        Choose Hotel  \\\n",
       "0                                      Good Facility   \n",
       "1                                      Good Facility   \n",
       "2                                      Good Facility   \n",
       "3                                      Good Facility   \n",
       "4  Good Facility, Acessibility, Dinning Option, S...   \n",
       "\n",
       "  staff friendly and helpful eat at the hotel     Rating  \\\n",
       "0                        Yes              Yes  Excellent   \n",
       "1                        Yes              Yes       Good   \n",
       "2                        Yes              Yes  Excellent   \n",
       "3                        Yes              Yes  Excellent   \n",
       "4                        Yes              Yes       Good   \n",
       "\n",
       "     Food Hygiene rating. stay hotel again    Overall Suggestion  \\\n",
       "0               Excellent              Yes  Satisfied         No   \n",
       "1  Generally Satisfactory           May be  Satisfied        Yes   \n",
       "2               Very Good           May be  Satisfied         No   \n",
       "3               Very Good           May be  Satisfied         No   \n",
       "4  Generally Satisfactory           May be  Satisfied        Yes   \n",
       "\n",
       "                         Recommend  \n",
       "0                        Very Nice  \n",
       "1                            good   \n",
       "2                        Very good  \n",
       "3                        Very good  \n",
       "4  Yes I will recommend this hotel  "
      ]
     },
     "execution_count": 212,
     "metadata": {},
     "output_type": "execute_result"
    }
   ],
   "source": [
    "df.head()"
   ]
  },
  {
   "cell_type": "code",
   "execution_count": 213,
   "metadata": {},
   "outputs": [
    {
     "data": {
      "text/html": [
       "<div>\n",
       "<style scoped>\n",
       "    .dataframe tbody tr th:only-of-type {\n",
       "        vertical-align: middle;\n",
       "    }\n",
       "\n",
       "    .dataframe tbody tr th {\n",
       "        vertical-align: top;\n",
       "    }\n",
       "\n",
       "    .dataframe thead th {\n",
       "        text-align: right;\n",
       "    }\n",
       "</style>\n",
       "<table border=\"1\" class=\"dataframe\">\n",
       "  <thead>\n",
       "    <tr style=\"text-align: right;\">\n",
       "      <th></th>\n",
       "      <th>Timestamp</th>\n",
       "      <th>Hotel Type</th>\n",
       "      <th>Hangout</th>\n",
       "      <th>COVID-19 Situation</th>\n",
       "      <th>satisfied</th>\n",
       "      <th>Reason</th>\n",
       "      <th>Visit Types</th>\n",
       "      <th>Choose Hotel</th>\n",
       "      <th>staff friendly and helpful</th>\n",
       "      <th>eat at the hotel</th>\n",
       "      <th>Rating</th>\n",
       "      <th>Food Hygiene rating.</th>\n",
       "      <th>stay hotel again</th>\n",
       "      <th>Overall</th>\n",
       "      <th>Suggestion</th>\n",
       "      <th>Recommend</th>\n",
       "    </tr>\n",
       "  </thead>\n",
       "  <tbody>\n",
       "    <tr>\n",
       "      <th>0</th>\n",
       "      <td>20/02/2021 13:13:48</td>\n",
       "      <td>1</td>\n",
       "      <td>Good Environment</td>\n",
       "      <td>Sanitization</td>\n",
       "      <td>Yes</td>\n",
       "      <td>0</td>\n",
       "      <td>1</td>\n",
       "      <td>Good Facility</td>\n",
       "      <td>Yes</td>\n",
       "      <td>Yes</td>\n",
       "      <td>Excellent</td>\n",
       "      <td>Excellent</td>\n",
       "      <td>Yes</td>\n",
       "      <td>Satisfied</td>\n",
       "      <td>No</td>\n",
       "      <td>Very Nice</td>\n",
       "    </tr>\n",
       "    <tr>\n",
       "      <th>1</th>\n",
       "      <td>20/02/2021 13:16:53</td>\n",
       "      <td>1</td>\n",
       "      <td>Facility, Good Environment, Affordable, Food a...</td>\n",
       "      <td>Sanitization, Temperature Checking, Mask</td>\n",
       "      <td>Yes</td>\n",
       "      <td>1</td>\n",
       "      <td>1</td>\n",
       "      <td>Good Facility</td>\n",
       "      <td>Yes</td>\n",
       "      <td>Yes</td>\n",
       "      <td>Good</td>\n",
       "      <td>Generally Satisfactory</td>\n",
       "      <td>May be</td>\n",
       "      <td>Satisfied</td>\n",
       "      <td>Yes</td>\n",
       "      <td>good</td>\n",
       "    </tr>\n",
       "    <tr>\n",
       "      <th>2</th>\n",
       "      <td>20/02/2021 13:46:01</td>\n",
       "      <td>1</td>\n",
       "      <td>Facility, Good Environment</td>\n",
       "      <td>Sanitization, Temperature Checking, Mask</td>\n",
       "      <td>Yes</td>\n",
       "      <td>1</td>\n",
       "      <td>1</td>\n",
       "      <td>Good Facility</td>\n",
       "      <td>Yes</td>\n",
       "      <td>Yes</td>\n",
       "      <td>Excellent</td>\n",
       "      <td>Very Good</td>\n",
       "      <td>May be</td>\n",
       "      <td>Satisfied</td>\n",
       "      <td>No</td>\n",
       "      <td>Very good</td>\n",
       "    </tr>\n",
       "    <tr>\n",
       "      <th>3</th>\n",
       "      <td>20/02/2021 13:46:08</td>\n",
       "      <td>1</td>\n",
       "      <td>Facility, Good Environment</td>\n",
       "      <td>Sanitization, Temperature Checking, Mask</td>\n",
       "      <td>Yes</td>\n",
       "      <td>1</td>\n",
       "      <td>1</td>\n",
       "      <td>Good Facility</td>\n",
       "      <td>Yes</td>\n",
       "      <td>Yes</td>\n",
       "      <td>Excellent</td>\n",
       "      <td>Very Good</td>\n",
       "      <td>May be</td>\n",
       "      <td>Satisfied</td>\n",
       "      <td>No</td>\n",
       "      <td>Very good</td>\n",
       "    </tr>\n",
       "    <tr>\n",
       "      <th>4</th>\n",
       "      <td>20/02/2021 13:57:17</td>\n",
       "      <td>0</td>\n",
       "      <td>Good Environment</td>\n",
       "      <td>Sanitization, Temperature Checking</td>\n",
       "      <td>No</td>\n",
       "      <td>1</td>\n",
       "      <td>1</td>\n",
       "      <td>Good Facility, Acessibility, Dinning Option, S...</td>\n",
       "      <td>Yes</td>\n",
       "      <td>Yes</td>\n",
       "      <td>Good</td>\n",
       "      <td>Generally Satisfactory</td>\n",
       "      <td>May be</td>\n",
       "      <td>Satisfied</td>\n",
       "      <td>Yes</td>\n",
       "      <td>Yes I will recommend this hotel</td>\n",
       "    </tr>\n",
       "    <tr>\n",
       "      <th>...</th>\n",
       "      <td>...</td>\n",
       "      <td>...</td>\n",
       "      <td>...</td>\n",
       "      <td>...</td>\n",
       "      <td>...</td>\n",
       "      <td>...</td>\n",
       "      <td>...</td>\n",
       "      <td>...</td>\n",
       "      <td>...</td>\n",
       "      <td>...</td>\n",
       "      <td>...</td>\n",
       "      <td>...</td>\n",
       "      <td>...</td>\n",
       "      <td>...</td>\n",
       "      <td>...</td>\n",
       "      <td>...</td>\n",
       "    </tr>\n",
       "    <tr>\n",
       "      <th>196</th>\n",
       "      <td>22/04/2021 19:41:57</td>\n",
       "      <td>0</td>\n",
       "      <td>Affordable</td>\n",
       "      <td>Sanitization</td>\n",
       "      <td>Yes</td>\n",
       "      <td>1</td>\n",
       "      <td>0</td>\n",
       "      <td>Hotel Loyalty</td>\n",
       "      <td>Yes</td>\n",
       "      <td>Yes</td>\n",
       "      <td>Good</td>\n",
       "      <td>Very Good</td>\n",
       "      <td>Yes</td>\n",
       "      <td>Satisfied</td>\n",
       "      <td>Yes</td>\n",
       "      <td>8/10</td>\n",
       "    </tr>\n",
       "    <tr>\n",
       "      <th>197</th>\n",
       "      <td>22/04/2021 19:42:25</td>\n",
       "      <td>1</td>\n",
       "      <td>Affordable</td>\n",
       "      <td>Temperature Checking</td>\n",
       "      <td>Yes</td>\n",
       "      <td>2</td>\n",
       "      <td>1</td>\n",
       "      <td>Hotel Loyalty</td>\n",
       "      <td>Yes</td>\n",
       "      <td>Yes</td>\n",
       "      <td>Very Good</td>\n",
       "      <td>Very Good</td>\n",
       "      <td>Yes</td>\n",
       "      <td>Satisfied</td>\n",
       "      <td>Yes</td>\n",
       "      <td>8/10</td>\n",
       "    </tr>\n",
       "    <tr>\n",
       "      <th>198</th>\n",
       "      <td>22/04/2021 19:44:23</td>\n",
       "      <td>0</td>\n",
       "      <td>Affordable</td>\n",
       "      <td>Temperature Checking</td>\n",
       "      <td>Yes</td>\n",
       "      <td>2</td>\n",
       "      <td>0</td>\n",
       "      <td>Good Facility</td>\n",
       "      <td>Yes</td>\n",
       "      <td>Yes</td>\n",
       "      <td>Very Good</td>\n",
       "      <td>Very Good</td>\n",
       "      <td>Yes</td>\n",
       "      <td>Satisfied</td>\n",
       "      <td>Yes</td>\n",
       "      <td>7/10</td>\n",
       "    </tr>\n",
       "    <tr>\n",
       "      <th>199</th>\n",
       "      <td>22/04/2021 19:44:46</td>\n",
       "      <td>1</td>\n",
       "      <td>Good Environment</td>\n",
       "      <td>Temperature Checking</td>\n",
       "      <td>Yes</td>\n",
       "      <td>2</td>\n",
       "      <td>0</td>\n",
       "      <td>Acessibility</td>\n",
       "      <td>Yes</td>\n",
       "      <td>Yes</td>\n",
       "      <td>Very Good</td>\n",
       "      <td>Very Good</td>\n",
       "      <td>Yes</td>\n",
       "      <td>Satisfied</td>\n",
       "      <td>Yes</td>\n",
       "      <td>8/10</td>\n",
       "    </tr>\n",
       "    <tr>\n",
       "      <th>200</th>\n",
       "      <td>22/04/2021 19:45:10</td>\n",
       "      <td>1</td>\n",
       "      <td>Affordable</td>\n",
       "      <td>Temperature Checking</td>\n",
       "      <td>Yes</td>\n",
       "      <td>1</td>\n",
       "      <td>1</td>\n",
       "      <td>Good Facility</td>\n",
       "      <td>Yes</td>\n",
       "      <td>Yes</td>\n",
       "      <td>Excellent</td>\n",
       "      <td>Excellent</td>\n",
       "      <td>Yes</td>\n",
       "      <td>Satisfied</td>\n",
       "      <td>Yes</td>\n",
       "      <td>10/10</td>\n",
       "    </tr>\n",
       "  </tbody>\n",
       "</table>\n",
       "<p>201 rows × 16 columns</p>\n",
       "</div>"
      ],
      "text/plain": [
       "               Timestamp  Hotel Type  \\\n",
       "0    20/02/2021 13:13:48           1   \n",
       "1    20/02/2021 13:16:53           1   \n",
       "2    20/02/2021 13:46:01           1   \n",
       "3    20/02/2021 13:46:08           1   \n",
       "4    20/02/2021 13:57:17           0   \n",
       "..                   ...         ...   \n",
       "196  22/04/2021 19:41:57           0   \n",
       "197  22/04/2021 19:42:25           1   \n",
       "198  22/04/2021 19:44:23           0   \n",
       "199  22/04/2021 19:44:46           1   \n",
       "200  22/04/2021 19:45:10           1   \n",
       "\n",
       "                                               Hangout  \\\n",
       "0                                     Good Environment   \n",
       "1    Facility, Good Environment, Affordable, Food a...   \n",
       "2                           Facility, Good Environment   \n",
       "3                           Facility, Good Environment   \n",
       "4                                     Good Environment   \n",
       "..                                                 ...   \n",
       "196                                         Affordable   \n",
       "197                                         Affordable   \n",
       "198                                         Affordable   \n",
       "199                                   Good Environment   \n",
       "200                                         Affordable   \n",
       "\n",
       "                           COVID-19 Situation satisfied  Reason  Visit Types  \\\n",
       "0                                Sanitization       Yes       0            1   \n",
       "1    Sanitization, Temperature Checking, Mask       Yes       1            1   \n",
       "2    Sanitization, Temperature Checking, Mask       Yes       1            1   \n",
       "3    Sanitization, Temperature Checking, Mask       Yes       1            1   \n",
       "4          Sanitization, Temperature Checking        No       1            1   \n",
       "..                                        ...       ...     ...          ...   \n",
       "196                              Sanitization       Yes       1            0   \n",
       "197                      Temperature Checking       Yes       2            1   \n",
       "198                      Temperature Checking       Yes       2            0   \n",
       "199                      Temperature Checking       Yes       2            0   \n",
       "200                      Temperature Checking       Yes       1            1   \n",
       "\n",
       "                                          Choose Hotel  \\\n",
       "0                                        Good Facility   \n",
       "1                                        Good Facility   \n",
       "2                                        Good Facility   \n",
       "3                                        Good Facility   \n",
       "4    Good Facility, Acessibility, Dinning Option, S...   \n",
       "..                                                 ...   \n",
       "196                                      Hotel Loyalty   \n",
       "197                                      Hotel Loyalty   \n",
       "198                                      Good Facility   \n",
       "199                                       Acessibility   \n",
       "200                                      Good Facility   \n",
       "\n",
       "    staff friendly and helpful eat at the hotel     Rating  \\\n",
       "0                          Yes              Yes  Excellent   \n",
       "1                          Yes              Yes       Good   \n",
       "2                          Yes              Yes  Excellent   \n",
       "3                          Yes              Yes  Excellent   \n",
       "4                          Yes              Yes       Good   \n",
       "..                         ...              ...        ...   \n",
       "196                        Yes              Yes       Good   \n",
       "197                        Yes              Yes  Very Good   \n",
       "198                        Yes              Yes  Very Good   \n",
       "199                        Yes              Yes  Very Good   \n",
       "200                        Yes              Yes  Excellent   \n",
       "\n",
       "       Food Hygiene rating. stay hotel again    Overall Suggestion  \\\n",
       "0                 Excellent              Yes  Satisfied         No   \n",
       "1    Generally Satisfactory           May be  Satisfied        Yes   \n",
       "2                 Very Good           May be  Satisfied         No   \n",
       "3                 Very Good           May be  Satisfied         No   \n",
       "4    Generally Satisfactory           May be  Satisfied        Yes   \n",
       "..                      ...              ...        ...        ...   \n",
       "196               Very Good              Yes  Satisfied        Yes   \n",
       "197               Very Good              Yes  Satisfied        Yes   \n",
       "198               Very Good              Yes  Satisfied        Yes   \n",
       "199               Very Good              Yes  Satisfied        Yes   \n",
       "200               Excellent              Yes  Satisfied        Yes   \n",
       "\n",
       "                           Recommend  \n",
       "0                          Very Nice  \n",
       "1                              good   \n",
       "2                          Very good  \n",
       "3                          Very good  \n",
       "4    Yes I will recommend this hotel  \n",
       "..                               ...  \n",
       "196                             8/10  \n",
       "197                             8/10  \n",
       "198                             7/10  \n",
       "199                             8/10  \n",
       "200                            10/10  \n",
       "\n",
       "[201 rows x 16 columns]"
      ]
     },
     "execution_count": 213,
     "metadata": {},
     "output_type": "execute_result"
    }
   ],
   "source": [
    "df.rename(columns={'What do you like to prefer more?':'Hotel Type', })"
   ]
  },
  {
   "cell_type": "code",
   "execution_count": 214,
   "metadata": {},
   "outputs": [
    {
     "data": {
      "text/plain": [
       "0"
      ]
     },
     "execution_count": 214,
     "metadata": {},
     "output_type": "execute_result"
    }
   ],
   "source": [
    "#Check for any duplicate values\n",
    "df.duplicated().sum()"
   ]
  },
  {
   "cell_type": "code",
   "execution_count": 215,
   "metadata": {},
   "outputs": [
    {
     "data": {
      "text/html": [
       "<div>\n",
       "<style scoped>\n",
       "    .dataframe tbody tr th:only-of-type {\n",
       "        vertical-align: middle;\n",
       "    }\n",
       "\n",
       "    .dataframe tbody tr th {\n",
       "        vertical-align: top;\n",
       "    }\n",
       "\n",
       "    .dataframe thead th {\n",
       "        text-align: right;\n",
       "    }\n",
       "</style>\n",
       "<table border=\"1\" class=\"dataframe\">\n",
       "  <thead>\n",
       "    <tr style=\"text-align: right;\">\n",
       "      <th></th>\n",
       "      <th>Timestamp</th>\n",
       "      <th>Hotel Type</th>\n",
       "      <th>Hangout</th>\n",
       "      <th>COVID-19 Situation</th>\n",
       "      <th>satisfied</th>\n",
       "      <th>Reason</th>\n",
       "      <th>Visit Types</th>\n",
       "      <th>Choose Hotel</th>\n",
       "      <th>staff friendly and helpful</th>\n",
       "      <th>eat at the hotel</th>\n",
       "      <th>Rating</th>\n",
       "      <th>Food Hygiene rating.</th>\n",
       "      <th>stay hotel again</th>\n",
       "      <th>Overall</th>\n",
       "      <th>Suggestion</th>\n",
       "      <th>Recommend</th>\n",
       "    </tr>\n",
       "  </thead>\n",
       "  <tbody>\n",
       "  </tbody>\n",
       "</table>\n",
       "</div>"
      ],
      "text/plain": [
       "Empty DataFrame\n",
       "Columns: [Timestamp, Hotel Type, Hangout, COVID-19 Situation, satisfied, Reason, Visit Types, Choose Hotel, staff friendly and helpful, eat at the hotel, Rating, Food Hygiene rating., stay hotel again, Overall, Suggestion, Recommend]\n",
       "Index: []"
      ]
     },
     "execution_count": 215,
     "metadata": {},
     "output_type": "execute_result"
    }
   ],
   "source": [
    "duplicate = df[df.duplicated()]\n",
    "duplicate"
   ]
  },
  {
   "cell_type": "code",
   "execution_count": 216,
   "metadata": {},
   "outputs": [],
   "source": [
    "df_New=pd.DataFrame.drop_duplicates(df)"
   ]
  },
  {
   "cell_type": "code",
   "execution_count": 217,
   "metadata": {},
   "outputs": [
    {
     "data": {
      "text/plain": [
       "0"
      ]
     },
     "execution_count": 217,
     "metadata": {},
     "output_type": "execute_result"
    }
   ],
   "source": [
    "df_New.duplicated().sum()"
   ]
  },
  {
   "cell_type": "code",
   "execution_count": 218,
   "metadata": {},
   "outputs": [
    {
     "data": {
      "text/plain": [
       "Timestamp                     0\n",
       "Hotel Type                    0\n",
       "Hangout                       0\n",
       "COVID-19 Situation            0\n",
       "satisfied                     0\n",
       "Reason                        0\n",
       "Visit Types                   0\n",
       "Choose Hotel                  0\n",
       "staff friendly and helpful    0\n",
       "eat at the hotel              0\n",
       "Rating                        0\n",
       "Food Hygiene rating.          0\n",
       "stay hotel again              0\n",
       "Overall                       0\n",
       "Suggestion                    0\n",
       "Recommend                     0\n",
       "dtype: int64"
      ]
     },
     "execution_count": 218,
     "metadata": {},
     "output_type": "execute_result"
    }
   ],
   "source": [
    "df.isnull().sum()"
   ]
  },
  {
   "cell_type": "code",
   "execution_count": 219,
   "metadata": {},
   "outputs": [
    {
     "name": "stdout",
     "output_type": "stream",
     "text": [
      "<class 'pandas.core.frame.DataFrame'>\n",
      "RangeIndex: 201 entries, 0 to 200\n",
      "Data columns (total 16 columns):\n",
      " #   Column                      Non-Null Count  Dtype \n",
      "---  ------                      --------------  ----- \n",
      " 0   Timestamp                   201 non-null    object\n",
      " 1   Hotel Type                  201 non-null    int64 \n",
      " 2   Hangout                     201 non-null    object\n",
      " 3   COVID-19 Situation          201 non-null    object\n",
      " 4   satisfied                   201 non-null    object\n",
      " 5   Reason                      201 non-null    int64 \n",
      " 6   Visit Types                 201 non-null    int64 \n",
      " 7   Choose Hotel                201 non-null    object\n",
      " 8   staff friendly and helpful  201 non-null    object\n",
      " 9   eat at the hotel            201 non-null    object\n",
      " 10  Rating                      201 non-null    object\n",
      " 11  Food Hygiene rating.        201 non-null    object\n",
      " 12  stay hotel again            201 non-null    object\n",
      " 13  Overall                     201 non-null    object\n",
      " 14  Suggestion                  201 non-null    object\n",
      " 15  Recommend                   201 non-null    object\n",
      "dtypes: int64(3), object(13)\n",
      "memory usage: 25.2+ KB\n"
     ]
    }
   ],
   "source": [
    "df.info()"
   ]
  },
  {
   "cell_type": "code",
   "execution_count": 220,
   "metadata": {},
   "outputs": [
    {
     "data": {
      "text/html": [
       "<div>\n",
       "<style scoped>\n",
       "    .dataframe tbody tr th:only-of-type {\n",
       "        vertical-align: middle;\n",
       "    }\n",
       "\n",
       "    .dataframe tbody tr th {\n",
       "        vertical-align: top;\n",
       "    }\n",
       "\n",
       "    .dataframe thead th {\n",
       "        text-align: right;\n",
       "    }\n",
       "</style>\n",
       "<table border=\"1\" class=\"dataframe\">\n",
       "  <thead>\n",
       "    <tr style=\"text-align: right;\">\n",
       "      <th></th>\n",
       "      <th>Missing</th>\n",
       "    </tr>\n",
       "  </thead>\n",
       "  <tbody>\n",
       "    <tr>\n",
       "      <th>Timestamp</th>\n",
       "      <td>0.0</td>\n",
       "    </tr>\n",
       "    <tr>\n",
       "      <th>Hotel Type</th>\n",
       "      <td>0.0</td>\n",
       "    </tr>\n",
       "    <tr>\n",
       "      <th>Hangout</th>\n",
       "      <td>0.0</td>\n",
       "    </tr>\n",
       "    <tr>\n",
       "      <th>COVID-19 Situation</th>\n",
       "      <td>0.0</td>\n",
       "    </tr>\n",
       "    <tr>\n",
       "      <th>satisfied</th>\n",
       "      <td>0.0</td>\n",
       "    </tr>\n",
       "    <tr>\n",
       "      <th>Reason</th>\n",
       "      <td>0.0</td>\n",
       "    </tr>\n",
       "    <tr>\n",
       "      <th>Visit Types</th>\n",
       "      <td>0.0</td>\n",
       "    </tr>\n",
       "    <tr>\n",
       "      <th>Choose Hotel</th>\n",
       "      <td>0.0</td>\n",
       "    </tr>\n",
       "    <tr>\n",
       "      <th>staff friendly and helpful</th>\n",
       "      <td>0.0</td>\n",
       "    </tr>\n",
       "    <tr>\n",
       "      <th>eat at the hotel</th>\n",
       "      <td>0.0</td>\n",
       "    </tr>\n",
       "    <tr>\n",
       "      <th>Rating</th>\n",
       "      <td>0.0</td>\n",
       "    </tr>\n",
       "    <tr>\n",
       "      <th>Food Hygiene rating.</th>\n",
       "      <td>0.0</td>\n",
       "    </tr>\n",
       "    <tr>\n",
       "      <th>stay hotel again</th>\n",
       "      <td>0.0</td>\n",
       "    </tr>\n",
       "    <tr>\n",
       "      <th>Overall</th>\n",
       "      <td>0.0</td>\n",
       "    </tr>\n",
       "    <tr>\n",
       "      <th>Suggestion</th>\n",
       "      <td>0.0</td>\n",
       "    </tr>\n",
       "    <tr>\n",
       "      <th>Recommend</th>\n",
       "      <td>0.0</td>\n",
       "    </tr>\n",
       "  </tbody>\n",
       "</table>\n",
       "</div>"
      ],
      "text/plain": [
       "                            Missing\n",
       "Timestamp                       0.0\n",
       "Hotel Type                      0.0\n",
       "Hangout                         0.0\n",
       "COVID-19 Situation              0.0\n",
       "satisfied                       0.0\n",
       "Reason                          0.0\n",
       "Visit Types                     0.0\n",
       "Choose Hotel                    0.0\n",
       "staff friendly and helpful      0.0\n",
       "eat at the hotel                0.0\n",
       "Rating                          0.0\n",
       "Food Hygiene rating.            0.0\n",
       "stay hotel again                0.0\n",
       "Overall                         0.0\n",
       "Suggestion                      0.0\n",
       "Recommend                       0.0"
      ]
     },
     "execution_count": 220,
     "metadata": {},
     "output_type": "execute_result"
    }
   ],
   "source": [
    "#check for missing values\n",
    "pd.DataFrame(round(df.isnull().sum()/df.shape[0]*100,3),columns=[\"Missing\"])"
   ]
  },
  {
   "cell_type": "code",
   "execution_count": 221,
   "metadata": {
    "scrolled": true
   },
   "outputs": [],
   "source": [
    "#df.drop(columns=\"Recommend\", inplace= True)\n",
    "#df_New"
   ]
  },
  {
   "cell_type": "code",
   "execution_count": 222,
   "metadata": {},
   "outputs": [
    {
     "data": {
      "text/plain": [
       "count    201.000000\n",
       "mean       0.616915\n",
       "std        0.487352\n",
       "min        0.000000\n",
       "25%        0.000000\n",
       "50%        1.000000\n",
       "75%        1.000000\n",
       "max        1.000000\n",
       "Name: Hotel Type, dtype: float64"
      ]
     },
     "execution_count": 222,
     "metadata": {},
     "output_type": "execute_result"
    }
   ],
   "source": [
    "#df['What do you like to prefer more?'].describe()\n",
    "df['Hotel Type'].describe()"
   ]
  },
  {
   "cell_type": "code",
   "execution_count": 223,
   "metadata": {},
   "outputs": [
    {
     "data": {
      "text/plain": [
       "count                  201\n",
       "unique                  15\n",
       "top       Good Environment\n",
       "freq                    51\n",
       "Name: Hangout, dtype: object"
      ]
     },
     "execution_count": 223,
     "metadata": {},
     "output_type": "execute_result"
    }
   ],
   "source": [
    "#df['Why do you like to hangout in this hotel?'].describe()\n",
    "df['Hangout'].describe()"
   ]
  },
  {
   "cell_type": "code",
   "execution_count": 224,
   "metadata": {},
   "outputs": [
    {
     "data": {
      "text/plain": [
       "count                                                  201\n",
       "unique                                                  13\n",
       "top       Sanitization, Temperature Checking, Mask, Gloves\n",
       "freq                                                    46\n",
       "Name: COVID-19 Situation, dtype: object"
      ]
     },
     "execution_count": 224,
     "metadata": {},
     "output_type": "execute_result"
    }
   ],
   "source": [
    "#df['Which kind of facilities are given in COVID-19 situation?'].describe()\n",
    "df['COVID-19 Situation'].describe()"
   ]
  },
  {
   "cell_type": "code",
   "execution_count": 225,
   "metadata": {},
   "outputs": [
    {
     "data": {
      "text/plain": [
       "count     201\n",
       "unique      2\n",
       "top       Yes\n",
       "freq      192\n",
       "Name: satisfied, dtype: object"
      ]
     },
     "execution_count": 225,
     "metadata": {},
     "output_type": "execute_result"
    }
   ],
   "source": [
    "#df['Are you satisfied with the above facilities?'].describe()\n",
    "df['satisfied'].describe()"
   ]
  },
  {
   "cell_type": "code",
   "execution_count": 226,
   "metadata": {},
   "outputs": [
    {
     "data": {
      "text/plain": [
       "count    201.000000\n",
       "mean       1.412935\n",
       "std        1.184750\n",
       "min        0.000000\n",
       "25%        1.000000\n",
       "50%        1.000000\n",
       "75%        2.000000\n",
       "max        4.000000\n",
       "Name: Reason, dtype: float64"
      ]
     },
     "execution_count": 226,
     "metadata": {},
     "output_type": "execute_result"
    }
   ],
   "source": [
    "#df['What was the reason for your visit?'].describe()\n",
    "df['Reason'].describe()"
   ]
  },
  {
   "cell_type": "code",
   "execution_count": 227,
   "metadata": {},
   "outputs": [
    {
     "data": {
      "text/plain": [
       "count    201.000000\n",
       "mean       0.746269\n",
       "std        0.436232\n",
       "min        0.000000\n",
       "25%        0.000000\n",
       "50%        1.000000\n",
       "75%        1.000000\n",
       "max        1.000000\n",
       "Name: Visit Types, dtype: float64"
      ]
     },
     "execution_count": 227,
     "metadata": {},
     "output_type": "execute_result"
    }
   ],
   "source": [
    "#df['Were you alone or in a group?'].describe()\n",
    "df['Visit Types'].describe()"
   ]
  },
  {
   "cell_type": "code",
   "execution_count": 228,
   "metadata": {},
   "outputs": [
    {
     "data": {
      "text/plain": [
       "count               201\n",
       "unique               29\n",
       "top       Good Facility\n",
       "freq                 70\n",
       "Name: Choose Hotel, dtype: object"
      ]
     },
     "execution_count": 228,
     "metadata": {},
     "output_type": "execute_result"
    }
   ],
   "source": [
    "#df['Why  did you choose this hotel?'].describe()\n",
    "df['Choose Hotel'].describe()"
   ]
  },
  {
   "cell_type": "code",
   "execution_count": 229,
   "metadata": {},
   "outputs": [
    {
     "data": {
      "text/plain": [
       "count     201\n",
       "unique      2\n",
       "top       Yes\n",
       "freq      196\n",
       "Name: staff friendly and helpful, dtype: object"
      ]
     },
     "execution_count": 229,
     "metadata": {},
     "output_type": "execute_result"
    }
   ],
   "source": [
    "#df['Were the staff friendly and helpful?'].describe()\n",
    "df['staff friendly and helpful'].describe()"
   ]
  },
  {
   "cell_type": "code",
   "execution_count": 230,
   "metadata": {},
   "outputs": [
    {
     "data": {
      "text/plain": [
       "count     201\n",
       "unique      2\n",
       "top       Yes\n",
       "freq      181\n",
       "Name: eat at the hotel, dtype: object"
      ]
     },
     "execution_count": 230,
     "metadata": {},
     "output_type": "execute_result"
    }
   ],
   "source": [
    "#df['Did you eat at the hotel?'].describe()\n",
    "df['eat at the hotel'].describe()"
   ]
  },
  {
   "cell_type": "code",
   "execution_count": 231,
   "metadata": {},
   "outputs": [
    {
     "data": {
      "text/plain": [
       "count           201\n",
       "unique            4\n",
       "top       Very Good\n",
       "freq             87\n",
       "Name: Rating, dtype: object"
      ]
     },
     "execution_count": 231,
     "metadata": {},
     "output_type": "execute_result"
    }
   ],
   "source": [
    "#df['How would you rate the hotel?'].describe()\n",
    "df['Rating'].describe()"
   ]
  },
  {
   "cell_type": "code",
   "execution_count": 232,
   "metadata": {},
   "outputs": [
    {
     "data": {
      "text/plain": [
       "count           201\n",
       "unique            7\n",
       "top       Excellent\n",
       "freq             49\n",
       "Name: Food Hygiene rating., dtype: object"
      ]
     },
     "execution_count": 232,
     "metadata": {},
     "output_type": "execute_result"
    }
   ],
   "source": [
    "#df['Food Hygiene rating.'].describe()\n",
    "df['Food Hygiene rating.'].describe()"
   ]
  },
  {
   "cell_type": "code",
   "execution_count": 233,
   "metadata": {},
   "outputs": [
    {
     "data": {
      "text/plain": [
       "count     201\n",
       "unique      3\n",
       "top       Yes\n",
       "freq      114\n",
       "Name: stay hotel again, dtype: object"
      ]
     },
     "execution_count": 233,
     "metadata": {},
     "output_type": "execute_result"
    }
   ],
   "source": [
    "#df['How Likely are you to stay at this hotel again?'].describe()\n",
    "df['stay hotel again'].describe()"
   ]
  },
  {
   "cell_type": "code",
   "execution_count": 234,
   "metadata": {},
   "outputs": [
    {
     "data": {
      "text/plain": [
       "count           201\n",
       "unique            4\n",
       "top       Satisfied\n",
       "freq            166\n",
       "Name: Overall, dtype: object"
      ]
     },
     "execution_count": 234,
     "metadata": {},
     "output_type": "execute_result"
    }
   ],
   "source": [
    "#df['Overall were you satisfied ,dissatisfied , or neither? '].describe()\n",
    "df['Overall'].describe()"
   ]
  },
  {
   "cell_type": "code",
   "execution_count": 235,
   "metadata": {},
   "outputs": [
    {
     "data": {
      "text/plain": [
       "count     201\n",
       "unique      2\n",
       "top       Yes\n",
       "freq      131\n",
       "Name: Suggestion, dtype: object"
      ]
     },
     "execution_count": 235,
     "metadata": {},
     "output_type": "execute_result"
    }
   ],
   "source": [
    "#df['Would you like to suggest them to improve their service? '].describe()\n",
    "df['Suggestion'].describe()"
   ]
  },
  {
   "cell_type": "code",
   "execution_count": 236,
   "metadata": {},
   "outputs": [],
   "source": [
    "# Resort Hotel=1 ,City Hotel=0"
   ]
  },
  {
   "cell_type": "code",
   "execution_count": 237,
   "metadata": {},
   "outputs": [
    {
     "data": {
      "image/png": "[encoded data removed]",
      "text/plain": [
       "<Figure size 576x576 with 1 Axes>"
      ]
     },
     "metadata": {},
     "output_type": "display_data"
    }
   ],
   "source": [
    "df['Hotel Type'].value_counts().plot(kind='pie',autopct='%1.2f%%',figsize=(8,8))\n",
    "plt.title(\"What do you like to prefer more?\")\n",
    "plt.show()"
   ]
  },
  {
   "cell_type": "code",
   "execution_count": 238,
   "metadata": {},
   "outputs": [
    {
     "data": {
      "image/png": "[encoded data removed]",
      "text/plain": [
       "<Figure size 720x576 with 1 Axes>"
      ]
     },
     "metadata": {
      "needs_background": "light"
     },
     "output_type": "display_data"
    }
   ],
   "source": [
    "df['Hangout'].value_counts().plot(kind='barh',figsize=(10,8))\n",
    "plt.title(\"Why do you like to hangout in this hotel?\")\n",
    "plt.show()"
   ]
  },
  {
   "cell_type": "code",
   "execution_count": 239,
   "metadata": {},
   "outputs": [
    {
     "data": {
      "image/png": "[encoded data removed]",
      "text/plain": [
       "<Figure size 720x576 with 1 Axes>"
      ]
     },
     "metadata": {
      "needs_background": "light"
     },
     "output_type": "display_data"
    }
   ],
   "source": [
    "df['Reason'].value_counts().plot(kind='bar',figsize=(10,8))\n",
    "plt.title(\"What was the reason for your visit?\")\n",
    "plt.show()"
   ]
  },
  {
   "cell_type": "code",
   "execution_count": 240,
   "metadata": {},
   "outputs": [
    {
     "data": {
      "image/png": "[encoded data removed]",
      "text/plain": [
       "<Figure size 720x576 with 1 Axes>"
      ]
     },
     "metadata": {
      "needs_background": "light"
     },
     "output_type": "display_data"
    }
   ],
   "source": [
    "df['COVID-19 Situation'].value_counts().plot(kind='barh',figsize=(10,8))\n",
    "plt.title(\"Which kind of facilities are given in COVID-19 situation?\")\n",
    "plt.show()"
   ]
  },
  {
   "cell_type": "code",
   "execution_count": 241,
   "metadata": {},
   "outputs": [
    {
     "data": {
      "image/png": "[encoded data removed]",
      "text/plain": [
       "<Figure size 1440x720 with 1 Axes>"
      ]
     },
     "metadata": {
      "needs_background": "light"
     },
     "output_type": "display_data"
    }
   ],
   "source": [
    "df['satisfied'].value_counts().plot(kind='bar',figsize=(20,10))\n",
    "plt.title(\"Are you satisfied with the above facilities?\")\n",
    "plt.axhline(0, color=\"k\");\n"
   ]
  },
  {
   "cell_type": "code",
   "execution_count": 242,
   "metadata": {},
   "outputs": [
    {
     "data": {
      "image/png": "[encoded data removed]",
      "text/plain": [
       "<Figure size 1440x720 with 1 Axes>"
      ]
     },
     "metadata": {
      "needs_background": "light"
     },
     "output_type": "display_data"
    }
   ],
   "source": [
    "\n",
    "df['Reason'].value_counts().plot(kind='bar',figsize=(20,10))\n",
    "plt.title(\"What was the reason for your visit?\")\n",
    "plt.show()"
   ]
  },
  {
   "cell_type": "code",
   "execution_count": 243,
   "metadata": {},
   "outputs": [
    {
     "data": {
      "image/png": "[encoded data removed]",
      "text/plain": [
       "<Figure size 1440x720 with 1 Axes>"
      ]
     },
     "metadata": {
      "needs_background": "light"
     },
     "output_type": "display_data"
    }
   ],
   "source": [
    "#'Alone':0,'Group':1\n",
    "df['Visit Types'].value_counts().plot(kind='bar',figsize=(20,10))\n",
    "plt.title(\"Were you alone or in a group?\")\n",
    "plt.show()"
   ]
  },
  {
   "cell_type": "code",
   "execution_count": 244,
   "metadata": {},
   "outputs": [
    {
     "data": {
      "image/png": "[encoded data removed]",
      "text/plain": [
       "<Figure size 1440x720 with 1 Axes>"
      ]
     },
     "metadata": {
      "needs_background": "light"
     },
     "output_type": "display_data"
    }
   ],
   "source": [
    "df['Choose Hotel'].value_counts().plot(kind='bar',figsize=(20,10))\n",
    "plt.title(\"Why  did you choose this hotel?\")\n",
    "plt.show()"
   ]
  },
  {
   "cell_type": "code",
   "execution_count": 245,
   "metadata": {},
   "outputs": [
    {
     "data": {
      "image/png": "[encoded data removed]",
      "text/plain": [
       "<Figure size 1440x720 with 1 Axes>"
      ]
     },
     "metadata": {
      "needs_background": "light"
     },
     "output_type": "display_data"
    }
   ],
   "source": [
    "df['staff friendly and helpful'].value_counts().plot(kind='bar',figsize=(20,10))\n",
    "plt.title(\"Were the staff friendly and helpful?\")\n",
    "plt.show()"
   ]
  },
  {
   "cell_type": "code",
   "execution_count": 246,
   "metadata": {},
   "outputs": [
    {
     "data": {
      "image/png": "[encoded data removed]",
      "text/plain": [
       "<Figure size 1440x720 with 1 Axes>"
      ]
     },
     "metadata": {
      "needs_background": "light"
     },
     "output_type": "display_data"
    }
   ],
   "source": [
    "df['eat at the hotel'].value_counts().plot(kind='bar',figsize=(20,10))\n",
    "plt.title(\"Did you eat at the hotel?\")\n",
    "plt.show()"
   ]
  },
  {
   "cell_type": "code",
   "execution_count": 247,
   "metadata": {},
   "outputs": [
    {
     "data": {
      "image/png": "[encoded data removed]",
      "text/plain": [
       "<Figure size 1440x720 with 1 Axes>"
      ]
     },
     "metadata": {
      "needs_background": "light"
     },
     "output_type": "display_data"
    }
   ],
   "source": [
    "df['Food Hygiene rating.'].value_counts().plot(kind='bar',figsize=(20,10))\n",
    "plt.title(\"Food Hygiene rating.\")\n",
    "plt.show()"
   ]
  },
  {
   "cell_type": "code",
   "execution_count": 248,
   "metadata": {},
   "outputs": [
    {
     "data": {
      "image/png": "[encoded data removed]",
      "text/plain": [
       "<Figure size 1440x720 with 1 Axes>"
      ]
     },
     "metadata": {
      "needs_background": "light"
     },
     "output_type": "display_data"
    }
   ],
   "source": [
    "df['Rating'].value_counts().plot(kind='bar',figsize=(20,10))\n",
    "plt.title(\"How would you rate the hotel?\")\n",
    "plt.show()"
   ]
  },
  {
   "cell_type": "code",
   "execution_count": 249,
   "metadata": {},
   "outputs": [
    {
     "data": {
      "image/png": "[encoded data removed]",
      "text/plain": [
       "<Figure size 1440x720 with 1 Axes>"
      ]
     },
     "metadata": {
      "needs_background": "light"
     },
     "output_type": "display_data"
    }
   ],
   "source": [
    "df['stay hotel again'].value_counts().plot(kind='bar',figsize=(20,10))\n",
    "plt.title(\"How Likely are you to stay at this hotel again?\")\n",
    "plt.show()"
   ]
  },
  {
   "cell_type": "code",
   "execution_count": 250,
   "metadata": {},
   "outputs": [
    {
     "data": {
      "image/png": "[encoded data removed]",
      "text/plain": [
       "<Figure size 1440x720 with 1 Axes>"
      ]
     },
     "metadata": {
      "needs_background": "light"
     },
     "output_type": "display_data"
    }
   ],
   "source": [
    "df['Overall'].value_counts().plot(kind='bar',figsize=(20,10))\n",
    "plt.title('Overall were you satisfied ,dissatisfied , or neither? ')\n",
    "plt.show()"
   ]
  },
  {
   "cell_type": "code",
   "execution_count": 251,
   "metadata": {},
   "outputs": [
    {
     "data": {
      "image/png": "[encoded data removed]",
      "text/plain": [
       "<Figure size 1440x720 with 1 Axes>"
      ]
     },
     "metadata": {
      "needs_background": "light"
     },
     "output_type": "display_data"
    }
   ],
   "source": [
    "df['Suggestion'].value_counts().plot(kind='bar',figsize=(20,10))\n",
    "plt.title('Would you like to suggest them to improve their service? ')\n",
    "plt.show()"
   ]
  },
  {
   "cell_type": "code",
   "execution_count": 252,
   "metadata": {},
   "outputs": [],
   "source": [
    "#df['Rating'] = df['Rating'].replace({'Excellent':1,'Very Good':2,'Good':3,'Poor':4})"
   ]
  },
  {
   "cell_type": "code",
   "execution_count": 253,
   "metadata": {},
   "outputs": [],
   "source": [
    "from sklearn.model_selection import train_test_split\n"
   ]
  },
  {
   "cell_type": "code",
   "execution_count": null,
   "metadata": {},
   "outputs": [],
   "source": [
    "train, test = train_test_split(df,test_size=0.25)"
   ]
  },
  {
   "cell_type": "code",
   "execution_count": 261,
   "metadata": {},
   "outputs": [
    {
     "data": {
      "text/plain": [
       "(150, 16)"
      ]
     },
     "execution_count": 261,
     "metadata": {},
     "output_type": "execute_result"
    }
   ],
   "source": [
    "train.shape"
   ]
  },
  {
   "cell_type": "code",
   "execution_count": 262,
   "metadata": {},
   "outputs": [
    {
     "data": {
      "text/plain": [
       "(51, 16)"
      ]
     },
     "execution_count": 262,
     "metadata": {},
     "output_type": "execute_result"
    }
   ],
   "source": [
    "test.shape"
   ]
  },
  {
   "cell_type": "code",
   "execution_count": 263,
   "metadata": {},
   "outputs": [
    {
     "data": {
      "text/html": [
       "<div>\n",
       "<style scoped>\n",
       "    .dataframe tbody tr th:only-of-type {\n",
       "        vertical-align: middle;\n",
       "    }\n",
       "\n",
       "    .dataframe tbody tr th {\n",
       "        vertical-align: top;\n",
       "    }\n",
       "\n",
       "    .dataframe thead th {\n",
       "        text-align: right;\n",
       "    }\n",
       "</style>\n",
       "<table border=\"1\" class=\"dataframe\">\n",
       "  <thead>\n",
       "    <tr style=\"text-align: right;\">\n",
       "      <th></th>\n",
       "      <th>Timestamp</th>\n",
       "      <th>Hotel Type</th>\n",
       "      <th>Hangout</th>\n",
       "      <th>COVID-19 Situation</th>\n",
       "      <th>satisfied</th>\n",
       "      <th>Reason</th>\n",
       "      <th>Visit Types</th>\n",
       "      <th>Choose Hotel</th>\n",
       "      <th>staff friendly and helpful</th>\n",
       "      <th>eat at the hotel</th>\n",
       "      <th>Rating</th>\n",
       "      <th>Food Hygiene rating.</th>\n",
       "      <th>stay hotel again</th>\n",
       "      <th>Overall</th>\n",
       "      <th>Suggestion</th>\n",
       "      <th>Recommend</th>\n",
       "    </tr>\n",
       "  </thead>\n",
       "  <tbody>\n",
       "    <tr>\n",
       "      <th>133</th>\n",
       "      <td>07/04/2021 16:57:08</td>\n",
       "      <td>1</td>\n",
       "      <td>Good Environment</td>\n",
       "      <td>Sanitization</td>\n",
       "      <td>Yes</td>\n",
       "      <td>1</td>\n",
       "      <td>1</td>\n",
       "      <td>Good Facility</td>\n",
       "      <td>Yes</td>\n",
       "      <td>Yes</td>\n",
       "      <td>Very Good</td>\n",
       "      <td>Excellent</td>\n",
       "      <td>Yes</td>\n",
       "      <td>Satisfied</td>\n",
       "      <td>No</td>\n",
       "      <td>10_20</td>\n",
       "    </tr>\n",
       "    <tr>\n",
       "      <th>88</th>\n",
       "      <td>21/02/2021 15:29:52</td>\n",
       "      <td>0</td>\n",
       "      <td>Facility, Affordable, Food and Traditional Dish</td>\n",
       "      <td>Sanitization, Temperature Checking, Mask</td>\n",
       "      <td>Yes</td>\n",
       "      <td>4</td>\n",
       "      <td>1</td>\n",
       "      <td>Good Facility, Safety</td>\n",
       "      <td>Yes</td>\n",
       "      <td>Yes</td>\n",
       "      <td>Good</td>\n",
       "      <td>Good</td>\n",
       "      <td>May be</td>\n",
       "      <td>Satisfied</td>\n",
       "      <td>No</td>\n",
       "      <td>Nothing</td>\n",
       "    </tr>\n",
       "    <tr>\n",
       "      <th>49</th>\n",
       "      <td>20/02/2021 21:40:45</td>\n",
       "      <td>1</td>\n",
       "      <td>Good Environment</td>\n",
       "      <td>Temperature Checking</td>\n",
       "      <td>Yes</td>\n",
       "      <td>1</td>\n",
       "      <td>1</td>\n",
       "      <td>Good Facility</td>\n",
       "      <td>Yes</td>\n",
       "      <td>Yes</td>\n",
       "      <td>Very Good</td>\n",
       "      <td>Very Good</td>\n",
       "      <td>May be</td>\n",
       "      <td>Satisfied</td>\n",
       "      <td>Yes</td>\n",
       "      <td>Pallavi Avaida</td>\n",
       "    </tr>\n",
       "    <tr>\n",
       "      <th>64</th>\n",
       "      <td>20/02/2021 22:49:59</td>\n",
       "      <td>1</td>\n",
       "      <td>Facility, Good Environment, Food and Tradition...</td>\n",
       "      <td>Sanitization, Temperature Checking, Mask, Gloves</td>\n",
       "      <td>Yes</td>\n",
       "      <td>1</td>\n",
       "      <td>1</td>\n",
       "      <td>Good Facility, Safety</td>\n",
       "      <td>Yes</td>\n",
       "      <td>Yes</td>\n",
       "      <td>Very Good</td>\n",
       "      <td>Major Improvement Necessary</td>\n",
       "      <td>Yes</td>\n",
       "      <td>Satisfied</td>\n",
       "      <td>No</td>\n",
       "      <td>On scale of 10 I'll give 9</td>\n",
       "    </tr>\n",
       "    <tr>\n",
       "      <th>63</th>\n",
       "      <td>20/02/2021 22:30:49</td>\n",
       "      <td>1</td>\n",
       "      <td>Good Environment, Affordable</td>\n",
       "      <td>Sanitization, Temperature Checking, Mask</td>\n",
       "      <td>Yes</td>\n",
       "      <td>1</td>\n",
       "      <td>0</td>\n",
       "      <td>World Wide Availability</td>\n",
       "      <td>Yes</td>\n",
       "      <td>Yes</td>\n",
       "      <td>Good</td>\n",
       "      <td>Improvement Necessary</td>\n",
       "      <td>Yes</td>\n",
       "      <td>Satisfied</td>\n",
       "      <td>No</td>\n",
       "      <td>Ok</td>\n",
       "    </tr>\n",
       "  </tbody>\n",
       "</table>\n",
       "</div>"
      ],
      "text/plain": [
       "               Timestamp  Hotel Type  \\\n",
       "133  07/04/2021 16:57:08           1   \n",
       "88   21/02/2021 15:29:52           0   \n",
       "49   20/02/2021 21:40:45           1   \n",
       "64   20/02/2021 22:49:59           1   \n",
       "63   20/02/2021 22:30:49           1   \n",
       "\n",
       "                                               Hangout  \\\n",
       "133                                   Good Environment   \n",
       "88     Facility, Affordable, Food and Traditional Dish   \n",
       "49                                    Good Environment   \n",
       "64   Facility, Good Environment, Food and Tradition...   \n",
       "63                        Good Environment, Affordable   \n",
       "\n",
       "                                   COVID-19 Situation satisfied  Reason  \\\n",
       "133                                      Sanitization       Yes       1   \n",
       "88           Sanitization, Temperature Checking, Mask       Yes       4   \n",
       "49                               Temperature Checking       Yes       1   \n",
       "64   Sanitization, Temperature Checking, Mask, Gloves       Yes       1   \n",
       "63           Sanitization, Temperature Checking, Mask       Yes       1   \n",
       "\n",
       "     Visit Types             Choose Hotel staff friendly and helpful  \\\n",
       "133            1            Good Facility                        Yes   \n",
       "88             1    Good Facility, Safety                        Yes   \n",
       "49             1            Good Facility                        Yes   \n",
       "64             1    Good Facility, Safety                        Yes   \n",
       "63             0  World Wide Availability                        Yes   \n",
       "\n",
       "    eat at the hotel     Rating         Food Hygiene rating. stay hotel again  \\\n",
       "133              Yes  Very Good                    Excellent              Yes   \n",
       "88               Yes       Good                         Good           May be   \n",
       "49               Yes  Very Good                    Very Good           May be   \n",
       "64               Yes  Very Good  Major Improvement Necessary              Yes   \n",
       "63               Yes       Good        Improvement Necessary              Yes   \n",
       "\n",
       "       Overall Suggestion                   Recommend  \n",
       "133  Satisfied         No                       10_20  \n",
       "88   Satisfied         No                     Nothing  \n",
       "49   Satisfied        Yes              Pallavi Avaida  \n",
       "64   Satisfied         No  On scale of 10 I'll give 9  \n",
       "63   Satisfied         No                          Ok  "
      ]
     },
     "execution_count": 263,
     "metadata": {},
     "output_type": "execute_result"
    }
   ],
   "source": [
    "test.head()"
   ]
  },
  {
   "cell_type": "code",
   "execution_count": 264,
   "metadata": {},
   "outputs": [
    {
     "data": {
      "text/html": [
       "<div>\n",
       "<style scoped>\n",
       "    .dataframe tbody tr th:only-of-type {\n",
       "        vertical-align: middle;\n",
       "    }\n",
       "\n",
       "    .dataframe tbody tr th {\n",
       "        vertical-align: top;\n",
       "    }\n",
       "\n",
       "    .dataframe thead th {\n",
       "        text-align: right;\n",
       "    }\n",
       "</style>\n",
       "<table border=\"1\" class=\"dataframe\">\n",
       "  <thead>\n",
       "    <tr style=\"text-align: right;\">\n",
       "      <th></th>\n",
       "      <th>Timestamp</th>\n",
       "      <th>Hotel Type</th>\n",
       "      <th>Hangout</th>\n",
       "      <th>COVID-19 Situation</th>\n",
       "      <th>satisfied</th>\n",
       "      <th>Reason</th>\n",
       "      <th>Visit Types</th>\n",
       "      <th>Choose Hotel</th>\n",
       "      <th>staff friendly and helpful</th>\n",
       "      <th>eat at the hotel</th>\n",
       "      <th>Rating</th>\n",
       "      <th>Food Hygiene rating.</th>\n",
       "      <th>stay hotel again</th>\n",
       "      <th>Overall</th>\n",
       "      <th>Suggestion</th>\n",
       "      <th>Recommend</th>\n",
       "    </tr>\n",
       "  </thead>\n",
       "  <tbody>\n",
       "    <tr>\n",
       "      <th>1</th>\n",
       "      <td>20/02/2021 13:16:53</td>\n",
       "      <td>1</td>\n",
       "      <td>Facility, Good Environment, Affordable, Food a...</td>\n",
       "      <td>Sanitization, Temperature Checking, Mask</td>\n",
       "      <td>Yes</td>\n",
       "      <td>1</td>\n",
       "      <td>1</td>\n",
       "      <td>Good Facility</td>\n",
       "      <td>Yes</td>\n",
       "      <td>Yes</td>\n",
       "      <td>Good</td>\n",
       "      <td>Generally Satisfactory</td>\n",
       "      <td>May be</td>\n",
       "      <td>Satisfied</td>\n",
       "      <td>Yes</td>\n",
       "      <td>good</td>\n",
       "    </tr>\n",
       "    <tr>\n",
       "      <th>118</th>\n",
       "      <td>08/03/2021 06:29:51</td>\n",
       "      <td>0</td>\n",
       "      <td>Affordable</td>\n",
       "      <td>Temperature Checking</td>\n",
       "      <td>Yes</td>\n",
       "      <td>0</td>\n",
       "      <td>1</td>\n",
       "      <td>Acessibility</td>\n",
       "      <td>Yes</td>\n",
       "      <td>Yes</td>\n",
       "      <td>Excellent</td>\n",
       "      <td>Very Good</td>\n",
       "      <td>May be</td>\n",
       "      <td>Satisfied</td>\n",
       "      <td>Yes</td>\n",
       "      <td>I would like to recommend this hotel</td>\n",
       "    </tr>\n",
       "    <tr>\n",
       "      <th>115</th>\n",
       "      <td>06/03/2021 22:42:28</td>\n",
       "      <td>1</td>\n",
       "      <td>Facility, Good Environment, Affordable, Food a...</td>\n",
       "      <td>Sanitization, Temperature Checking, Mask, Gloves</td>\n",
       "      <td>Yes</td>\n",
       "      <td>1</td>\n",
       "      <td>1</td>\n",
       "      <td>Good Facility, Hotel Loyalty, Dinning Option, ...</td>\n",
       "      <td>Yes</td>\n",
       "      <td>No</td>\n",
       "      <td>Good</td>\n",
       "      <td>Good</td>\n",
       "      <td>Yes</td>\n",
       "      <td>Satisfied</td>\n",
       "      <td>No</td>\n",
       "      <td>Good</td>\n",
       "    </tr>\n",
       "    <tr>\n",
       "      <th>100</th>\n",
       "      <td>21/02/2021 23:41:03</td>\n",
       "      <td>1</td>\n",
       "      <td>Good Environment, Affordable</td>\n",
       "      <td>Sanitization, Temperature Checking, Mask, Gloves</td>\n",
       "      <td>Yes</td>\n",
       "      <td>1</td>\n",
       "      <td>1</td>\n",
       "      <td>Good Facility</td>\n",
       "      <td>Yes</td>\n",
       "      <td>Yes</td>\n",
       "      <td>Very Good</td>\n",
       "      <td>Generally Satisfactory</td>\n",
       "      <td>May be</td>\n",
       "      <td>Satisfied</td>\n",
       "      <td>Yes</td>\n",
       "      <td>Yes</td>\n",
       "    </tr>\n",
       "    <tr>\n",
       "      <th>95</th>\n",
       "      <td>21/02/2021 22:56:47</td>\n",
       "      <td>1</td>\n",
       "      <td>Good Environment</td>\n",
       "      <td>Mask</td>\n",
       "      <td>No</td>\n",
       "      <td>3</td>\n",
       "      <td>1</td>\n",
       "      <td>Good Facility</td>\n",
       "      <td>Yes</td>\n",
       "      <td>Yes</td>\n",
       "      <td>Good</td>\n",
       "      <td>Very Good</td>\n",
       "      <td>May be</td>\n",
       "      <td>Satisfied</td>\n",
       "      <td>Yes</td>\n",
       "      <td>Yes</td>\n",
       "    </tr>\n",
       "  </tbody>\n",
       "</table>\n",
       "</div>"
      ],
      "text/plain": [
       "               Timestamp  Hotel Type  \\\n",
       "1    20/02/2021 13:16:53           1   \n",
       "118  08/03/2021 06:29:51           0   \n",
       "115  06/03/2021 22:42:28           1   \n",
       "100  21/02/2021 23:41:03           1   \n",
       "95   21/02/2021 22:56:47           1   \n",
       "\n",
       "                                               Hangout  \\\n",
       "1    Facility, Good Environment, Affordable, Food a...   \n",
       "118                                         Affordable   \n",
       "115  Facility, Good Environment, Affordable, Food a...   \n",
       "100                       Good Environment, Affordable   \n",
       "95                                    Good Environment   \n",
       "\n",
       "                                   COVID-19 Situation satisfied  Reason  \\\n",
       "1            Sanitization, Temperature Checking, Mask       Yes       1   \n",
       "118                              Temperature Checking       Yes       0   \n",
       "115  Sanitization, Temperature Checking, Mask, Gloves       Yes       1   \n",
       "100  Sanitization, Temperature Checking, Mask, Gloves       Yes       1   \n",
       "95                                               Mask        No       3   \n",
       "\n",
       "     Visit Types                                       Choose Hotel  \\\n",
       "1              1                                      Good Facility   \n",
       "118            1                                       Acessibility   \n",
       "115            1  Good Facility, Hotel Loyalty, Dinning Option, ...   \n",
       "100            1                                      Good Facility   \n",
       "95             1                                      Good Facility   \n",
       "\n",
       "    staff friendly and helpful eat at the hotel     Rating  \\\n",
       "1                          Yes              Yes       Good   \n",
       "118                        Yes              Yes  Excellent   \n",
       "115                        Yes               No       Good   \n",
       "100                        Yes              Yes  Very Good   \n",
       "95                         Yes              Yes       Good   \n",
       "\n",
       "       Food Hygiene rating. stay hotel again    Overall Suggestion  \\\n",
       "1    Generally Satisfactory           May be  Satisfied        Yes   \n",
       "118               Very Good           May be  Satisfied        Yes   \n",
       "115                    Good              Yes  Satisfied         No   \n",
       "100  Generally Satisfactory           May be  Satisfied        Yes   \n",
       "95                Very Good           May be  Satisfied        Yes   \n",
       "\n",
       "                                Recommend  \n",
       "1                                   good   \n",
       "118  I would like to recommend this hotel  \n",
       "115                                  Good  \n",
       "100                                   Yes  \n",
       "95                                    Yes  "
      ]
     },
     "execution_count": 264,
     "metadata": {},
     "output_type": "execute_result"
    }
   ],
   "source": [
    "train.head()"
   ]
  },
  {
   "cell_type": "code",
   "execution_count": 265,
   "metadata": {},
   "outputs": [],
   "source": [
    "c1 = DecisionTreeClassifier(min_samples_split=100)\n",
    "c2 = DecisionTreeClassifier(min_samples_split=10)"
   ]
  },
  {
   "cell_type": "code",
   "execution_count": 266,
   "metadata": {},
   "outputs": [],
   "source": [
    "features =['Visit Types','Reason','Hotel Type']"
   ]
  },
  {
   "cell_type": "code",
   "execution_count": 267,
   "metadata": {},
   "outputs": [],
   "source": [
    "train, test = train_test_split(df_New, test_size=0.25)"
   ]
  },
  {
   "cell_type": "code",
   "execution_count": 268,
   "metadata": {},
   "outputs": [],
   "source": [
    "X_train = train[features]\n",
    "Y_train = train['satisfied']"
   ]
  },
  {
   "cell_type": "code",
   "execution_count": 269,
   "metadata": {},
   "outputs": [],
   "source": [
    "X_test = train[features]\n",
    "Y_test = train['satisfied']"
   ]
  },
  {
   "cell_type": "code",
   "execution_count": 270,
   "metadata": {},
   "outputs": [],
   "source": [
    "tree1 = c1.fit(X_train, Y_train)\n",
    "tree2 = c2.fit(X_train, Y_train)"
   ]
  },
  {
   "cell_type": "code",
   "execution_count": 271,
   "metadata": {},
   "outputs": [],
   "source": [
    "y_pred_t1 = c1.predict(X_train)\n",
    "y_pred_t2 = c2.predict(X_train)"
   ]
  },
  {
   "cell_type": "code",
   "execution_count": 272,
   "metadata": {},
   "outputs": [],
   "source": [
    "y_pred1 = c1.predict(X_test)\n",
    "y_pred2 = c2.predict(X_test)"
   ]
  },
  {
   "cell_type": "code",
   "execution_count": 273,
   "metadata": {},
   "outputs": [
    {
     "name": "stdout",
     "output_type": "stream",
     "text": [
      "Collecting package metadata (current_repodata.json): ...working... done\n",
      "Solving environment: ...working... done\n",
      "\n",
      "# All requested packages already installed.\n",
      "\n",
      "\n",
      "Note: you may need to restart the kernel to use updated packages.\n"
     ]
    }
   ],
   "source": [
    "conda install graphviz"
   ]
  },
  {
   "cell_type": "code",
   "execution_count": 274,
   "metadata": {},
   "outputs": [
    {
     "name": "stdout",
     "output_type": "stream",
     "text": [
      "Collecting package metadata (current_repodata.json): ...working... done\n",
      "Solving environment: ...working... done\n",
      "\n",
      "# All requested packages already installed.\n",
      "\n",
      "\n",
      "Note: you may need to restart the kernel to use updated packages.\n"
     ]
    }
   ],
   "source": [
    "conda install python-graphviz"
   ]
  },
  {
   "cell_type": "code",
   "execution_count": 275,
   "metadata": {},
   "outputs": [
    {
     "name": "stdout",
     "output_type": "stream",
     "text": [
      "Collecting package metadata (current_repodata.json): ...working... done\n",
      "Solving environment: ...working... done\n",
      "\n",
      "# All requested packages already installed.\n",
      "\n",
      "\n",
      "Note: you may need to restart the kernel to use updated packages.\n"
     ]
    }
   ],
   "source": [
    "conda install pydot"
   ]
  },
  {
   "cell_type": "code",
   "execution_count": 277,
   "metadata": {},
   "outputs": [],
   "source": [
    "from sklearn.tree import DecisionTreeClassifier"
   ]
  },
  {
   "cell_type": "code",
   "execution_count": 278,
   "metadata": {},
   "outputs": [],
   "source": [
    "dtree_algo = DecisionTreeClassifier()"
   ]
  },
  {
   "cell_type": "code",
   "execution_count": 279,
   "metadata": {},
   "outputs": [],
   "source": [
    "dtree = dtree_algo.fit(X_train, Y_train)"
   ]
  },
  {
   "cell_type": "code",
   "execution_count": 280,
   "metadata": {},
   "outputs": [],
   "source": [
    "dtree_pred= dtree_algo.predict(X_train)"
   ]
  },
  {
   "cell_type": "code",
   "execution_count": 281,
   "metadata": {},
   "outputs": [],
   "source": [
    "dtree_test_pred= dtree_algo.predict(X_test)"
   ]
  },
  {
   "cell_type": "code",
   "execution_count": 282,
   "metadata": {},
   "outputs": [
    {
     "name": "stdout",
     "output_type": "stream",
     "text": [
      "[[  4   4]\n",
      " [  4 138]]\n"
     ]
    }
   ],
   "source": [
    "print(confusion_matrix(Y_train,dtree_pred))"
   ]
  },
  {
   "cell_type": "code",
   "execution_count": 283,
   "metadata": {},
   "outputs": [
    {
     "name": "stdout",
     "output_type": "stream",
     "text": [
      "[[  4   4]\n",
      " [  4 138]]\n"
     ]
    }
   ],
   "source": [
    "print(confusion_matrix(Y_test,dtree_test_pred))"
   ]
  },
  {
   "cell_type": "code",
   "execution_count": 284,
   "metadata": {},
   "outputs": [
    {
     "name": "stdout",
     "output_type": "stream",
     "text": [
      "0.9466666666666667\n"
     ]
    }
   ],
   "source": [
    "print(accuracy_score(Y_train,dtree_pred))"
   ]
  },
  {
   "cell_type": "code",
   "execution_count": 285,
   "metadata": {},
   "outputs": [
    {
     "name": "stdout",
     "output_type": "stream",
     "text": [
      "0.9466666666666667\n"
     ]
    }
   ],
   "source": [
    "print(accuracy_score(Y_test,dtree_test_pred))"
   ]
  },
  {
   "cell_type": "code",
   "execution_count": 286,
   "metadata": {},
   "outputs": [
    {
     "name": "stdout",
     "output_type": "stream",
     "text": [
      "              precision    recall  f1-score   support\n",
      "\n",
      "          No       0.50      0.50      0.50         8\n",
      "         Yes       0.97      0.97      0.97       142\n",
      "\n",
      "    accuracy                           0.95       150\n",
      "   macro avg       0.74      0.74      0.74       150\n",
      "weighted avg       0.95      0.95      0.95       150\n",
      "\n"
     ]
    }
   ],
   "source": [
    "print(classification_report(Y_train,dtree_pred))"
   ]
  },
  {
   "cell_type": "code",
   "execution_count": 287,
   "metadata": {},
   "outputs": [
    {
     "name": "stdout",
     "output_type": "stream",
     "text": [
      "              precision    recall  f1-score   support\n",
      "\n",
      "          No       0.50      0.50      0.50         8\n",
      "         Yes       0.97      0.97      0.97       142\n",
      "\n",
      "    accuracy                           0.95       150\n",
      "   macro avg       0.74      0.74      0.74       150\n",
      "weighted avg       0.95      0.95      0.95       150\n",
      "\n"
     ]
    }
   ],
   "source": [
    "print(classification_report(Y_test,dtree_test_pred))"
   ]
  },
  {
   "cell_type": "markdown",
   "metadata": {},
   "source": [
    "# Support Vector Machine"
   ]
  },
  {
   "cell_type": "code",
   "execution_count": 289,
   "metadata": {},
   "outputs": [],
   "source": [
    "from sklearn import svm"
   ]
  },
  {
   "cell_type": "code",
   "execution_count": 290,
   "metadata": {},
   "outputs": [],
   "source": [
    "svmf = svm.SVC(C=10000000, kernel='rbf', degree=3)"
   ]
  },
  {
   "cell_type": "code",
   "execution_count": 291,
   "metadata": {},
   "outputs": [],
   "source": [
    "\n",
    "model_svm = svmf.fit(X_train, Y_train)"
   ]
  },
  {
   "cell_type": "code",
   "execution_count": 292,
   "metadata": {},
   "outputs": [],
   "source": [
    "pred_svm = model_svm.predict(X_test)"
   ]
  },
  {
   "cell_type": "code",
   "execution_count": 293,
   "metadata": {},
   "outputs": [
    {
     "data": {
      "text/plain": [
       "94.66666666666667"
      ]
     },
     "execution_count": 293,
     "metadata": {},
     "output_type": "execute_result"
    }
   ],
   "source": [
    "sat_test_score_svm = accuracy_score(Y_test, pred_svm)*100\n",
    "sat_test_score_svm"
   ]
  },
  {
   "cell_type": "code",
   "execution_count": null,
   "metadata": {},
   "outputs": [],
   "source": []
  }
 ],
 "metadata": {
  "kernelspec": {
   "display_name": "Python 3",
   "language": "python",
   "name": "python3"
  },
  "language_info": {
   "codemirror_mode": {
    "name": "ipython",
    "version": 3
   },
   "file_extension": ".py",
   "mimetype": "text/x-python",
   "name": "python",
   "nbconvert_exporter": "python",
   "pygments_lexer": "ipython3",
   "version": "3.8.5"
  }
 },
 "nbformat": 4,
 "nbformat_minor": 4
}
